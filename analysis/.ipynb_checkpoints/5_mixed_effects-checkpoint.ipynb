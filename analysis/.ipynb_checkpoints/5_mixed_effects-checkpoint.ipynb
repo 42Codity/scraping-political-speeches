{
 "cells": [
  {
   "cell_type": "markdown",
   "id": "096b4757",
   "metadata": {},
   "source": [
    "# 5. Mixed effects models"
   ]
  },
  {
   "cell_type": "code",
   "execution_count": 20,
   "id": "cfc7fac6",
   "metadata": {},
   "outputs": [],
   "source": [
    "import pandas as pd\n",
    "import numpy as np\n",
    "import statsmodels.api as sm\n",
    "import statsmodels.formula.api as smf\n",
    "import matplotlib.pyplot as plt\n",
    "from tqdm import tqdm\n",
    "tqdm.pandas()\n",
    "\n",
    "decomposed = pd.read_csv('scored_datasets/decomposed.csv')\n",
    "decomposed['party'] = [party if party!=\"NAN\" else \"OTH\" for party in decomposed.party]\n",
    "decomposed['date'] = decomposed.year.apply(lambda date: pd.to_datetime(date))\n",
    "decomposed['year'] = decomposed.date.apply(lambda date: date.year)"
   ]
  },
  {
   "cell_type": "markdown",
   "id": "10459d61",
   "metadata": {},
   "source": [
    "## Vagueness"
   ]
  },
  {
   "cell_type": "code",
   "execution_count": 31,
   "id": "5658c0a9",
   "metadata": {},
   "outputs": [
    {
     "name": "stdout",
     "output_type": "stream",
     "text": [
      "          Mixed Linear Model Regression Results\n",
      "=========================================================\n",
      "Model:            MixedLM Dependent Variable: vague_score\n",
      "No. Observations: 2065    Method:             REML       \n",
      "No. Groups:       1       Scale:              0.0000     \n",
      "Min. group size:  2065    Log-Likelihood:     11081.3162 \n",
      "Max. group size:  2065    Converged:          Yes        \n",
      "Mean group size:  2065.0                                 \n",
      "----------------------------------------------------------\n",
      "            Coef.  Std.Err.    z     P>|z|  [0.025  0.975]\n",
      "----------------------------------------------------------\n",
      "Intercept   0.124     0.003  39.151  0.000   0.118   0.130\n",
      "year        0.000     0.000  17.796  0.000   0.000   0.000\n",
      "party Var   0.000     0.000                               \n",
      "type Var    0.000     0.003                               \n",
      "=========================================================\n",
      "\n",
      "Coef. on year: 0.000027\n"
     ]
    },
    {
     "name": "stderr",
     "output_type": "stream",
     "text": [
      "C:\\Users\\natha\\anaconda3\\lib\\site-packages\\statsmodels\\regression\\mixed_linear_model.py:2237: ConvergenceWarning: The MLE may be on the boundary of the parameter space.\n",
      "  warnings.warn(msg, ConvergenceWarning)\n"
     ]
    }
   ],
   "source": [
    "vc = {\"type\": \"0 + C(type)\", \"party\": \"0 + C(party)\"}\n",
    "oo = np.ones(decomposed.shape[0])\n",
    "mod = sm.MixedLM.from_formula(\"vague_score ~ year\", groups=oo, vc_formula=vc, data=decomposed)\n",
    "res = mod.fit()\n",
    "print(res.summary())\n",
    "print(\"Coef. on year: {:.6f}\".format(res.params['year']))"
   ]
  },
  {
   "cell_type": "markdown",
   "id": "3c66091b",
   "metadata": {},
   "source": [
    "## Subjectivity"
   ]
  },
  {
   "cell_type": "code",
   "execution_count": 32,
   "id": "14881ea7",
   "metadata": {},
   "outputs": [
    {
     "name": "stdout",
     "output_type": "stream",
     "text": [
      "         Mixed Linear Model Regression Results\n",
      "========================================================\n",
      "Model:            MixedLM Dependent Variable: subj_score\n",
      "No. Observations: 2065    Method:             REML      \n",
      "No. Groups:       1       Scale:              0.0001    \n",
      "Min. group size:  2065    Log-Likelihood:     6753.1369 \n",
      "Max. group size:  2065    Converged:          Yes       \n",
      "Mean group size:  2065.0                                \n",
      "--------------------------------------------------------\n",
      "              Coef.  Std.Err.   z    P>|z| [0.025 0.975]\n",
      "--------------------------------------------------------\n",
      "Intercept      0.169    0.025  6.871 0.000  0.121  0.218\n",
      "year          -0.000    0.000 -2.780 0.005 -0.000 -0.000\n",
      "party Var      0.000    0.001                           \n",
      "type Var       0.000    0.000                           \n",
      "========================================================\n",
      "\n",
      "Coef. on year: -0.000034\n"
     ]
    },
    {
     "name": "stderr",
     "output_type": "stream",
     "text": [
      "C:\\Users\\natha\\anaconda3\\lib\\site-packages\\statsmodels\\regression\\mixed_linear_model.py:2237: ConvergenceWarning: The MLE may be on the boundary of the parameter space.\n",
      "  warnings.warn(msg, ConvergenceWarning)\n"
     ]
    }
   ],
   "source": [
    "vc = {\"type\": \"0 + C(type)\", \"party\": \"0 + C(party)\"}\n",
    "oo = np.ones(decomposed.shape[0])\n",
    "mod = sm.MixedLM.from_formula(\"subj_score ~ year\", groups=oo, vc_formula=vc, data=decomposed)\n",
    "res = mod.fit()\n",
    "print(res.summary())\n",
    "print(\"Coef. on year: {:.6f}\".format(res.params['year']))"
   ]
  },
  {
   "cell_type": "markdown",
   "id": "5a5c8394",
   "metadata": {},
   "source": [
    "## Emotionality"
   ]
  },
  {
   "cell_type": "code",
   "execution_count": 33,
   "id": "4b37e9bc",
   "metadata": {},
   "outputs": [
    {
     "name": "stdout",
     "output_type": "stream",
     "text": [
      "         Mixed Linear Model Regression Results\n",
      "========================================================\n",
      "Model:            MixedLM Dependent Variable: emot_score\n",
      "No. Observations: 2065    Method:             REML      \n",
      "No. Groups:       1       Scale:              0.0000    \n",
      "Min. group size:  2065    Log-Likelihood:     8762.9325 \n",
      "Max. group size:  2065    Converged:          Yes       \n",
      "Mean group size:  2065.0                                \n",
      "--------------------------------------------------------\n",
      "             Coef.  Std.Err.    z    P>|z| [0.025 0.975]\n",
      "--------------------------------------------------------\n",
      "Intercept    -0.123    0.010 -12.818 0.000 -0.142 -0.104\n",
      "year          0.000    0.000  31.140 0.000  0.000  0.000\n",
      "party Var     0.000    0.004                            \n",
      "type Var      0.000    0.002                            \n",
      "========================================================\n",
      "\n",
      "Coef. on year: 0.000145\n"
     ]
    },
    {
     "name": "stderr",
     "output_type": "stream",
     "text": [
      "C:\\Users\\natha\\anaconda3\\lib\\site-packages\\statsmodels\\regression\\mixed_linear_model.py:2237: ConvergenceWarning: The MLE may be on the boundary of the parameter space.\n",
      "  warnings.warn(msg, ConvergenceWarning)\n"
     ]
    }
   ],
   "source": [
    "vc = {\"type\": \"0 + C(type)\", \"party\": \"0 + C(party)\"}\n",
    "oo = np.ones(decomposed.shape[0])\n",
    "mod = sm.MixedLM.from_formula(\"emot_score ~ year\", groups=oo, vc_formula=vc, data=decomposed)\n",
    "res = mod.fit()\n",
    "print(res.summary())\n",
    "print(\"Coef. on year: {:.6f}\".format(res.params['year']))"
   ]
  }
 ],
 "metadata": {
  "kernelspec": {
   "display_name": "Python 3",
   "language": "python",
   "name": "python3"
  },
  "language_info": {
   "codemirror_mode": {
    "name": "ipython",
    "version": 3
   },
   "file_extension": ".py",
   "mimetype": "text/x-python",
   "name": "python",
   "nbconvert_exporter": "python",
   "pygments_lexer": "ipython3",
   "version": "3.8.11"
  }
 },
 "nbformat": 4,
 "nbformat_minor": 5
}
