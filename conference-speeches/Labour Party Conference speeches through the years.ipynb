{
 "cells": [
  {
   "cell_type": "markdown",
   "id": "5e4e590b",
   "metadata": {},
   "source": [
    "# Labour Party Conference speeches through the years\n",
    "\n",
    "## Data preparation\n",
    "\n",
    "We can use the existing `speeches_df.csv` file to trace changes in Labour leaders' speeches over time:"
   ]
  },
  {
   "cell_type": "code",
   "execution_count": 1,
   "id": "ccc48b67",
   "metadata": {},
   "outputs": [
    {
     "data": {
      "text/html": [
       "<div>\n",
       "<style scoped>\n",
       "    .dataframe tbody tr th:only-of-type {\n",
       "        vertical-align: middle;\n",
       "    }\n",
       "\n",
       "    .dataframe tbody tr th {\n",
       "        vertical-align: top;\n",
       "    }\n",
       "\n",
       "    .dataframe thead th {\n",
       "        text-align: right;\n",
       "    }\n",
       "</style>\n",
       "<table border=\"1\" class=\"dataframe\">\n",
       "  <thead>\n",
       "    <tr style=\"text-align: right;\">\n",
       "      <th></th>\n",
       "      <th>title</th>\n",
       "      <th>speaker</th>\n",
       "      <th>location</th>\n",
       "      <th>tags</th>\n",
       "      <th>commentary</th>\n",
       "      <th>content</th>\n",
       "      <th>party</th>\n",
       "      <th>year</th>\n",
       "    </tr>\n",
       "  </thead>\n",
       "  <tbody>\n",
       "    <tr>\n",
       "      <th>1</th>\n",
       "      <td>Leader's speech, Manchester 2006</td>\n",
       "      <td>Tony Blair</td>\n",
       "      <td>Manchester</td>\n",
       "      <td>NaN</td>\n",
       "      <td>This conference speech was Blairâs last as ...</td>\n",
       "      <td>I’d like to start by saying something very sim...</td>\n",
       "      <td>Labour</td>\n",
       "      <td>2006.0</td>\n",
       "    </tr>\n",
       "    <tr>\n",
       "      <th>152</th>\n",
       "      <td>Leader's speech, London 1924</td>\n",
       "      <td>J. Ramsay MacDonald</td>\n",
       "      <td>London</td>\n",
       "      <td>NaN</td>\n",
       "      <td>On 22 January 1924, Labour formed a Minority ...</td>\n",
       "      <td>Last year, that optimistic prophet and calcula...</td>\n",
       "      <td>Labour</td>\n",
       "      <td>1924.0</td>\n",
       "    </tr>\n",
       "    <tr>\n",
       "      <th>153</th>\n",
       "      <td>Leader's speech, Bournemouth 1946</td>\n",
       "      <td>Clement Attlee</td>\n",
       "      <td>Bournemouth</td>\n",
       "      <td>NaN</td>\n",
       "      <td>\\r\\n \\r\\n \\r\\n \\r\\n</td>\n",
       "      <td>I have heard many Parliamentary Reports moved ...</td>\n",
       "      <td>Labour</td>\n",
       "      <td>1946.0</td>\n",
       "    </tr>\n",
       "    <tr>\n",
       "      <th>154</th>\n",
       "      <td>Leader's speech, Margate 1947</td>\n",
       "      <td>Clement Attlee</td>\n",
       "      <td>Margate</td>\n",
       "      <td>NaN</td>\n",
       "      <td>\\r\\n \\r\\n</td>\n",
       "      <td>It is twenty-two months almost to a day since ...</td>\n",
       "      <td>Labour</td>\n",
       "      <td>1947.0</td>\n",
       "    </tr>\n",
       "    <tr>\n",
       "      <th>155</th>\n",
       "      <td>Leader's speech, Scarborough 1948</td>\n",
       "      <td>Clement Attlee</td>\n",
       "      <td>Scarborough</td>\n",
       "      <td>NaN</td>\n",
       "      <td>Since its last conference, Labour had nationa...</td>\n",
       "      <td>This records the activi­ties of the third year...</td>\n",
       "      <td>Labour</td>\n",
       "      <td>1948.0</td>\n",
       "    </tr>\n",
       "    <tr>\n",
       "      <th>...</th>\n",
       "      <td>...</td>\n",
       "      <td>...</td>\n",
       "      <td>...</td>\n",
       "      <td>...</td>\n",
       "      <td>...</td>\n",
       "      <td>...</td>\n",
       "      <td>...</td>\n",
       "      <td>...</td>\n",
       "    </tr>\n",
       "    <tr>\n",
       "      <th>346</th>\n",
       "      <td>Leader's speech, Manchester 2014</td>\n",
       "      <td>Ed Miliband</td>\n",
       "      <td>Manchester</td>\n",
       "      <td>NaN</td>\n",
       "      <td>NaN</td>\n",
       "      <td>It’s great to be at Labour Party Conference in...</td>\n",
       "      <td>Labour</td>\n",
       "      <td>2014.0</td>\n",
       "    </tr>\n",
       "    <tr>\n",
       "      <th>350</th>\n",
       "      <td>Leader's speech, Brighton 2015</td>\n",
       "      <td>Jeremy Corbyn</td>\n",
       "      <td>Brighton</td>\n",
       "      <td>NaN</td>\n",
       "      <td>NaN</td>\n",
       "      <td>Friends, thank you so much for that incredible...</td>\n",
       "      <td>Labour</td>\n",
       "      <td>2015.0</td>\n",
       "    </tr>\n",
       "    <tr>\n",
       "      <th>354</th>\n",
       "      <td>Leader's speech, Liverpool 2016</td>\n",
       "      <td>Jeremy Corbyn</td>\n",
       "      <td>Liverpool</td>\n",
       "      <td>NaN</td>\n",
       "      <td>NaN</td>\n",
       "      <td>Thank you for that introduction. And how brill...</td>\n",
       "      <td>Labour</td>\n",
       "      <td>2016.0</td>\n",
       "    </tr>\n",
       "    <tr>\n",
       "      <th>357</th>\n",
       "      <td>Leader's speech, Brighton 2017</td>\n",
       "      <td>Jeremy Corbyn</td>\n",
       "      <td>Brighton</td>\n",
       "      <td>NaN</td>\n",
       "      <td>NaN</td>\n",
       "      <td>We meet here this week as a united Party, adva...</td>\n",
       "      <td>Labour</td>\n",
       "      <td>2017.0</td>\n",
       "    </tr>\n",
       "    <tr>\n",
       "      <th>360</th>\n",
       "      <td>Leader's speech, Liverpool 2018</td>\n",
       "      <td>Jeremy Corbyn</td>\n",
       "      <td>Liverpool</td>\n",
       "      <td>NaN</td>\n",
       "      <td>NaN</td>\n",
       "      <td>Thank you for that welcome. I want to star...</td>\n",
       "      <td>Labour</td>\n",
       "      <td>2018.0</td>\n",
       "    </tr>\n",
       "  </tbody>\n",
       "</table>\n",
       "<p>123 rows × 8 columns</p>\n",
       "</div>"
      ],
      "text/plain": [
       "                                 title              speaker     location tags  \\\n",
       "1     Leader's speech, Manchester 2006           Tony Blair   Manchester  NaN   \n",
       "152       Leader's speech, London 1924  J. Ramsay MacDonald       London  NaN   \n",
       "153  Leader's speech, Bournemouth 1946       Clement Attlee  Bournemouth  NaN   \n",
       "154      Leader's speech, Margate 1947       Clement Attlee      Margate  NaN   \n",
       "155  Leader's speech, Scarborough 1948       Clement Attlee  Scarborough  NaN   \n",
       "..                                 ...                  ...          ...  ...   \n",
       "346   Leader's speech, Manchester 2014          Ed Miliband   Manchester  NaN   \n",
       "350     Leader's speech, Brighton 2015        Jeremy Corbyn     Brighton  NaN   \n",
       "354    Leader's speech, Liverpool 2016        Jeremy Corbyn    Liverpool  NaN   \n",
       "357     Leader's speech, Brighton 2017        Jeremy Corbyn     Brighton  NaN   \n",
       "360    Leader's speech, Liverpool 2018        Jeremy Corbyn    Liverpool  NaN   \n",
       "\n",
       "                                            commentary  \\\n",
       "1     This conference speech was Blairâs last as ...   \n",
       "152   On 22 January 1924, Labour formed a Minority ...   \n",
       "153                                \\r\\n \\r\\n \\r\\n \\r\\n   \n",
       "154                                          \\r\\n \\r\\n   \n",
       "155   Since its last conference, Labour had nationa...   \n",
       "..                                                 ...   \n",
       "346                                                NaN   \n",
       "350                                                NaN   \n",
       "354                                                NaN   \n",
       "357                                                NaN   \n",
       "360                                                NaN   \n",
       "\n",
       "                                               content   party    year  \n",
       "1    I’d like to start by saying something very sim...  Labour  2006.0  \n",
       "152  Last year, that optimistic prophet and calcula...  Labour  1924.0  \n",
       "153  I have heard many Parliamentary Reports moved ...  Labour  1946.0  \n",
       "154  It is twenty-two months almost to a day since ...  Labour  1947.0  \n",
       "155  This records the activi­ties of the third year...  Labour  1948.0  \n",
       "..                                                 ...     ...     ...  \n",
       "346  It’s great to be at Labour Party Conference in...  Labour  2014.0  \n",
       "350  Friends, thank you so much for that incredible...  Labour  2015.0  \n",
       "354  Thank you for that introduction. And how brill...  Labour  2016.0  \n",
       "357  We meet here this week as a united Party, adva...  Labour  2017.0  \n",
       "360      Thank you for that welcome. I want to star...  Labour  2018.0  \n",
       "\n",
       "[123 rows x 8 columns]"
      ]
     },
     "metadata": {},
     "output_type": "display_data"
    }
   ],
   "source": [
    "import pandas as pd\n",
    "from pathlib import Path\n",
    "path = Path().cwd()\n",
    "speeches_df = pd.read_csv(path / \"speeches_df.csv\")\n",
    "labour_df = speeches_df[speeches_df[\"party\"] == \"Labour\"]\n",
    "display(labour_df)"
   ]
  },
  {
   "cell_type": "markdown",
   "id": "268f9a22",
   "metadata": {},
   "source": [
    "## Sentiment analysis\n",
    "\n",
    "We can use VADER (see https://github.com/cjhutto/vaderSentiment) for sentiment analysis on each of these speeches. There are some major limitations of VADER for this application:\n",
    " * Language changes rapidly, and the speeches we have here date back to 1924 - so any comparisons over long periods of time should be taken with a very heavy pinch of salt.\n",
    " * VADER is sensitive to differences in transcription - so transcribing a piece of text in all-caps with three exclamation points would indicate more intense scores than transcribing the same piece of text with plain punctuation. This makes VADER great at handling the intensity of naturally written language, but pretty limited in handling spoken-then-transcribed language. \n",
    " * VADER takes _ages_ to run for each of the rows of the dataframe - so use a `tqdm` progress bar to save your sanity."
   ]
  },
  {
   "cell_type": "code",
   "execution_count": 2,
   "id": "9df69068",
   "metadata": {},
   "outputs": [],
   "source": [
    "from vaderSentiment.vaderSentiment import SentimentIntensityAnalyzer\n",
    "\n",
    "analyzer = SentimentIntensityAnalyzer()"
   ]
  },
  {
   "cell_type": "code",
   "execution_count": 3,
   "id": "934f5c95",
   "metadata": {},
   "outputs": [
    {
     "name": "stderr",
     "output_type": "stream",
     "text": [
      "progress bar: 100%|██████████████████████| 123/123 [11:23<00:00,  5.55s/it]\n",
      "C:\\Users\\natha\\AppData\\Local\\Temp/ipykernel_13652/3477291502.py:3: SettingWithCopyWarning: \n",
      "A value is trying to be set on a copy of a slice from a DataFrame.\n",
      "Try using .loc[row_indexer,col_indexer] = value instead\n",
      "\n",
      "See the caveats in the documentation: https://pandas.pydata.org/pandas-docs/stable/user_guide/indexing.html#returning-a-view-versus-a-copy\n",
      "  labour_df[\"polarity_scores\"] = labour_df[\"content\"].progress_map(lambda x: analyzer.polarity_scores(x))\n"
     ]
    }
   ],
   "source": [
    "from tqdm import tqdm\n",
    "tqdm.pandas(desc=\"progress bar\")\n",
    "labour_df[\"polarity_scores\"] = labour_df[\"content\"].progress_map(lambda x: analyzer.polarity_scores(x))"
   ]
  },
  {
   "cell_type": "code",
   "execution_count": 4,
   "id": "777c067a",
   "metadata": {},
   "outputs": [
    {
     "data": {
      "text/html": [
       "<div>\n",
       "<style scoped>\n",
       "    .dataframe tbody tr th:only-of-type {\n",
       "        vertical-align: middle;\n",
       "    }\n",
       "\n",
       "    .dataframe tbody tr th {\n",
       "        vertical-align: top;\n",
       "    }\n",
       "\n",
       "    .dataframe thead th {\n",
       "        text-align: right;\n",
       "    }\n",
       "</style>\n",
       "<table border=\"1\" class=\"dataframe\">\n",
       "  <thead>\n",
       "    <tr style=\"text-align: right;\">\n",
       "      <th></th>\n",
       "      <th>title</th>\n",
       "      <th>speaker</th>\n",
       "      <th>location</th>\n",
       "      <th>tags</th>\n",
       "      <th>commentary</th>\n",
       "      <th>content</th>\n",
       "      <th>party</th>\n",
       "      <th>year</th>\n",
       "      <th>polarity_scores</th>\n",
       "    </tr>\n",
       "  </thead>\n",
       "  <tbody>\n",
       "    <tr>\n",
       "      <th>1</th>\n",
       "      <td>Leader's speech, Manchester 2006</td>\n",
       "      <td>Tony Blair</td>\n",
       "      <td>Manchester</td>\n",
       "      <td>NaN</td>\n",
       "      <td>This conference speech was Blairâs last as ...</td>\n",
       "      <td>I’d like to start by saying something very sim...</td>\n",
       "      <td>Labour</td>\n",
       "      <td>2006.0</td>\n",
       "      <td>{'neg': 0.105, 'neu': 0.723, 'pos': 0.171, 'co...</td>\n",
       "    </tr>\n",
       "    <tr>\n",
       "      <th>152</th>\n",
       "      <td>Leader's speech, London 1924</td>\n",
       "      <td>J. Ramsay MacDonald</td>\n",
       "      <td>London</td>\n",
       "      <td>NaN</td>\n",
       "      <td>On 22 January 1924, Labour formed a Minority ...</td>\n",
       "      <td>Last year, that optimistic prophet and calcula...</td>\n",
       "      <td>Labour</td>\n",
       "      <td>1924.0</td>\n",
       "      <td>{'neg': 0.115, 'neu': 0.741, 'pos': 0.144, 'co...</td>\n",
       "    </tr>\n",
       "    <tr>\n",
       "      <th>153</th>\n",
       "      <td>Leader's speech, Bournemouth 1946</td>\n",
       "      <td>Clement Attlee</td>\n",
       "      <td>Bournemouth</td>\n",
       "      <td>NaN</td>\n",
       "      <td>\\r\\n \\r\\n \\r\\n \\r\\n</td>\n",
       "      <td>I have heard many Parliamentary Reports moved ...</td>\n",
       "      <td>Labour</td>\n",
       "      <td>1946.0</td>\n",
       "      <td>{'neg': 0.082, 'neu': 0.759, 'pos': 0.158, 'co...</td>\n",
       "    </tr>\n",
       "    <tr>\n",
       "      <th>154</th>\n",
       "      <td>Leader's speech, Margate 1947</td>\n",
       "      <td>Clement Attlee</td>\n",
       "      <td>Margate</td>\n",
       "      <td>NaN</td>\n",
       "      <td>\\r\\n \\r\\n</td>\n",
       "      <td>It is twenty-two months almost to a day since ...</td>\n",
       "      <td>Labour</td>\n",
       "      <td>1947.0</td>\n",
       "      <td>{'neg': 0.074, 'neu': 0.748, 'pos': 0.178, 'co...</td>\n",
       "    </tr>\n",
       "    <tr>\n",
       "      <th>155</th>\n",
       "      <td>Leader's speech, Scarborough 1948</td>\n",
       "      <td>Clement Attlee</td>\n",
       "      <td>Scarborough</td>\n",
       "      <td>NaN</td>\n",
       "      <td>Since its last conference, Labour had nationa...</td>\n",
       "      <td>This records the activi­ties of the third year...</td>\n",
       "      <td>Labour</td>\n",
       "      <td>1948.0</td>\n",
       "      <td>{'neg': 0.071, 'neu': 0.766, 'pos': 0.163, 'co...</td>\n",
       "    </tr>\n",
       "    <tr>\n",
       "      <th>...</th>\n",
       "      <td>...</td>\n",
       "      <td>...</td>\n",
       "      <td>...</td>\n",
       "      <td>...</td>\n",
       "      <td>...</td>\n",
       "      <td>...</td>\n",
       "      <td>...</td>\n",
       "      <td>...</td>\n",
       "      <td>...</td>\n",
       "    </tr>\n",
       "    <tr>\n",
       "      <th>346</th>\n",
       "      <td>Leader's speech, Manchester 2014</td>\n",
       "      <td>Ed Miliband</td>\n",
       "      <td>Manchester</td>\n",
       "      <td>NaN</td>\n",
       "      <td>NaN</td>\n",
       "      <td>It’s great to be at Labour Party Conference in...</td>\n",
       "      <td>Labour</td>\n",
       "      <td>2014.0</td>\n",
       "      <td>{'neg': 0.057, 'neu': 0.785, 'pos': 0.158, 'co...</td>\n",
       "    </tr>\n",
       "    <tr>\n",
       "      <th>350</th>\n",
       "      <td>Leader's speech, Brighton 2015</td>\n",
       "      <td>Jeremy Corbyn</td>\n",
       "      <td>Brighton</td>\n",
       "      <td>NaN</td>\n",
       "      <td>NaN</td>\n",
       "      <td>Friends, thank you so much for that incredible...</td>\n",
       "      <td>Labour</td>\n",
       "      <td>2015.0</td>\n",
       "      <td>{'neg': 0.09, 'neu': 0.715, 'pos': 0.195, 'com...</td>\n",
       "    </tr>\n",
       "    <tr>\n",
       "      <th>354</th>\n",
       "      <td>Leader's speech, Liverpool 2016</td>\n",
       "      <td>Jeremy Corbyn</td>\n",
       "      <td>Liverpool</td>\n",
       "      <td>NaN</td>\n",
       "      <td>NaN</td>\n",
       "      <td>Thank you for that introduction. And how brill...</td>\n",
       "      <td>Labour</td>\n",
       "      <td>2016.0</td>\n",
       "      <td>{'neg': 0.088, 'neu': 0.748, 'pos': 0.164, 'co...</td>\n",
       "    </tr>\n",
       "    <tr>\n",
       "      <th>357</th>\n",
       "      <td>Leader's speech, Brighton 2017</td>\n",
       "      <td>Jeremy Corbyn</td>\n",
       "      <td>Brighton</td>\n",
       "      <td>NaN</td>\n",
       "      <td>NaN</td>\n",
       "      <td>We meet here this week as a united Party, adva...</td>\n",
       "      <td>Labour</td>\n",
       "      <td>2017.0</td>\n",
       "      <td>{'neg': 0.109, 'neu': 0.753, 'pos': 0.137, 'co...</td>\n",
       "    </tr>\n",
       "    <tr>\n",
       "      <th>360</th>\n",
       "      <td>Leader's speech, Liverpool 2018</td>\n",
       "      <td>Jeremy Corbyn</td>\n",
       "      <td>Liverpool</td>\n",
       "      <td>NaN</td>\n",
       "      <td>NaN</td>\n",
       "      <td>Thank you for that welcome. I want to star...</td>\n",
       "      <td>Labour</td>\n",
       "      <td>2018.0</td>\n",
       "      <td>{'neg': 0.115, 'neu': 0.736, 'pos': 0.15, 'com...</td>\n",
       "    </tr>\n",
       "  </tbody>\n",
       "</table>\n",
       "<p>123 rows × 9 columns</p>\n",
       "</div>"
      ],
      "text/plain": [
       "                                 title              speaker     location tags  \\\n",
       "1     Leader's speech, Manchester 2006           Tony Blair   Manchester  NaN   \n",
       "152       Leader's speech, London 1924  J. Ramsay MacDonald       London  NaN   \n",
       "153  Leader's speech, Bournemouth 1946       Clement Attlee  Bournemouth  NaN   \n",
       "154      Leader's speech, Margate 1947       Clement Attlee      Margate  NaN   \n",
       "155  Leader's speech, Scarborough 1948       Clement Attlee  Scarborough  NaN   \n",
       "..                                 ...                  ...          ...  ...   \n",
       "346   Leader's speech, Manchester 2014          Ed Miliband   Manchester  NaN   \n",
       "350     Leader's speech, Brighton 2015        Jeremy Corbyn     Brighton  NaN   \n",
       "354    Leader's speech, Liverpool 2016        Jeremy Corbyn    Liverpool  NaN   \n",
       "357     Leader's speech, Brighton 2017        Jeremy Corbyn     Brighton  NaN   \n",
       "360    Leader's speech, Liverpool 2018        Jeremy Corbyn    Liverpool  NaN   \n",
       "\n",
       "                                            commentary  \\\n",
       "1     This conference speech was Blairâs last as ...   \n",
       "152   On 22 January 1924, Labour formed a Minority ...   \n",
       "153                                \\r\\n \\r\\n \\r\\n \\r\\n   \n",
       "154                                          \\r\\n \\r\\n   \n",
       "155   Since its last conference, Labour had nationa...   \n",
       "..                                                 ...   \n",
       "346                                                NaN   \n",
       "350                                                NaN   \n",
       "354                                                NaN   \n",
       "357                                                NaN   \n",
       "360                                                NaN   \n",
       "\n",
       "                                               content   party    year  \\\n",
       "1    I’d like to start by saying something very sim...  Labour  2006.0   \n",
       "152  Last year, that optimistic prophet and calcula...  Labour  1924.0   \n",
       "153  I have heard many Parliamentary Reports moved ...  Labour  1946.0   \n",
       "154  It is twenty-two months almost to a day since ...  Labour  1947.0   \n",
       "155  This records the activi­ties of the third year...  Labour  1948.0   \n",
       "..                                                 ...     ...     ...   \n",
       "346  It’s great to be at Labour Party Conference in...  Labour  2014.0   \n",
       "350  Friends, thank you so much for that incredible...  Labour  2015.0   \n",
       "354  Thank you for that introduction. And how brill...  Labour  2016.0   \n",
       "357  We meet here this week as a united Party, adva...  Labour  2017.0   \n",
       "360      Thank you for that welcome. I want to star...  Labour  2018.0   \n",
       "\n",
       "                                       polarity_scores  \n",
       "1    {'neg': 0.105, 'neu': 0.723, 'pos': 0.171, 'co...  \n",
       "152  {'neg': 0.115, 'neu': 0.741, 'pos': 0.144, 'co...  \n",
       "153  {'neg': 0.082, 'neu': 0.759, 'pos': 0.158, 'co...  \n",
       "154  {'neg': 0.074, 'neu': 0.748, 'pos': 0.178, 'co...  \n",
       "155  {'neg': 0.071, 'neu': 0.766, 'pos': 0.163, 'co...  \n",
       "..                                                 ...  \n",
       "346  {'neg': 0.057, 'neu': 0.785, 'pos': 0.158, 'co...  \n",
       "350  {'neg': 0.09, 'neu': 0.715, 'pos': 0.195, 'com...  \n",
       "354  {'neg': 0.088, 'neu': 0.748, 'pos': 0.164, 'co...  \n",
       "357  {'neg': 0.109, 'neu': 0.753, 'pos': 0.137, 'co...  \n",
       "360  {'neg': 0.115, 'neu': 0.736, 'pos': 0.15, 'com...  \n",
       "\n",
       "[123 rows x 9 columns]"
      ]
     },
     "metadata": {},
     "output_type": "display_data"
    }
   ],
   "source": [
    "display(labour_df)"
   ]
  },
  {
   "cell_type": "markdown",
   "id": "c91212cb",
   "metadata": {},
   "source": [
    "### Visualising sentiment over time\n",
    "\n",
    "We can start out by taking the polarity scores from out of the dictionary they're stored in and into their own columns:"
   ]
  },
  {
   "cell_type": "code",
   "execution_count": 62,
   "id": "00a2db05",
   "metadata": {},
   "outputs": [
    {
     "name": "stderr",
     "output_type": "stream",
     "text": [
      "C:\\Users\\natha\\AppData\\Local\\Temp/ipykernel_13652/3136326372.py:2: SettingWithCopyWarning: \n",
      "A value is trying to be set on a copy of a slice from a DataFrame.\n",
      "Try using .loc[row_indexer,col_indexer] = value instead\n",
      "\n",
      "See the caveats in the documentation: https://pandas.pydata.org/pandas-docs/stable/user_guide/indexing.html#returning-a-view-versus-a-copy\n",
      "  labour_df[\"neg\"] = labour_df[\"polarity_scores\"].map(lambda x: x['neg'])\n",
      "C:\\Users\\natha\\AppData\\Local\\Temp/ipykernel_13652/3136326372.py:3: SettingWithCopyWarning: \n",
      "A value is trying to be set on a copy of a slice from a DataFrame.\n",
      "Try using .loc[row_indexer,col_indexer] = value instead\n",
      "\n",
      "See the caveats in the documentation: https://pandas.pydata.org/pandas-docs/stable/user_guide/indexing.html#returning-a-view-versus-a-copy\n",
      "  labour_df[\"neu\"] = labour_df[\"polarity_scores\"].map(lambda x: x['neu'])\n",
      "C:\\Users\\natha\\AppData\\Local\\Temp/ipykernel_13652/3136326372.py:4: SettingWithCopyWarning: \n",
      "A value is trying to be set on a copy of a slice from a DataFrame.\n",
      "Try using .loc[row_indexer,col_indexer] = value instead\n",
      "\n",
      "See the caveats in the documentation: https://pandas.pydata.org/pandas-docs/stable/user_guide/indexing.html#returning-a-view-versus-a-copy\n",
      "  labour_df[\"pos\"] = labour_df[\"polarity_scores\"].map(lambda x: x['pos'])\n",
      "C:\\Users\\natha\\AppData\\Local\\Temp/ipykernel_13652/3136326372.py:5: SettingWithCopyWarning: \n",
      "A value is trying to be set on a copy of a slice from a DataFrame.\n",
      "Try using .loc[row_indexer,col_indexer] = value instead\n",
      "\n",
      "See the caveats in the documentation: https://pandas.pydata.org/pandas-docs/stable/user_guide/indexing.html#returning-a-view-versus-a-copy\n",
      "  labour_df[\"compound\"] = labour_df[\"polarity_scores\"].map(lambda x: x['compound'])\n"
     ]
    },
    {
     "data": {
      "text/html": [
       "<div>\n",
       "<style scoped>\n",
       "    .dataframe tbody tr th:only-of-type {\n",
       "        vertical-align: middle;\n",
       "    }\n",
       "\n",
       "    .dataframe tbody tr th {\n",
       "        vertical-align: top;\n",
       "    }\n",
       "\n",
       "    .dataframe thead th {\n",
       "        text-align: right;\n",
       "    }\n",
       "</style>\n",
       "<table border=\"1\" class=\"dataframe\">\n",
       "  <thead>\n",
       "    <tr style=\"text-align: right;\">\n",
       "      <th></th>\n",
       "      <th>title</th>\n",
       "      <th>variable</th>\n",
       "      <th>value</th>\n",
       "      <th>speaker</th>\n",
       "      <th>location</th>\n",
       "      <th>tags</th>\n",
       "      <th>commentary</th>\n",
       "      <th>content</th>\n",
       "      <th>party</th>\n",
       "      <th>year</th>\n",
       "    </tr>\n",
       "  </thead>\n",
       "  <tbody>\n",
       "    <tr>\n",
       "      <th>0</th>\n",
       "      <td>Leader's speech, Manchester 2006</td>\n",
       "      <td>neg</td>\n",
       "      <td>0.1050</td>\n",
       "      <td>Tony Blair</td>\n",
       "      <td>Manchester</td>\n",
       "      <td>NaN</td>\n",
       "      <td>This conference speech was Blairâs last as ...</td>\n",
       "      <td>I’d like to start by saying something very sim...</td>\n",
       "      <td>Labour</td>\n",
       "      <td>2006.0</td>\n",
       "    </tr>\n",
       "    <tr>\n",
       "      <th>1</th>\n",
       "      <td>Leader's speech, Manchester 2006</td>\n",
       "      <td>neu</td>\n",
       "      <td>0.7230</td>\n",
       "      <td>Tony Blair</td>\n",
       "      <td>Manchester</td>\n",
       "      <td>NaN</td>\n",
       "      <td>This conference speech was Blairâs last as ...</td>\n",
       "      <td>I’d like to start by saying something very sim...</td>\n",
       "      <td>Labour</td>\n",
       "      <td>2006.0</td>\n",
       "    </tr>\n",
       "    <tr>\n",
       "      <th>2</th>\n",
       "      <td>Leader's speech, Manchester 2006</td>\n",
       "      <td>pos</td>\n",
       "      <td>0.1710</td>\n",
       "      <td>Tony Blair</td>\n",
       "      <td>Manchester</td>\n",
       "      <td>NaN</td>\n",
       "      <td>This conference speech was Blairâs last as ...</td>\n",
       "      <td>I’d like to start by saying something very sim...</td>\n",
       "      <td>Labour</td>\n",
       "      <td>2006.0</td>\n",
       "    </tr>\n",
       "    <tr>\n",
       "      <th>3</th>\n",
       "      <td>Leader's speech, Manchester 2006</td>\n",
       "      <td>compound</td>\n",
       "      <td>0.9999</td>\n",
       "      <td>Tony Blair</td>\n",
       "      <td>Manchester</td>\n",
       "      <td>NaN</td>\n",
       "      <td>This conference speech was Blairâs last as ...</td>\n",
       "      <td>I’d like to start by saying something very sim...</td>\n",
       "      <td>Labour</td>\n",
       "      <td>2006.0</td>\n",
       "    </tr>\n",
       "    <tr>\n",
       "      <th>4</th>\n",
       "      <td>Leader's speech, London 1924</td>\n",
       "      <td>neg</td>\n",
       "      <td>0.1150</td>\n",
       "      <td>J. Ramsay MacDonald</td>\n",
       "      <td>London</td>\n",
       "      <td>NaN</td>\n",
       "      <td>On 22 January 1924, Labour formed a Minority ...</td>\n",
       "      <td>Last year, that optimistic prophet and calcula...</td>\n",
       "      <td>Labour</td>\n",
       "      <td>1924.0</td>\n",
       "    </tr>\n",
       "    <tr>\n",
       "      <th>...</th>\n",
       "      <td>...</td>\n",
       "      <td>...</td>\n",
       "      <td>...</td>\n",
       "      <td>...</td>\n",
       "      <td>...</td>\n",
       "      <td>...</td>\n",
       "      <td>...</td>\n",
       "      <td>...</td>\n",
       "      <td>...</td>\n",
       "      <td>...</td>\n",
       "    </tr>\n",
       "    <tr>\n",
       "      <th>487</th>\n",
       "      <td>Leader's speech, Brighton 2017</td>\n",
       "      <td>compound</td>\n",
       "      <td>0.9996</td>\n",
       "      <td>Jeremy Corbyn</td>\n",
       "      <td>Brighton</td>\n",
       "      <td>NaN</td>\n",
       "      <td>NaN</td>\n",
       "      <td>We meet here this week as a united Party, adva...</td>\n",
       "      <td>Labour</td>\n",
       "      <td>2017.0</td>\n",
       "    </tr>\n",
       "    <tr>\n",
       "      <th>488</th>\n",
       "      <td>Leader's speech, Liverpool 2018</td>\n",
       "      <td>neg</td>\n",
       "      <td>0.1150</td>\n",
       "      <td>Jeremy Corbyn</td>\n",
       "      <td>Liverpool</td>\n",
       "      <td>NaN</td>\n",
       "      <td>NaN</td>\n",
       "      <td>Thank you for that welcome. I want to star...</td>\n",
       "      <td>Labour</td>\n",
       "      <td>2018.0</td>\n",
       "    </tr>\n",
       "    <tr>\n",
       "      <th>489</th>\n",
       "      <td>Leader's speech, Liverpool 2018</td>\n",
       "      <td>neu</td>\n",
       "      <td>0.7360</td>\n",
       "      <td>Jeremy Corbyn</td>\n",
       "      <td>Liverpool</td>\n",
       "      <td>NaN</td>\n",
       "      <td>NaN</td>\n",
       "      <td>Thank you for that welcome. I want to star...</td>\n",
       "      <td>Labour</td>\n",
       "      <td>2018.0</td>\n",
       "    </tr>\n",
       "    <tr>\n",
       "      <th>490</th>\n",
       "      <td>Leader's speech, Liverpool 2018</td>\n",
       "      <td>pos</td>\n",
       "      <td>0.1500</td>\n",
       "      <td>Jeremy Corbyn</td>\n",
       "      <td>Liverpool</td>\n",
       "      <td>NaN</td>\n",
       "      <td>NaN</td>\n",
       "      <td>Thank you for that welcome. I want to star...</td>\n",
       "      <td>Labour</td>\n",
       "      <td>2018.0</td>\n",
       "    </tr>\n",
       "    <tr>\n",
       "      <th>491</th>\n",
       "      <td>Leader's speech, Liverpool 2018</td>\n",
       "      <td>compound</td>\n",
       "      <td>0.9997</td>\n",
       "      <td>Jeremy Corbyn</td>\n",
       "      <td>Liverpool</td>\n",
       "      <td>NaN</td>\n",
       "      <td>NaN</td>\n",
       "      <td>Thank you for that welcome. I want to star...</td>\n",
       "      <td>Labour</td>\n",
       "      <td>2018.0</td>\n",
       "    </tr>\n",
       "  </tbody>\n",
       "</table>\n",
       "<p>248 rows × 10 columns</p>\n",
       "</div>"
      ],
      "text/plain": [
       "                                title  variable   value              speaker  \\\n",
       "0    Leader's speech, Manchester 2006       neg  0.1050           Tony Blair   \n",
       "1    Leader's speech, Manchester 2006       neu  0.7230           Tony Blair   \n",
       "2    Leader's speech, Manchester 2006       pos  0.1710           Tony Blair   \n",
       "3    Leader's speech, Manchester 2006  compound  0.9999           Tony Blair   \n",
       "4        Leader's speech, London 1924       neg  0.1150  J. Ramsay MacDonald   \n",
       "..                                ...       ...     ...                  ...   \n",
       "487    Leader's speech, Brighton 2017  compound  0.9996        Jeremy Corbyn   \n",
       "488   Leader's speech, Liverpool 2018       neg  0.1150        Jeremy Corbyn   \n",
       "489   Leader's speech, Liverpool 2018       neu  0.7360        Jeremy Corbyn   \n",
       "490   Leader's speech, Liverpool 2018       pos  0.1500        Jeremy Corbyn   \n",
       "491   Leader's speech, Liverpool 2018  compound  0.9997        Jeremy Corbyn   \n",
       "\n",
       "       location tags                                         commentary  \\\n",
       "0    Manchester  NaN   This conference speech was Blairâs last as ...   \n",
       "1    Manchester  NaN   This conference speech was Blairâs last as ...   \n",
       "2    Manchester  NaN   This conference speech was Blairâs last as ...   \n",
       "3    Manchester  NaN   This conference speech was Blairâs last as ...   \n",
       "4        London  NaN   On 22 January 1924, Labour formed a Minority ...   \n",
       "..          ...  ...                                                ...   \n",
       "487    Brighton  NaN                                                NaN   \n",
       "488   Liverpool  NaN                                                NaN   \n",
       "489   Liverpool  NaN                                                NaN   \n",
       "490   Liverpool  NaN                                                NaN   \n",
       "491   Liverpool  NaN                                                NaN   \n",
       "\n",
       "                                               content   party    year  \n",
       "0    I’d like to start by saying something very sim...  Labour  2006.0  \n",
       "1    I’d like to start by saying something very sim...  Labour  2006.0  \n",
       "2    I’d like to start by saying something very sim...  Labour  2006.0  \n",
       "3    I’d like to start by saying something very sim...  Labour  2006.0  \n",
       "4    Last year, that optimistic prophet and calcula...  Labour  1924.0  \n",
       "..                                                 ...     ...     ...  \n",
       "487  We meet here this week as a united Party, adva...  Labour  2017.0  \n",
       "488      Thank you for that welcome. I want to star...  Labour  2018.0  \n",
       "489      Thank you for that welcome. I want to star...  Labour  2018.0  \n",
       "490      Thank you for that welcome. I want to star...  Labour  2018.0  \n",
       "491      Thank you for that welcome. I want to star...  Labour  2018.0  \n",
       "\n",
       "[248 rows x 10 columns]"
      ]
     },
     "metadata": {},
     "output_type": "display_data"
    }
   ],
   "source": [
    "# Separate out polarity scores\n",
    "labour_df[\"neg\"] = labour_df[\"polarity_scores\"].map(lambda x: x['neg'])\n",
    "labour_df[\"neu\"] = labour_df[\"polarity_scores\"].map(lambda x: x['neu'])\n",
    "labour_df[\"pos\"] = labour_df[\"polarity_scores\"].map(lambda x: x['pos'])\n",
    "labour_df[\"compound\"] = labour_df[\"polarity_scores\"].map(lambda x: x['compound'])\n",
    "# Pivot from wide to long\n",
    "melted_df = pd.melt(labour_df, id_vars = \"title\", value_vars = [\"neg\", \"neu\", \"pos\", \"compound\"])\n",
    "long_df = melted_df.merge(labour_df.loc[:,\"title\":\"year\"])\n",
    "# Use regex to subset for speeches labelled 'Leader's speech'\n",
    "import re\n",
    "long_df = long_df[long_df[\"title\"].map(lambda x: False if re.search(\"[Ll]eader's speech\", x) == None else True)]\n",
    "display(long_df)"
   ]
  },
  {
   "cell_type": "code",
   "execution_count": 67,
   "id": "1fd8ad19",
   "metadata": {},
   "outputs": [
    {
     "data": {
      "image/png": "[encoded data removed]",
      "text/plain": [
       "<Figure size 863.75x360 with 2 Axes>"
      ]
     },
     "metadata": {
      "needs_background": "light"
     },
     "output_type": "display_data"
    }
   ],
   "source": [
    "import seaborn as sns\n",
    "g = sns.relplot(\n",
    "    data = long_df[long_df[\"variable\"].map(lambda x: x != \"compound\" and x != \"neu\")], \n",
    "    kind = \"line\", x = \"year\", y = \"value\", hue = \"speaker\", col = \"variable\", ci = None,\n",
    ")\n",
    "# g.set(xlim = (1980,2018))"
   ]
  },
  {
   "cell_type": "markdown",
   "id": "b27c69bc",
   "metadata": {},
   "source": [
    "Interesting that both Miliband and Brown were less negative in their party conference speeches as leader than Blair was - despite the perception of Brown and Miliband as somewhat 'grumpy'. Also interesting that Miliband's speech polarities are similar to those of Attlee - although there's not a great deal we can say with time differences that large."
   ]
  },
  {
   "cell_type": "code",
   "execution_count": 68,
   "id": "217e06ee",
   "metadata": {},
   "outputs": [
    {
     "data": {
      "text/plain": [
       "<seaborn.axisgrid.FacetGrid at 0x298f4c207f0>"
      ]
     },
     "execution_count": 68,
     "metadata": {},
     "output_type": "execute_result"
    },
    {
     "data": {
      "image/png": "[encoded data removed]",
      "text/plain": [
       "<Figure size 414.875x360 with 1 Axes>"
      ]
     },
     "metadata": {
      "needs_background": "light"
     },
     "output_type": "display_data"
    }
   ],
   "source": [
    "import seaborn as sns\n",
    "g = sns.relplot(\n",
    "    data = long_df[long_df[\"variable\"].map(lambda x: x != \"compound\" and x != \"neu\")], \n",
    "    kind = \"line\", x = \"year\", y = \"value\", hue = \"variable\", ci = None,\n",
    ")\n",
    "g.set(xlim = (1980,2018))"
   ]
  },
  {
   "cell_type": "markdown",
   "id": "f112ea40",
   "metadata": {},
   "source": [
    "Interesting that 1997 and 2001 - presumably pretty happy times for Labour party conference - were some of the most negative in terms of speech polarities. Also interesting that there's a spike in positive polarities before the 2015 Election - and then a sudden rise in negative polarity as we get towards 2018."
   ]
  },
  {
   "cell_type": "markdown",
   "id": "fe907b06",
   "metadata": {},
   "source": [
    "## TF-IDF\n",
    "\n",
    "Another approach is to use 'Term Frequency - Inverse Document Frequency' (TF-IDF) - where we pick out the most distinctive words for each leader. First, we'll need to tidy, tokenize, and lemmatize the speeches."
   ]
  },
  {
   "cell_type": "code",
   "execution_count": 71,
   "id": "33347657",
   "metadata": {},
   "outputs": [],
   "source": [
    "from nltk.stem import WordNetLemmatizer\n",
    "from nltk.corpus import stopwords\n",
    "from nltk.tokenize import wordpunct_tokenize\n",
    "from sklearn.feature_extraction.text import TfidfVectorizer \n",
    "\n",
    "stopwords = set(stopwords.words('english'))\n",
    "WNL = WordNetLemmatizer()\n",
    "\n",
    "def clean_text(text, case_sensitive = False, stop_words = True, lemma = True, join_words = \" \"):\n",
    "    if not case_sensitive:\n",
    "        text = text.lower()\n",
    "    tokens = [x for x in wordpunct_tokenize(text) if x.isalpha()]\n",
    "    if stop_words: \n",
    "        tokens = [word for word in tokens if word not in stopwords]\n",
    "    if lemma: \n",
    "        tokens = [WNL.lemmatize(word,pos='v') for word in tokens]\n",
    "    if join_words:\n",
    "        return \" \".join(tokens)\n",
    "    else:\n",
    "        return tokens"
   ]
  },
  {
   "cell_type": "markdown",
   "id": "08e1e42d",
   "metadata": {},
   "source": [
    "Then for each leader since Neil Kinnock, take all the speeches recorded in the dataframe (so not just leader's party conference speeches - but speeches as chancellor, or as foreign secretary, etc.) and apply the text cleaning function to them."
   ]
  },
  {
   "cell_type": "code",
   "execution_count": 83,
   "id": "5dda73fa",
   "metadata": {},
   "outputs": [],
   "source": [
    "corbyn_speeches = labour_df[labour_df[\"speaker\"] == \"Jeremy Corbyn\"][\"content\"].map(lambda x: clean_text(x))\n",
    "miliband_speeches = labour_df[labour_df[\"speaker\"] == \"Ed Miliband\"][\"content\"].map(lambda x: clean_text(x))\n",
    "brown_speeches = labour_df[labour_df[\"speaker\"] == \"Gordon Brown\"][\"content\"].map(lambda x: clean_text(x))\n",
    "blair_speeches = labour_df[labour_df[\"speaker\"] == \"Tony Blair\"][\"content\"].map(lambda x: clean_text(x))\n",
    "smith_speeches = labour_df[labour_df[\"speaker\"] == \"John Smith\"][\"content\"].map(lambda x: clean_text(x))\n",
    "kinnock_speeches = labour_df[labour_df[\"speaker\"] == \"Neil Kinnock\"][\"content\"].map(lambda x: clean_text(x))"
   ]
  },
  {
   "cell_type": "markdown",
   "id": "555bda1a",
   "metadata": {},
   "source": [
    "Then define TF-IDF function:"
   ]
  },
  {
   "cell_type": "code",
   "execution_count": 141,
   "id": "b8705cfc",
   "metadata": {},
   "outputs": [],
   "source": [
    "def tfidf_for_speech(speech):\n",
    "    wordmat = None\n",
    "    wordlist = []\n",
    "    \n",
    "    vectorizer = TfidfVectorizer()\n",
    "    wordmat = vectorizer.fit_transform(speech).todense()\n",
    "    wordlist = vectorizer.get_feature_names()\n",
    "    top_words = pd.Series(wordmat.sum(axis = 0).A1, index = wordlist)\n",
    "    \n",
    "    return top_words.sort_values(ascending=False)"
   ]
  },
  {
   "cell_type": "code",
   "execution_count": 139,
   "id": "25712c56",
   "metadata": {},
   "outputs": [
    {
     "data": {
      "text/plain": [
       "people        1.168896\n",
       "labour        1.114827\n",
       "party         0.663248\n",
       "government    0.533009\n",
       "work          0.515569\n",
       "country       0.512690\n",
       "new           0.456784\n",
       "make          0.437177\n",
       "britain       0.417561\n",
       "need          0.407066\n",
       "dtype: float64"
      ]
     },
     "execution_count": 139,
     "metadata": {},
     "output_type": "execute_result"
    }
   ],
   "source": [
    "tfidf_for_speech(corbyn_speeches)[0][:10]"
   ]
  },
  {
   "cell_type": "code",
   "execution_count": 107,
   "id": "0c22f6c1",
   "metadata": {},
   "outputs": [
    {
     "data": {
      "text/plain": [
       "people        1.224942\n",
       "country       0.980851\n",
       "britain       0.917637\n",
       "say           0.858813\n",
       "work          0.803731\n",
       "get           0.703704\n",
       "government    0.684483\n",
       "go            0.641320\n",
       "one           0.639900\n",
       "labour        0.551076\n",
       "dtype: float64"
      ]
     },
     "execution_count": 107,
     "metadata": {},
     "output_type": "execute_result"
    }
   ],
   "source": [
    "tfidf_for_speech(miliband_speeches)[:10]"
   ]
  },
  {
   "cell_type": "code",
   "execution_count": 108,
   "id": "ea7ddd9e",
   "metadata": {},
   "outputs": [
    {
     "data": {
      "text/plain": [
       "people     4.181293\n",
       "britain    3.689201\n",
       "new        3.621754\n",
       "us         3.038476\n",
       "labour     2.880619\n",
       "work       2.407844\n",
       "make       2.252300\n",
       "world      2.210842\n",
       "say        2.196583\n",
       "party      2.182151\n",
       "dtype: float64"
      ]
     },
     "execution_count": 108,
     "metadata": {},
     "output_type": "execute_result"
    }
   ],
   "source": [
    "tfidf_for_speech(brown_speeches)[:10]"
   ]
  },
  {
   "cell_type": "code",
   "execution_count": 109,
   "id": "f80e65e9",
   "metadata": {},
   "outputs": [
    {
     "data": {
      "text/plain": [
       "people        4.696988\n",
       "government    2.907740\n",
       "new           2.884689\n",
       "world         2.700915\n",
       "us            2.363489\n",
       "make          2.352371\n",
       "one           2.300044\n",
       "say           2.250040\n",
       "work          2.208813\n",
       "britain       2.200771\n",
       "dtype: float64"
      ]
     },
     "execution_count": 109,
     "metadata": {},
     "output_type": "execute_result"
    }
   ],
   "source": [
    "tfidf_for_speech(blair_speeches)[:10]"
   ]
  },
  {
   "cell_type": "code",
   "execution_count": 120,
   "id": "7030edb5",
   "metadata": {},
   "outputs": [
    {
     "data": {
      "text/plain": [
       "people        0.713291\n",
       "government    0.654278\n",
       "labour        0.360298\n",
       "work          0.360153\n",
       "britain       0.287978\n",
       "country       0.268669\n",
       "need          0.267655\n",
       "new           0.235980\n",
       "applause      0.228696\n",
       "right         0.209945\n",
       "dtype: float64"
      ]
     },
     "execution_count": 120,
     "metadata": {},
     "output_type": "execute_result"
    }
   ],
   "source": [
    "tfidf_for_speech(smith_speeches)[:10]"
   ]
  },
  {
   "cell_type": "code",
   "execution_count": 121,
   "id": "4b6aa48d",
   "metadata": {},
   "outputs": [
    {
     "data": {
      "text/plain": [
       "people        2.073082\n",
       "applause      1.324171\n",
       "government    1.161959\n",
       "make          1.156606\n",
       "country       1.061284\n",
       "get           0.907481\n",
       "say           0.897771\n",
       "go            0.856787\n",
       "would         0.743147\n",
       "us            0.739714\n",
       "dtype: float64"
      ]
     },
     "execution_count": 121,
     "metadata": {},
     "output_type": "execute_result"
    }
   ],
   "source": [
    "tfidf_for_speech(kinnock_speeches)[:10]"
   ]
  },
  {
   "cell_type": "markdown",
   "id": "75e60e61",
   "metadata": {},
   "source": [
    "We could compare this with, e.g. Thatcher's or Cameron's speeches - there's a lot of similarity here."
   ]
  },
  {
   "cell_type": "code",
   "execution_count": 123,
   "id": "751b790b",
   "metadata": {},
   "outputs": [
    {
     "data": {
      "text/plain": [
       "people        2.930645\n",
       "government    2.408035\n",
       "labour        2.249429\n",
       "us            2.032295\n",
       "party         2.002337\n",
       "would         1.886701\n",
       "britain       1.758586\n",
       "say           1.663024\n",
       "one           1.644864\n",
       "make          1.471642\n",
       "dtype: float64"
      ]
     },
     "execution_count": 123,
     "metadata": {},
     "output_type": "execute_result"
    }
   ],
   "source": [
    "thatcher_speeches = speeches_df[speeches_df[\"speaker\"] == \"Margaret Thatcher\"][\"content\"].map(lambda x: clean_text(x))\n",
    "tfidf_for_speech(thatcher_speeches)[:10]"
   ]
  },
  {
   "cell_type": "code",
   "execution_count": 122,
   "id": "14faff8d",
   "metadata": {},
   "outputs": [
    {
     "data": {
      "text/plain": [
       "people        3.980621\n",
       "get           2.884375\n",
       "country       2.572128\n",
       "want          2.497146\n",
       "government    2.275652\n",
       "make          2.252603\n",
       "say           2.168192\n",
       "work          2.153407\n",
       "need          1.997871\n",
       "go            1.874193\n",
       "dtype: float64"
      ]
     },
     "execution_count": 122,
     "metadata": {},
     "output_type": "execute_result"
    }
   ],
   "source": [
    "cameron_speeches = speeches_df[speeches_df[\"speaker\"] == \"David Cameron\"][\"content\"].map(lambda x: clean_text(x))\n",
    "tfidf_for_speech(cameron_speeches)[:10]"
   ]
  },
  {
   "cell_type": "markdown",
   "id": "762b546f",
   "metadata": {},
   "source": [
    "On the other hand, if we look at speeches from e.g. Clement Attlee vs. Harold Macmillan then there are much clearer differences."
   ]
  },
  {
   "cell_type": "code",
   "execution_count": 124,
   "id": "c04a5cd2",
   "metadata": {},
   "outputs": [
    {
     "data": {
      "text/plain": [
       "great         1.214810\n",
       "work          1.066551\n",
       "government    0.858118\n",
       "policy        0.796170\n",
       "people        0.735670\n",
       "party         0.599872\n",
       "go            0.568587\n",
       "parliament    0.540331\n",
       "house         0.526962\n",
       "say           0.525300\n",
       "dtype: float64"
      ]
     },
     "execution_count": 124,
     "metadata": {},
     "output_type": "execute_result"
    }
   ],
   "source": [
    "attlee_speeches = speeches_df[speeches_df[\"speaker\"] == \"Clement Attlee\"][\"content\"].map(lambda x: clean_text(x))\n",
    "tfidf_for_speech(attlee_speeches)[:10]"
   ]
  },
  {
   "cell_type": "code",
   "execution_count": 126,
   "id": "308a5bc0",
   "metadata": {},
   "outputs": [
    {
     "data": {
      "text/plain": [
       "must            0.920788\n",
       "world           0.724257\n",
       "us              0.662098\n",
       "new             0.608133\n",
       "great           0.601409\n",
       "make            0.567664\n",
       "one             0.545962\n",
       "people          0.538998\n",
       "years           0.511586\n",
       "commonwealth    0.508021\n",
       "dtype: float64"
      ]
     },
     "execution_count": 126,
     "metadata": {},
     "output_type": "execute_result"
    }
   ],
   "source": [
    "macmillan_speeches = speeches_df[speeches_df[\"speaker\"] == \"Harold Macmillan\"][\"content\"].map(lambda x: clean_text(x))\n",
    "tfidf_for_speech(macmillan_speeches)[:10]"
   ]
  },
  {
   "cell_type": "markdown",
   "id": "95a53783",
   "metadata": {},
   "source": [
    "By the time we get to Harold Wilson and Edward Heath, we start to see a similar sort of vocabulary emerge:"
   ]
  },
  {
   "cell_type": "code",
   "execution_count": 128,
   "id": "9d4211a2",
   "metadata": {},
   "outputs": [
    {
     "data": {
      "text/plain": [
       "government    2.313531\n",
       "britain       1.463449\n",
       "labour        1.313124\n",
       "party         1.280708\n",
       "us            1.244707\n",
       "years         1.216083\n",
       "one           1.168778\n",
       "would         1.167085\n",
       "year          1.155086\n",
       "industrial    1.106777\n",
       "dtype: float64"
      ]
     },
     "execution_count": 128,
     "metadata": {},
     "output_type": "execute_result"
    }
   ],
   "source": [
    "wilson_speeches = speeches_df[speeches_df[\"speaker\"] == \"Harold Wilson\"][\"content\"].map(lambda x: clean_text(x))\n",
    "tfidf_for_speech(wilson_speeches)[:10]"
   ]
  },
  {
   "cell_type": "code",
   "execution_count": 129,
   "id": "2414e95e",
   "metadata": {},
   "outputs": [
    {
     "data": {
      "text/plain": [
       "government    2.186487\n",
       "us            1.559568\n",
       "country       1.236638\n",
       "people        1.221289\n",
       "party         1.127935\n",
       "say           1.019332\n",
       "make          0.923843\n",
       "go            0.920695\n",
       "years         0.825320\n",
       "world         0.815351\n",
       "dtype: float64"
      ]
     },
     "execution_count": 129,
     "metadata": {},
     "output_type": "execute_result"
    }
   ],
   "source": [
    "heath_speeches = speeches_df[speeches_df[\"speaker\"] == \"Edward Heath\"][\"content\"].map(lambda x: clean_text(x))\n",
    "tfidf_for_speech(heath_speeches)[:10]"
   ]
  },
  {
   "cell_type": "markdown",
   "id": "fee76bb9",
   "metadata": {},
   "source": [
    "At the moment this is pretty rough - plus each TF-IDF model is fitted on only that leader's own speeches, so to get a better sense of the differences between leaders it would be helpful to fit the model on _all_ the speeches and then extract TF-IDF scores for each leader's subset for the whole corpus. But it's still nice to see that we can do something with these speeches from [BPS.org](http://www.britishpoliticalspeech.org/speech-archive.htm)."
   ]
  }
 ],
 "metadata": {
  "kernelspec": {
   "display_name": "Python 3 (ipykernel)",
   "language": "python",
   "name": "python3"
  },
  "language_info": {
   "codemirror_mode": {
    "name": "ipython",
    "version": 3
   },
   "file_extension": ".py",
   "mimetype": "text/x-python",
   "name": "python",
   "nbconvert_exporter": "python",
   "pygments_lexer": "ipython3",
   "version": "3.8.11"
  },
  "toc-autonumbering": false
 },
 "nbformat": 4,
 "nbformat_minor": 5
}
