{
 "cells": [
  {
   "cell_type": "code",
   "execution_count": 1,
   "id": "89043dca",
   "metadata": {},
   "outputs": [],
   "source": [
    "import pandas as pd\n",
    "import matplotlib.pyplot as plt"
   ]
  },
  {
   "cell_type": "code",
   "execution_count": 2,
   "id": "6374da0e",
   "metadata": {},
   "outputs": [
    {
     "data": {
      "text/html": [
       "<div>\n",
       "<style scoped>\n",
       "    .dataframe tbody tr th:only-of-type {\n",
       "        vertical-align: middle;\n",
       "    }\n",
       "\n",
       "    .dataframe tbody tr th {\n",
       "        vertical-align: top;\n",
       "    }\n",
       "\n",
       "    .dataframe thead th {\n",
       "        text-align: right;\n",
       "    }\n",
       "</style>\n",
       "<table border=\"1\" class=\"dataframe\">\n",
       "  <thead>\n",
       "    <tr style=\"text-align: right;\">\n",
       "      <th></th>\n",
       "      <th>title</th>\n",
       "      <th>speaker</th>\n",
       "      <th>location</th>\n",
       "      <th>tags</th>\n",
       "      <th>commentary</th>\n",
       "      <th>content</th>\n",
       "      <th>party</th>\n",
       "      <th>year</th>\n",
       "    </tr>\n",
       "  </thead>\n",
       "  <tbody>\n",
       "    <tr>\n",
       "      <th>0</th>\n",
       "      <td>Leader's speech, Blackpool 2005</td>\n",
       "      <td>Michael Howard</td>\n",
       "      <td>Blackpool</td>\n",
       "      <td></td>\n",
       "      <td>In this speech, Howard stood down as leader a...</td>\n",
       "      <td>I was always taught that it doesn’t matter wha...</td>\n",
       "      <td>Conservative</td>\n",
       "      <td>2005</td>\n",
       "    </tr>\n",
       "    <tr>\n",
       "      <th>1</th>\n",
       "      <td>Leader's speech, Manchester 2006</td>\n",
       "      <td>Tony Blair</td>\n",
       "      <td>Manchester</td>\n",
       "      <td>NaN</td>\n",
       "      <td>This conference speech was Blairâs last as ...</td>\n",
       "      <td>I’d like to start by saying something very sim...</td>\n",
       "      <td>Labour</td>\n",
       "      <td>2006</td>\n",
       "    </tr>\n",
       "    <tr>\n",
       "      <th>32</th>\n",
       "      <td>Leader's speech, London 1945</td>\n",
       "      <td>Sir Archibald Sinclair</td>\n",
       "      <td>London</td>\n",
       "      <td>NaN</td>\n",
       "      <td>In this speech, Sinclair outlined some of the...</td>\n",
       "      <td>It seems a long time since we have met togethe...</td>\n",
       "      <td>Liberal</td>\n",
       "      <td>1945</td>\n",
       "    </tr>\n",
       "    <tr>\n",
       "      <th>33</th>\n",
       "      <td>Leader's speech, 1963</td>\n",
       "      <td>Jo Grimond</td>\n",
       "      <td>[Location]</td>\n",
       "      <td>NaN</td>\n",
       "      <td>This conference took place in the run-up to t...</td>\n",
       "      <td>The tone of this assembly has been lively, tau...</td>\n",
       "      <td>Liberal</td>\n",
       "      <td>1963</td>\n",
       "    </tr>\n",
       "    <tr>\n",
       "      <th>34</th>\n",
       "      <td>Leader's speech, Brighton 1977a</td>\n",
       "      <td>David Steel</td>\n",
       "      <td>Brighton</td>\n",
       "      <td>NaN</td>\n",
       "      <td>This Joint Liberal Assembly was the first sin...</td>\n",
       "      <td>It has been a somewhat unusual and tumultuous ...</td>\n",
       "      <td>Liberal</td>\n",
       "      <td>1977</td>\n",
       "    </tr>\n",
       "  </tbody>\n",
       "</table>\n",
       "</div>"
      ],
      "text/plain": [
       "                               title                 speaker    location tags  \\\n",
       "0    Leader's speech, Blackpool 2005          Michael Howard   Blackpool        \n",
       "1   Leader's speech, Manchester 2006              Tony Blair  Manchester  NaN   \n",
       "32      Leader's speech, London 1945  Sir Archibald Sinclair      London  NaN   \n",
       "33             Leader's speech, 1963              Jo Grimond  [Location]  NaN   \n",
       "34   Leader's speech, Brighton 1977a             David Steel    Brighton  NaN   \n",
       "\n",
       "                                           commentary  \\\n",
       "0    In this speech, Howard stood down as leader a...   \n",
       "1    This conference speech was Blairâs last as ...   \n",
       "32   In this speech, Sinclair outlined some of the...   \n",
       "33   This conference took place in the run-up to t...   \n",
       "34   This Joint Liberal Assembly was the first sin...   \n",
       "\n",
       "                                              content         party  year  \n",
       "0   I was always taught that it doesn’t matter wha...  Conservative  2005  \n",
       "1   I’d like to start by saying something very sim...        Labour  2006  \n",
       "32  It seems a long time since we have met togethe...       Liberal  1945  \n",
       "33  The tone of this assembly has been lively, tau...       Liberal  1963  \n",
       "34  It has been a somewhat unusual and tumultuous ...       Liberal  1977  "
      ]
     },
     "execution_count": 2,
     "metadata": {},
     "output_type": "execute_result"
    }
   ],
   "source": [
    "speeches = pd.read_csv(\"conference.csv\")\n",
    "speeches = speeches.drop('Unnamed: 0', axis=1)\n",
    "speeches_since_1945 = speeches[speeches.year >= 1945]\n",
    "speeches_since_1945.head()"
   ]
  },
  {
   "cell_type": "code",
   "execution_count": 3,
   "id": "c88fbd6d",
   "metadata": {},
   "outputs": [
    {
     "data": {
      "text/plain": [
       "(183, 8)"
      ]
     },
     "execution_count": 3,
     "metadata": {},
     "output_type": "execute_result"
    }
   ],
   "source": [
    "speeches_since_1945.shape"
   ]
  },
  {
   "cell_type": "code",
   "execution_count": 4,
   "id": "f3bb6a5f",
   "metadata": {},
   "outputs": [
    {
     "data": {
      "image/png": "[encoded data removed]",
      "text/plain": [
       "<Figure size 640x480 with 1 Axes>"
      ]
     },
     "metadata": {},
     "output_type": "display_data"
    },
    {
     "name": "stdout",
     "output_type": "stream",
     "text": [
      "71\n"
     ]
    }
   ],
   "source": [
    "con_speech = speeches_since_1945[speeches_since_1945.party==\"Conservative\"]\n",
    "plt.hist(con_speech.year, bins=73)\n",
    "plt.show()\n",
    "print(len(con_speech))"
   ]
  },
  {
   "cell_type": "code",
   "execution_count": 5,
   "id": "5406b207",
   "metadata": {},
   "outputs": [
    {
     "data": {
      "image/png": "[encoded data removed]",
      "text/plain": [
       "<Figure size 640x480 with 1 Axes>"
      ]
     },
     "metadata": {},
     "output_type": "display_data"
    },
    {
     "name": "stdout",
     "output_type": "stream",
     "text": [
      "61\n"
     ]
    }
   ],
   "source": [
    "lab_speech = speeches_since_1945[speeches_since_1945.party==\"Labour\"]\n",
    "plt.hist(lab_speech.year, bins=73)\n",
    "plt.show()\n",
    "print(len(lab_speech))"
   ]
  },
  {
   "cell_type": "code",
   "execution_count": 6,
   "id": "ed4e53c5",
   "metadata": {},
   "outputs": [
    {
     "data": {
      "text/plain": [
       "array(['Conservative', 'Labour', 'Liberal', 'SDP-Liberal Alliance',\n",
       "       'Liberal Democrat'], dtype=object)"
      ]
     },
     "execution_count": 6,
     "metadata": {},
     "output_type": "execute_result"
    }
   ],
   "source": [
    "speeches_since_1945.party.unique()"
   ]
  },
  {
   "cell_type": "code",
   "execution_count": 7,
   "id": "3f52d4d1",
   "metadata": {},
   "outputs": [
    {
     "data": {
      "image/png": "[encoded data removed]",
      "text/plain": [
       "<Figure size 640x480 with 1 Axes>"
      ]
     },
     "metadata": {},
     "output_type": "display_data"
    },
    {
     "name": "stdout",
     "output_type": "stream",
     "text": [
      "40\n"
     ]
    }
   ],
   "source": [
    "lib_speech = speeches_since_1945[speeches_since_1945.party.apply(lambda party: party in [\"Liberal\",\"SDP-Liberal Alliance\",\"Liberal Democrat\"])]\n",
    "plt.hist(lib_speech.year, bins=73)\n",
    "plt.show()\n",
    "print(len(lib_speech.year.unique()))"
   ]
  },
  {
   "cell_type": "code",
   "execution_count": 8,
   "id": "48a81182",
   "metadata": {},
   "outputs": [
    {
     "data": {
      "text/plain": [
       "5250.765027322404"
      ]
     },
     "execution_count": 8,
     "metadata": {},
     "output_type": "execute_result"
    }
   ],
   "source": [
    "speeches_since_1945.content.apply(lambda x:len(x.split(' '))).mean()"
   ]
  },
  {
   "cell_type": "code",
   "execution_count": 9,
   "id": "ad06e2ba",
   "metadata": {},
   "outputs": [
    {
     "data": {
      "text/plain": [
       "4714.971830985915"
      ]
     },
     "execution_count": 9,
     "metadata": {},
     "output_type": "execute_result"
    }
   ],
   "source": [
    "con_speech.content.apply(lambda x:len(x.split(' '))).mean()"
   ]
  },
  {
   "cell_type": "code",
   "execution_count": 10,
   "id": "554acb65",
   "metadata": {},
   "outputs": [
    {
     "data": {
      "text/plain": [
       "6366.11475409836"
      ]
     },
     "execution_count": 10,
     "metadata": {},
     "output_type": "execute_result"
    }
   ],
   "source": [
    "lab_speech.content.apply(lambda x:len(x.split(' '))).mean()"
   ]
  },
  {
   "cell_type": "code",
   "execution_count": 11,
   "id": "4fd03a8a",
   "metadata": {},
   "outputs": [
    {
     "data": {
      "text/plain": [
       "4662.6274509803925"
      ]
     },
     "execution_count": 11,
     "metadata": {},
     "output_type": "execute_result"
    }
   ],
   "source": [
    "lib_speech.content.apply(lambda x:len(x.split(' '))).mean()"
   ]
  }
 ],
 "metadata": {
  "kernelspec": {
   "display_name": "Python 3",
   "language": "python",
   "name": "python3"
  },
  "language_info": {
   "codemirror_mode": {
    "name": "ipython",
    "version": 3
   },
   "file_extension": ".py",
   "mimetype": "text/x-python",
   "name": "python",
   "nbconvert_exporter": "python",
   "pygments_lexer": "ipython3",
   "version": "3.8.11"
  }
 },
 "nbformat": 4,
 "nbformat_minor": 5
}
