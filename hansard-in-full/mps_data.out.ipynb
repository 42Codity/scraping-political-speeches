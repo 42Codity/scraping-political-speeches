{
 "cells": [
  {
   "cell_type": "markdown",
   "id": "82cf97f5",
   "metadata": {
    "papermill": {
     "duration": 0.004123,
     "end_time": "2025-10-03T20:59:03.560824",
     "exception": false,
     "start_time": "2025-10-03T20:59:03.556701",
     "status": "completed"
    },
    "tags": []
   },
   "source": [
    "# MPs data"
   ]
  },
  {
   "cell_type": "code",
   "execution_count": 1,
   "id": "99be7e6f",
   "metadata": {
    "execution": {
     "iopub.execute_input": "2025-10-03T20:59:03.565875Z",
     "iopub.status.busy": "2025-10-03T20:59:03.565727Z",
     "iopub.status.idle": "2025-10-03T20:59:04.019636Z",
     "shell.execute_reply": "2025-10-03T20:59:04.019376Z"
    },
    "papermill": {
     "duration": 0.456592,
     "end_time": "2025-10-03T20:59:04.020561",
     "exception": false,
     "start_time": "2025-10-03T20:59:03.563969",
     "status": "completed"
    },
    "tags": []
   },
   "outputs": [],
   "source": [
    "import requests\n",
    "import pandas as pd\n",
    "from tqdm import tqdm\n",
    "from bs4 import BeautifulSoup\n",
    "\n",
    "tqdm.pandas()"
   ]
  },
  {
   "cell_type": "code",
   "execution_count": 2,
   "id": "8ffbbf6a",
   "metadata": {
    "execution": {
     "iopub.execute_input": "2025-10-03T20:59:04.022951Z",
     "iopub.status.busy": "2025-10-03T20:59:04.022808Z",
     "iopub.status.idle": "2025-10-03T20:59:04.025243Z",
     "shell.execute_reply": "2025-10-03T20:59:04.024993Z"
    },
    "papermill": {
     "duration": 0.004304,
     "end_time": "2025-10-03T20:59:04.025884",
     "exception": false,
     "start_time": "2025-10-03T20:59:04.021580",
     "status": "completed"
    },
    "tags": []
   },
   "outputs": [],
   "source": [
    "def parse_person_json(json_dict):\n",
    "    # Every entry has an ID\n",
    "    person_id = json_dict['id']\n",
    "    \n",
    "    # Sometimes, an entry has no name information\n",
    "    # In these cases, the entry just serves as a redirect to another entry\n",
    "    if 'other_names' not in json_dict.keys():\n",
    "        redirect_id = json_dict['redirect'] # Save redirect IDs to resolve later\n",
    "    else:\n",
    "        redirect_id = None\n",
    "    \n",
    "    if 'other_names' in json_dict.keys():\n",
    "        # Often people will have multiple name entries, stored as separate dicts\n",
    "        # e.g. Tony Blair has an entry as 'Anthony Blair', another as 'Tony Blair', and one as 'The Prime Minister'\n",
    "        # We want to collapse these down to one name dictionary\n",
    "        name_dict = {k:v for name_dict in json_dict['other_names'] for k,v in name_dict.items()}\n",
    "        if 'given_name' in name_dict.keys(): # Extract the first/given name\n",
    "            first_name = name_dict['given_name']\n",
    "        else:\n",
    "            first_name = None\n",
    "        if 'family_name' in name_dict.keys(): # And the surname/family name\n",
    "            family_name = name_dict['family_name']\n",
    "        else:\n",
    "            family_name = None\n",
    "    else:\n",
    "        first_name,family_name = None,None\n",
    "    \n",
    "    return person_id,redirect_id,first_name,family_name"
   ]
  },
  {
   "cell_type": "code",
   "execution_count": 3,
   "id": "35313e08",
   "metadata": {
    "execution": {
     "iopub.execute_input": "2025-10-03T20:59:04.027847Z",
     "iopub.status.busy": "2025-10-03T20:59:04.027723Z",
     "iopub.status.idle": "2025-10-03T20:59:06.432204Z",
     "shell.execute_reply": "2025-10-03T20:59:06.431848Z"
    },
    "papermill": {
     "duration": 2.406475,
     "end_time": "2025-10-03T20:59:06.433154",
     "exception": false,
     "start_time": "2025-10-03T20:59:04.026679",
     "status": "completed"
    },
    "tags": []
   },
   "outputs": [
    {
     "name": "stderr",
     "output_type": "stream",
     "text": [
      "\r",
      "  0%|                                                                                        | 0/14631 [00:00<?, ?it/s]"
     ]
    },
    {
     "name": "stderr",
     "output_type": "stream",
     "text": [
      "\r",
      " 43%|███████████████████████████████▋                                          | 6267/14631 [00:00<00:00, 62652.58it/s]"
     ]
    },
    {
     "name": "stderr",
     "output_type": "stream",
     "text": [
      "\r",
      " 93%|████████████████████████████████████████████████████████████████████▏    | 13655/14631 [00:00<00:00, 69252.15it/s]"
     ]
    },
    {
     "name": "stderr",
     "output_type": "stream",
     "text": [
      "\r",
      "100%|█████████████████████████████████████████████████████████████████████████| 14631/14631 [00:00<00:00, 68451.37it/s]"
     ]
    },
    {
     "name": "stderr",
     "output_type": "stream",
     "text": [
      "\n"
     ]
    },
    {
     "data": {
      "text/html": [
       "<div>\n",
       "<style scoped>\n",
       "    .dataframe tbody tr th:only-of-type {\n",
       "        vertical-align: middle;\n",
       "    }\n",
       "\n",
       "    .dataframe tbody tr th {\n",
       "        vertical-align: top;\n",
       "    }\n",
       "\n",
       "    .dataframe thead th {\n",
       "        text-align: right;\n",
       "    }\n",
       "</style>\n",
       "<table border=\"1\" class=\"dataframe\">\n",
       "  <thead>\n",
       "    <tr style=\"text-align: right;\">\n",
       "      <th></th>\n",
       "      <th>person_id</th>\n",
       "      <th>redirect_id</th>\n",
       "      <th>first_name</th>\n",
       "      <th>family_name</th>\n",
       "    </tr>\n",
       "  </thead>\n",
       "  <tbody>\n",
       "    <tr>\n",
       "      <th>0</th>\n",
       "      <td>uk.org.publicwhip/person/10001</td>\n",
       "      <td>None</td>\n",
       "      <td>Diane</td>\n",
       "      <td>Abbott</td>\n",
       "    </tr>\n",
       "    <tr>\n",
       "      <th>1</th>\n",
       "      <td>uk.org.publicwhip/person/10002</td>\n",
       "      <td>None</td>\n",
       "      <td>Gerry</td>\n",
       "      <td>Adams</td>\n",
       "    </tr>\n",
       "    <tr>\n",
       "      <th>2</th>\n",
       "      <td>uk.org.publicwhip/person/10003</td>\n",
       "      <td>None</td>\n",
       "      <td>Irene</td>\n",
       "      <td>Adams</td>\n",
       "    </tr>\n",
       "    <tr>\n",
       "      <th>3</th>\n",
       "      <td>uk.org.publicwhip/person/10004</td>\n",
       "      <td>None</td>\n",
       "      <td>Nick</td>\n",
       "      <td>Ainger</td>\n",
       "    </tr>\n",
       "    <tr>\n",
       "      <th>4</th>\n",
       "      <td>uk.org.publicwhip/person/10005</td>\n",
       "      <td>None</td>\n",
       "      <td>Bob</td>\n",
       "      <td>Ainsworth</td>\n",
       "    </tr>\n",
       "    <tr>\n",
       "      <th>...</th>\n",
       "      <td>...</td>\n",
       "      <td>...</td>\n",
       "      <td>...</td>\n",
       "      <td>...</td>\n",
       "    </tr>\n",
       "    <tr>\n",
       "      <th>14626</th>\n",
       "      <td>uk.org.publicwhip/person/26689</td>\n",
       "      <td>None</td>\n",
       "      <td>Simon</td>\n",
       "      <td>None</td>\n",
       "    </tr>\n",
       "    <tr>\n",
       "      <th>14627</th>\n",
       "      <td>uk.org.publicwhip/person/26690</td>\n",
       "      <td>None</td>\n",
       "      <td>Sharon</td>\n",
       "      <td>None</td>\n",
       "    </tr>\n",
       "    <tr>\n",
       "      <th>14628</th>\n",
       "      <td>uk.org.publicwhip/person/26691</td>\n",
       "      <td>None</td>\n",
       "      <td>Timothy</td>\n",
       "      <td>None</td>\n",
       "    </tr>\n",
       "    <tr>\n",
       "      <th>14629</th>\n",
       "      <td>uk.org.publicwhip/person/26692</td>\n",
       "      <td>None</td>\n",
       "      <td>Jon</td>\n",
       "      <td>Burrows</td>\n",
       "    </tr>\n",
       "    <tr>\n",
       "      <th>14630</th>\n",
       "      <td>uk.org.publicwhip/person/26693</td>\n",
       "      <td>None</td>\n",
       "      <td>Jonathan</td>\n",
       "      <td>None</td>\n",
       "    </tr>\n",
       "  </tbody>\n",
       "</table>\n",
       "<p>14631 rows × 4 columns</p>\n",
       "</div>"
      ],
      "text/plain": [
       "                            person_id redirect_id first_name family_name\n",
       "0      uk.org.publicwhip/person/10001        None      Diane      Abbott\n",
       "1      uk.org.publicwhip/person/10002        None      Gerry       Adams\n",
       "2      uk.org.publicwhip/person/10003        None      Irene       Adams\n",
       "3      uk.org.publicwhip/person/10004        None       Nick      Ainger\n",
       "4      uk.org.publicwhip/person/10005        None        Bob   Ainsworth\n",
       "...                               ...         ...        ...         ...\n",
       "14626  uk.org.publicwhip/person/26689        None      Simon        None\n",
       "14627  uk.org.publicwhip/person/26690        None     Sharon        None\n",
       "14628  uk.org.publicwhip/person/26691        None    Timothy        None\n",
       "14629  uk.org.publicwhip/person/26692        None        Jon     Burrows\n",
       "14630  uk.org.publicwhip/person/26693        None  Jonathan         None\n",
       "\n",
       "[14631 rows x 4 columns]"
      ]
     },
     "metadata": {},
     "output_type": "display_data"
    }
   ],
   "source": [
    "url = 'https://raw.githubusercontent.com/mysociety/parlparse/master/members/people.json'\n",
    "\n",
    "response = requests.get(url)\n",
    "response_json = response.json()\n",
    "\n",
    "people_json_list = response_json['persons']\n",
    "\n",
    "people_dict = {'person_id':[],\n",
    "               'redirect_id':[],\n",
    "               'first_name':[],\n",
    "               'family_name':[]}\n",
    "\n",
    "for person_json in tqdm(people_json_list):\n",
    "    person_id,redirect_id,first_name,family_name = parse_person_json(person_json)\n",
    "    for variable in people_dict.keys():\n",
    "        people_dict[variable].append(eval(variable))\n",
    "\n",
    "people_df = pd.DataFrame(people_dict)\n",
    "display(people_df)"
   ]
  },
  {
   "cell_type": "code",
   "execution_count": 4,
   "id": "65ab8ce6",
   "metadata": {
    "execution": {
     "iopub.execute_input": "2025-10-03T20:59:06.439975Z",
     "iopub.status.busy": "2025-10-03T20:59:06.439738Z",
     "iopub.status.idle": "2025-10-03T20:59:06.965285Z",
     "shell.execute_reply": "2025-10-03T20:59:06.965026Z"
    },
    "papermill": {
     "duration": 0.529362,
     "end_time": "2025-10-03T20:59:06.966015",
     "exception": false,
     "start_time": "2025-10-03T20:59:06.436653",
     "status": "completed"
    },
    "tags": []
   },
   "outputs": [
    {
     "data": {
      "text/html": [
       "<div>\n",
       "<style scoped>\n",
       "    .dataframe tbody tr th:only-of-type {\n",
       "        vertical-align: middle;\n",
       "    }\n",
       "\n",
       "    .dataframe tbody tr th {\n",
       "        vertical-align: top;\n",
       "    }\n",
       "\n",
       "    .dataframe thead th {\n",
       "        text-align: right;\n",
       "    }\n",
       "</style>\n",
       "<table border=\"1\" class=\"dataframe\">\n",
       "  <thead>\n",
       "    <tr style=\"text-align: right;\">\n",
       "      <th></th>\n",
       "      <th>person_id</th>\n",
       "      <th>redirect_id</th>\n",
       "      <th>first_name</th>\n",
       "      <th>family_name</th>\n",
       "      <th>dob</th>\n",
       "    </tr>\n",
       "  </thead>\n",
       "  <tbody>\n",
       "    <tr>\n",
       "      <th>0</th>\n",
       "      <td>uk.org.publicwhip/person/10001</td>\n",
       "      <td>None</td>\n",
       "      <td>Diane</td>\n",
       "      <td>Abbott</td>\n",
       "      <td>1953-09-27</td>\n",
       "    </tr>\n",
       "    <tr>\n",
       "      <th>1</th>\n",
       "      <td>uk.org.publicwhip/person/10002</td>\n",
       "      <td>None</td>\n",
       "      <td>Gerry</td>\n",
       "      <td>Adams</td>\n",
       "      <td>1948-10-06</td>\n",
       "    </tr>\n",
       "    <tr>\n",
       "      <th>2</th>\n",
       "      <td>uk.org.publicwhip/person/10003</td>\n",
       "      <td>None</td>\n",
       "      <td>Irene</td>\n",
       "      <td>Adams</td>\n",
       "      <td>NaT</td>\n",
       "    </tr>\n",
       "    <tr>\n",
       "      <th>3</th>\n",
       "      <td>uk.org.publicwhip/person/10004</td>\n",
       "      <td>None</td>\n",
       "      <td>Nick</td>\n",
       "      <td>Ainger</td>\n",
       "      <td>1949-10-24</td>\n",
       "    </tr>\n",
       "    <tr>\n",
       "      <th>4</th>\n",
       "      <td>uk.org.publicwhip/person/10005</td>\n",
       "      <td>None</td>\n",
       "      <td>Bob</td>\n",
       "      <td>Ainsworth</td>\n",
       "      <td>1952-06-19</td>\n",
       "    </tr>\n",
       "    <tr>\n",
       "      <th>...</th>\n",
       "      <td>...</td>\n",
       "      <td>...</td>\n",
       "      <td>...</td>\n",
       "      <td>...</td>\n",
       "      <td>...</td>\n",
       "    </tr>\n",
       "    <tr>\n",
       "      <th>14626</th>\n",
       "      <td>uk.org.publicwhip/person/26689</td>\n",
       "      <td>None</td>\n",
       "      <td>Simon</td>\n",
       "      <td>None</td>\n",
       "      <td>NaT</td>\n",
       "    </tr>\n",
       "    <tr>\n",
       "      <th>14627</th>\n",
       "      <td>uk.org.publicwhip/person/26690</td>\n",
       "      <td>None</td>\n",
       "      <td>Sharon</td>\n",
       "      <td>None</td>\n",
       "      <td>NaT</td>\n",
       "    </tr>\n",
       "    <tr>\n",
       "      <th>14628</th>\n",
       "      <td>uk.org.publicwhip/person/26691</td>\n",
       "      <td>None</td>\n",
       "      <td>Timothy</td>\n",
       "      <td>None</td>\n",
       "      <td>NaT</td>\n",
       "    </tr>\n",
       "    <tr>\n",
       "      <th>14629</th>\n",
       "      <td>uk.org.publicwhip/person/26692</td>\n",
       "      <td>None</td>\n",
       "      <td>Jon</td>\n",
       "      <td>Burrows</td>\n",
       "      <td>NaT</td>\n",
       "    </tr>\n",
       "    <tr>\n",
       "      <th>14630</th>\n",
       "      <td>uk.org.publicwhip/person/26693</td>\n",
       "      <td>None</td>\n",
       "      <td>Jonathan</td>\n",
       "      <td>None</td>\n",
       "      <td>NaT</td>\n",
       "    </tr>\n",
       "  </tbody>\n",
       "</table>\n",
       "<p>14631 rows × 5 columns</p>\n",
       "</div>"
      ],
      "text/plain": [
       "                            person_id redirect_id first_name family_name  \\\n",
       "0      uk.org.publicwhip/person/10001        None      Diane      Abbott   \n",
       "1      uk.org.publicwhip/person/10002        None      Gerry       Adams   \n",
       "2      uk.org.publicwhip/person/10003        None      Irene       Adams   \n",
       "3      uk.org.publicwhip/person/10004        None       Nick      Ainger   \n",
       "4      uk.org.publicwhip/person/10005        None        Bob   Ainsworth   \n",
       "...                               ...         ...        ...         ...   \n",
       "14626  uk.org.publicwhip/person/26689        None      Simon        None   \n",
       "14627  uk.org.publicwhip/person/26690        None     Sharon        None   \n",
       "14628  uk.org.publicwhip/person/26691        None    Timothy        None   \n",
       "14629  uk.org.publicwhip/person/26692        None        Jon     Burrows   \n",
       "14630  uk.org.publicwhip/person/26693        None  Jonathan         None   \n",
       "\n",
       "             dob  \n",
       "0     1953-09-27  \n",
       "1     1948-10-06  \n",
       "2            NaT  \n",
       "3     1949-10-24  \n",
       "4     1952-06-19  \n",
       "...          ...  \n",
       "14626        NaT  \n",
       "14627        NaT  \n",
       "14628        NaT  \n",
       "14629        NaT  \n",
       "14630        NaT  \n",
       "\n",
       "[14631 rows x 5 columns]"
      ]
     },
     "execution_count": 4,
     "metadata": {},
     "output_type": "execute_result"
    }
   ],
   "source": [
    "url = 'https://raw.githubusercontent.com/mysociety/parlparse/master/members/dates-of-birth.xml'\n",
    "\n",
    "response = requests.get(url)\n",
    "response_xml = response.content.decode()\n",
    "\n",
    "bs = BeautifulSoup(response_xml)\n",
    "\n",
    "dob_dict = {'person_id':[],\n",
    "            'dob':[]}\n",
    "\n",
    "for info in bs.find_all('personinfo'):\n",
    "    person_id = info['id']\n",
    "    dob = pd.to_datetime(info['date_of_birth'])\n",
    "    \n",
    "    for variable in dob_dict.keys():\n",
    "        dob_dict[variable].append(eval(variable))\n",
    "    \n",
    "dob_df = pd.DataFrame(dob_dict)\n",
    "people_df.merge(dob_df, how='left')"
   ]
  },
  {
   "cell_type": "code",
   "execution_count": 5,
   "id": "fcc6d31b",
   "metadata": {
    "execution": {
     "iopub.execute_input": "2025-10-03T20:59:06.968975Z",
     "iopub.status.busy": "2025-10-03T20:59:06.968861Z",
     "iopub.status.idle": "2025-10-03T21:00:23.336236Z",
     "shell.execute_reply": "2025-10-03T21:00:23.335426Z"
    },
    "papermill": {
     "duration": 76.369858,
     "end_time": "2025-10-03T21:00:23.337242",
     "exception": false,
     "start_time": "2025-10-03T20:59:06.967384",
     "status": "completed"
    },
    "tags": []
   },
   "outputs": [
    {
     "name": "stderr",
     "output_type": "stream",
     "text": [
      "\r",
      "  0%|                                                                                        | 0/14631 [00:00<?, ?it/s]"
     ]
    },
    {
     "name": "stderr",
     "output_type": "stream",
     "text": [
      "\r",
      "  0%|                                                                              | 19/14631 [00:00<01:17, 187.49it/s]"
     ]
    },
    {
     "name": "stderr",
     "output_type": "stream",
     "text": [
      "\r",
      "  0%|▏                                                                             | 38/14631 [00:00<01:22, 176.20it/s]"
     ]
    },
    {
     "name": "stderr",
     "output_type": "stream",
     "text": [
      "\r",
      "  0%|▎                                                                             | 57/14631 [00:00<01:20, 180.16it/s]"
     ]
    },
    {
     "name": "stderr",
     "output_type": "stream",
     "text": [
      "\r",
      "  1%|▍                                                                             | 77/14631 [00:00<01:18, 186.45it/s]"
     ]
    },
    {
     "name": "stderr",
     "output_type": "stream",
     "text": [
      "\r",
      "  1%|▌                                                                             | 97/14631 [00:00<01:16, 190.34it/s]"
     ]
    },
    {
     "name": "stderr",
     "output_type": "stream",
     "text": [
      "\r",
      "  1%|▌                                                                            | 117/14631 [00:00<01:14, 193.55it/s]"
     ]
    },
    {
     "name": "stderr",
     "output_type": "stream",
     "text": [
      "\r",
      "  1%|▋                                                                            | 138/14631 [00:00<01:13, 196.20it/s]"
     ]
    },
    {
     "name": "stderr",
     "output_type": "stream",
     "text": [
      "\r",
      "  1%|▊                                                                            | 159/14631 [00:00<01:12, 198.25it/s]"
     ]
    },
    {
     "name": "stderr",
     "output_type": "stream",
     "text": [
      "\r",
      "  1%|▉                                                                            | 179/14631 [00:00<01:12, 198.68it/s]"
     ]
    },
    {
     "name": "stderr",
     "output_type": "stream",
     "text": [
      "\r",
      "  1%|█                                                                            | 199/14631 [00:01<01:12, 198.35it/s]"
     ]
    },
    {
     "name": "stderr",
     "output_type": "stream",
     "text": [
      "\r",
      "  2%|█▏                                                                           | 220/14631 [00:01<01:12, 199.43it/s]"
     ]
    },
    {
     "name": "stderr",
     "output_type": "stream",
     "text": [
      "\r",
      "  2%|█▎                                                                           | 241/14631 [00:01<01:11, 200.07it/s]"
     ]
    },
    {
     "name": "stderr",
     "output_type": "stream",
     "text": [
      "\r",
      "  2%|█▍                                                                           | 262/14631 [00:01<01:13, 195.87it/s]"
     ]
    },
    {
     "name": "stderr",
     "output_type": "stream",
     "text": [
      "\r",
      "  2%|█▍                                                                           | 282/14631 [00:01<01:12, 196.59it/s]"
     ]
    },
    {
     "name": "stderr",
     "output_type": "stream",
     "text": [
      "\r",
      "  2%|█▌                                                                           | 302/14631 [00:01<01:12, 196.29it/s]"
     ]
    },
    {
     "name": "stderr",
     "output_type": "stream",
     "text": [
      "\r",
      "  2%|█▋                                                                           | 322/14631 [00:01<01:13, 195.85it/s]"
     ]
    },
    {
     "name": "stderr",
     "output_type": "stream",
     "text": [
      "\r",
      "  2%|█▊                                                                           | 342/14631 [00:01<01:13, 195.02it/s]"
     ]
    },
    {
     "name": "stderr",
     "output_type": "stream",
     "text": [
      "\r",
      "  2%|█▉                                                                           | 362/14631 [00:01<01:13, 193.66it/s]"
     ]
    },
    {
     "name": "stderr",
     "output_type": "stream",
     "text": [
      "\r",
      "  3%|██                                                                           | 382/14631 [00:01<01:19, 180.16it/s]"
     ]
    },
    {
     "name": "stderr",
     "output_type": "stream",
     "text": [
      "\r",
      "  3%|██                                                                           | 402/14631 [00:02<01:16, 185.30it/s]"
     ]
    },
    {
     "name": "stderr",
     "output_type": "stream",
     "text": [
      "\r",
      "  3%|██▏                                                                          | 422/14631 [00:02<01:14, 189.45it/s]"
     ]
    },
    {
     "name": "stderr",
     "output_type": "stream",
     "text": [
      "\r",
      "  3%|██▎                                                                          | 443/14631 [00:02<01:13, 192.63it/s]"
     ]
    },
    {
     "name": "stderr",
     "output_type": "stream",
     "text": [
      "\r",
      "  3%|██▍                                                                          | 464/14631 [00:02<01:12, 194.89it/s]"
     ]
    },
    {
     "name": "stderr",
     "output_type": "stream",
     "text": [
      "\r",
      "  3%|██▌                                                                          | 485/14631 [00:02<01:11, 197.07it/s]"
     ]
    },
    {
     "name": "stderr",
     "output_type": "stream",
     "text": [
      "\r",
      "  3%|██▋                                                                          | 506/14631 [00:02<01:11, 198.86it/s]"
     ]
    },
    {
     "name": "stderr",
     "output_type": "stream",
     "text": [
      "\r",
      "  4%|██▊                                                                          | 527/14631 [00:02<01:10, 199.29it/s]"
     ]
    },
    {
     "name": "stderr",
     "output_type": "stream",
     "text": [
      "\r",
      "  4%|██▉                                                                          | 548/14631 [00:02<01:10, 200.10it/s]"
     ]
    },
    {
     "name": "stderr",
     "output_type": "stream",
     "text": [
      "\r",
      "  4%|██▉                                                                          | 569/14631 [00:02<01:10, 200.65it/s]"
     ]
    },
    {
     "name": "stderr",
     "output_type": "stream",
     "text": [
      "\r",
      "  4%|███                                                                          | 590/14631 [00:03<01:09, 201.39it/s]"
     ]
    },
    {
     "name": "stderr",
     "output_type": "stream",
     "text": [
      "\r",
      "  4%|███▏                                                                         | 611/14631 [00:03<01:09, 201.82it/s]"
     ]
    },
    {
     "name": "stderr",
     "output_type": "stream",
     "text": [
      "\r",
      "  4%|███▎                                                                         | 632/14631 [00:03<01:09, 201.51it/s]"
     ]
    },
    {
     "name": "stderr",
     "output_type": "stream",
     "text": [
      "\r",
      "  4%|███▍                                                                         | 653/14631 [00:03<01:09, 200.15it/s]"
     ]
    },
    {
     "name": "stderr",
     "output_type": "stream",
     "text": [
      "\r",
      "  5%|███▌                                                                         | 674/14631 [00:03<01:10, 198.81it/s]"
     ]
    },
    {
     "name": "stderr",
     "output_type": "stream",
     "text": [
      "\r",
      "  5%|███▋                                                                         | 694/14631 [00:03<01:10, 197.31it/s]"
     ]
    },
    {
     "name": "stderr",
     "output_type": "stream",
     "text": [
      "\r",
      "  5%|███▊                                                                         | 714/14631 [00:03<01:11, 194.10it/s]"
     ]
    },
    {
     "name": "stderr",
     "output_type": "stream",
     "text": [
      "\r",
      "  5%|███▊                                                                         | 734/14631 [00:03<01:11, 195.65it/s]"
     ]
    },
    {
     "name": "stderr",
     "output_type": "stream",
     "text": [
      "\r",
      "  5%|███▉                                                                         | 754/14631 [00:03<01:18, 177.89it/s]"
     ]
    },
    {
     "name": "stderr",
     "output_type": "stream",
     "text": [
      "\r",
      "  5%|████                                                                         | 773/14631 [00:04<01:17, 179.12it/s]"
     ]
    },
    {
     "name": "stderr",
     "output_type": "stream",
     "text": [
      "\r",
      "  5%|████▏                                                                        | 794/14631 [00:04<01:14, 185.64it/s]"
     ]
    },
    {
     "name": "stderr",
     "output_type": "stream",
     "text": [
      "\r",
      "  6%|████▎                                                                        | 814/14631 [00:04<01:13, 188.89it/s]"
     ]
    },
    {
     "name": "stderr",
     "output_type": "stream",
     "text": [
      "\r",
      "  6%|████▍                                                                        | 834/14631 [00:04<01:12, 190.09it/s]"
     ]
    },
    {
     "name": "stderr",
     "output_type": "stream",
     "text": [
      "\r",
      "  6%|████▍                                                                        | 855/14631 [00:04<01:11, 193.91it/s]"
     ]
    },
    {
     "name": "stderr",
     "output_type": "stream",
     "text": [
      "\r",
      "  6%|████▌                                                                        | 876/14631 [00:04<01:10, 196.21it/s]"
     ]
    },
    {
     "name": "stderr",
     "output_type": "stream",
     "text": [
      "\r",
      "  6%|████▋                                                                        | 897/14631 [00:04<01:09, 198.40it/s]"
     ]
    },
    {
     "name": "stderr",
     "output_type": "stream",
     "text": [
      "\r",
      "  6%|████▊                                                                        | 918/14631 [00:04<01:08, 199.19it/s]"
     ]
    },
    {
     "name": "stderr",
     "output_type": "stream",
     "text": [
      "\r",
      "  6%|████▉                                                                        | 938/14631 [00:04<01:08, 198.94it/s]"
     ]
    },
    {
     "name": "stderr",
     "output_type": "stream",
     "text": [
      "\r",
      "  7%|█████                                                                        | 958/14631 [00:04<01:08, 198.93it/s]"
     ]
    },
    {
     "name": "stderr",
     "output_type": "stream",
     "text": [
      "\r",
      "  7%|█████▏                                                                       | 979/14631 [00:05<01:08, 199.19it/s]"
     ]
    },
    {
     "name": "stderr",
     "output_type": "stream",
     "text": [
      "\r",
      "  7%|█████▎                                                                       | 999/14631 [00:05<01:08, 199.02it/s]"
     ]
    },
    {
     "name": "stderr",
     "output_type": "stream",
     "text": [
      "\r",
      "  7%|█████▎                                                                      | 1019/14631 [00:05<01:08, 197.59it/s]"
     ]
    },
    {
     "name": "stderr",
     "output_type": "stream",
     "text": [
      "\r",
      "  7%|█████▍                                                                      | 1040/14631 [00:05<01:08, 198.72it/s]"
     ]
    },
    {
     "name": "stderr",
     "output_type": "stream",
     "text": [
      "\r",
      "  7%|█████▌                                                                      | 1060/14631 [00:05<01:08, 196.96it/s]"
     ]
    },
    {
     "name": "stderr",
     "output_type": "stream",
     "text": [
      "\r",
      "  7%|█████▌                                                                      | 1080/14631 [00:05<01:09, 194.90it/s]"
     ]
    },
    {
     "name": "stderr",
     "output_type": "stream",
     "text": [
      "\r",
      "  8%|█████▋                                                                      | 1100/14631 [00:05<01:11, 190.12it/s]"
     ]
    },
    {
     "name": "stderr",
     "output_type": "stream",
     "text": [
      "\r",
      "  8%|█████▊                                                                      | 1120/14631 [00:05<01:12, 187.51it/s]"
     ]
    },
    {
     "name": "stderr",
     "output_type": "stream",
     "text": [
      "\r",
      "  8%|█████▉                                                                      | 1139/14631 [00:05<01:12, 187.06it/s]"
     ]
    },
    {
     "name": "stderr",
     "output_type": "stream",
     "text": [
      "\r",
      "  8%|██████                                                                      | 1158/14631 [00:05<01:12, 186.84it/s]"
     ]
    },
    {
     "name": "stderr",
     "output_type": "stream",
     "text": [
      "\r",
      "  8%|██████                                                                      | 1177/14631 [00:06<01:12, 186.64it/s]"
     ]
    },
    {
     "name": "stderr",
     "output_type": "stream",
     "text": [
      "\r",
      "  8%|██████▏                                                                     | 1196/14631 [00:06<01:12, 184.41it/s]"
     ]
    },
    {
     "name": "stderr",
     "output_type": "stream",
     "text": [
      "\r",
      "  8%|██████▎                                                                     | 1215/14631 [00:06<01:12, 184.22it/s]"
     ]
    },
    {
     "name": "stderr",
     "output_type": "stream",
     "text": [
      "\r",
      "  8%|██████▍                                                                     | 1234/14631 [00:06<01:13, 183.31it/s]"
     ]
    },
    {
     "name": "stderr",
     "output_type": "stream",
     "text": [
      "\r",
      "  9%|██████▌                                                                     | 1253/14631 [00:06<01:22, 161.73it/s]"
     ]
    },
    {
     "name": "stderr",
     "output_type": "stream",
     "text": [
      "\r",
      "  9%|██████▌                                                                     | 1270/14631 [00:06<01:29, 149.78it/s]"
     ]
    },
    {
     "name": "stderr",
     "output_type": "stream",
     "text": [
      "\r",
      "  9%|██████▋                                                                     | 1286/14631 [00:06<01:28, 150.92it/s]"
     ]
    },
    {
     "name": "stderr",
     "output_type": "stream",
     "text": [
      "\r",
      "  9%|██████▊                                                                     | 1302/14631 [00:06<01:28, 150.62it/s]"
     ]
    },
    {
     "name": "stderr",
     "output_type": "stream",
     "text": [
      "\r",
      "  9%|██████▊                                                                     | 1318/14631 [00:06<01:26, 153.15it/s]"
     ]
    },
    {
     "name": "stderr",
     "output_type": "stream",
     "text": [
      "\r",
      "  9%|██████▉                                                                     | 1335/14631 [00:07<01:25, 156.25it/s]"
     ]
    },
    {
     "name": "stderr",
     "output_type": "stream",
     "text": [
      "\r",
      "  9%|███████                                                                     | 1352/14631 [00:07<01:22, 160.09it/s]"
     ]
    },
    {
     "name": "stderr",
     "output_type": "stream",
     "text": [
      "\r",
      "  9%|███████                                                                     | 1370/14631 [00:07<01:20, 164.82it/s]"
     ]
    },
    {
     "name": "stderr",
     "output_type": "stream",
     "text": [
      "\r",
      "  9%|███████▏                                                                    | 1389/14631 [00:07<01:17, 170.14it/s]"
     ]
    },
    {
     "name": "stderr",
     "output_type": "stream",
     "text": [
      "\r",
      " 10%|███████▎                                                                    | 1408/14631 [00:07<01:16, 172.85it/s]"
     ]
    },
    {
     "name": "stderr",
     "output_type": "stream",
     "text": [
      "\r",
      " 10%|███████▍                                                                    | 1428/14631 [00:07<01:13, 179.78it/s]"
     ]
    },
    {
     "name": "stderr",
     "output_type": "stream",
     "text": [
      "\r",
      " 10%|███████▌                                                                    | 1449/14631 [00:07<01:10, 186.37it/s]"
     ]
    },
    {
     "name": "stderr",
     "output_type": "stream",
     "text": [
      "\r",
      " 10%|███████▋                                                                    | 1470/14631 [00:07<01:08, 191.20it/s]"
     ]
    },
    {
     "name": "stderr",
     "output_type": "stream",
     "text": [
      "\r",
      " 10%|███████▋                                                                    | 1490/14631 [00:07<01:07, 193.68it/s]"
     ]
    },
    {
     "name": "stderr",
     "output_type": "stream",
     "text": [
      "\r",
      " 10%|███████▊                                                                    | 1511/14631 [00:08<01:06, 195.99it/s]"
     ]
    },
    {
     "name": "stderr",
     "output_type": "stream",
     "text": [
      "\r",
      " 10%|███████▉                                                                    | 1532/14631 [00:08<01:06, 198.45it/s]"
     ]
    },
    {
     "name": "stderr",
     "output_type": "stream",
     "text": [
      "\r",
      " 11%|████████                                                                    | 1553/14631 [00:08<01:05, 199.79it/s]"
     ]
    },
    {
     "name": "stderr",
     "output_type": "stream",
     "text": [
      "\r",
      " 11%|████████▏                                                                   | 1574/14631 [00:08<01:05, 200.12it/s]"
     ]
    },
    {
     "name": "stderr",
     "output_type": "stream",
     "text": [
      "\r",
      " 11%|████████▎                                                                   | 1595/14631 [00:08<01:06, 197.14it/s]"
     ]
    },
    {
     "name": "stderr",
     "output_type": "stream",
     "text": [
      "\r",
      " 11%|████████▍                                                                   | 1615/14631 [00:08<01:06, 196.41it/s]"
     ]
    },
    {
     "name": "stderr",
     "output_type": "stream",
     "text": [
      "\r",
      " 11%|████████▍                                                                   | 1636/14631 [00:08<01:05, 197.80it/s]"
     ]
    },
    {
     "name": "stderr",
     "output_type": "stream",
     "text": [
      "\r",
      " 11%|████████▌                                                                   | 1657/14631 [00:08<01:04, 199.69it/s]"
     ]
    },
    {
     "name": "stderr",
     "output_type": "stream",
     "text": [
      "\r",
      " 11%|████████▋                                                                   | 1678/14631 [00:08<01:04, 201.07it/s]"
     ]
    },
    {
     "name": "stderr",
     "output_type": "stream",
     "text": [
      "\r",
      " 12%|████████▊                                                                   | 1699/14631 [00:08<01:03, 202.36it/s]"
     ]
    },
    {
     "name": "stderr",
     "output_type": "stream",
     "text": [
      "\r",
      " 12%|████████▉                                                                   | 1720/14631 [00:09<01:03, 203.17it/s]"
     ]
    },
    {
     "name": "stderr",
     "output_type": "stream",
     "text": [
      "\r",
      " 12%|█████████                                                                   | 1741/14631 [00:09<01:03, 204.22it/s]"
     ]
    },
    {
     "name": "stderr",
     "output_type": "stream",
     "text": [
      "\r",
      " 12%|█████████▏                                                                  | 1762/14631 [00:09<01:02, 205.62it/s]"
     ]
    },
    {
     "name": "stderr",
     "output_type": "stream",
     "text": [
      "\r",
      " 12%|█████████▎                                                                  | 1783/14631 [00:09<01:02, 206.53it/s]"
     ]
    },
    {
     "name": "stderr",
     "output_type": "stream",
     "text": [
      "\r",
      " 12%|█████████▎                                                                  | 1804/14631 [00:09<01:02, 206.74it/s]"
     ]
    },
    {
     "name": "stderr",
     "output_type": "stream",
     "text": [
      "\r",
      " 12%|█████████▍                                                                  | 1825/14631 [00:09<01:01, 206.81it/s]"
     ]
    },
    {
     "name": "stderr",
     "output_type": "stream",
     "text": [
      "\r",
      " 13%|█████████▌                                                                  | 1846/14631 [00:09<01:01, 207.15it/s]"
     ]
    },
    {
     "name": "stderr",
     "output_type": "stream",
     "text": [
      "\r",
      " 13%|█████████▋                                                                  | 1867/14631 [00:09<01:01, 206.80it/s]"
     ]
    },
    {
     "name": "stderr",
     "output_type": "stream",
     "text": [
      "\r",
      " 13%|█████████▊                                                                  | 1888/14631 [00:09<01:01, 205.96it/s]"
     ]
    },
    {
     "name": "stderr",
     "output_type": "stream",
     "text": [
      "\r",
      " 13%|█████████▉                                                                  | 1909/14631 [00:09<01:02, 203.53it/s]"
     ]
    },
    {
     "name": "stderr",
     "output_type": "stream",
     "text": [
      "\r",
      " 13%|██████████                                                                  | 1930/14631 [00:10<01:02, 203.92it/s]"
     ]
    },
    {
     "name": "stderr",
     "output_type": "stream",
     "text": [
      "\r",
      " 13%|██████████▏                                                                 | 1951/14631 [00:10<01:02, 203.78it/s]"
     ]
    },
    {
     "name": "stderr",
     "output_type": "stream",
     "text": [
      "\r",
      " 13%|██████████▏                                                                 | 1972/14631 [00:10<01:02, 204.03it/s]"
     ]
    },
    {
     "name": "stderr",
     "output_type": "stream",
     "text": [
      "\r",
      " 14%|██████████▎                                                                 | 1993/14631 [00:10<01:01, 204.07it/s]"
     ]
    },
    {
     "name": "stderr",
     "output_type": "stream",
     "text": [
      "\r",
      " 14%|██████████▍                                                                 | 2014/14631 [00:10<01:01, 204.61it/s]"
     ]
    },
    {
     "name": "stderr",
     "output_type": "stream",
     "text": [
      "\r",
      " 14%|██████████▌                                                                 | 2035/14631 [00:10<01:01, 204.58it/s]"
     ]
    },
    {
     "name": "stderr",
     "output_type": "stream",
     "text": [
      "\r",
      " 14%|██████████▋                                                                 | 2056/14631 [00:10<01:01, 204.36it/s]"
     ]
    },
    {
     "name": "stderr",
     "output_type": "stream",
     "text": [
      "\r",
      " 14%|██████████▊                                                                 | 2077/14631 [00:10<01:01, 203.90it/s]"
     ]
    },
    {
     "name": "stderr",
     "output_type": "stream",
     "text": [
      "\r",
      " 14%|██████████▉                                                                 | 2098/14631 [00:10<01:01, 204.11it/s]"
     ]
    },
    {
     "name": "stderr",
     "output_type": "stream",
     "text": [
      "\r",
      " 14%|███████████                                                                 | 2119/14631 [00:10<01:01, 204.53it/s]"
     ]
    },
    {
     "name": "stderr",
     "output_type": "stream",
     "text": [
      "\r",
      " 15%|███████████                                                                 | 2140/14631 [00:11<01:00, 204.84it/s]"
     ]
    },
    {
     "name": "stderr",
     "output_type": "stream",
     "text": [
      "\r",
      " 15%|███████████▏                                                                | 2161/14631 [00:11<01:00, 205.32it/s]"
     ]
    },
    {
     "name": "stderr",
     "output_type": "stream",
     "text": [
      "\r",
      " 15%|███████████▎                                                                | 2182/14631 [00:11<01:00, 204.81it/s]"
     ]
    },
    {
     "name": "stderr",
     "output_type": "stream",
     "text": [
      "\r",
      " 15%|███████████▍                                                                | 2203/14631 [00:11<01:00, 204.20it/s]"
     ]
    },
    {
     "name": "stderr",
     "output_type": "stream",
     "text": [
      "\r",
      " 15%|███████████▌                                                                | 2224/14631 [00:11<01:01, 202.41it/s]"
     ]
    },
    {
     "name": "stderr",
     "output_type": "stream",
     "text": [
      "\r",
      " 15%|███████████▋                                                                | 2245/14631 [00:11<01:03, 194.30it/s]"
     ]
    },
    {
     "name": "stderr",
     "output_type": "stream",
     "text": [
      "\r",
      " 15%|███████████▊                                                                | 2265/14631 [00:11<01:05, 188.83it/s]"
     ]
    },
    {
     "name": "stderr",
     "output_type": "stream",
     "text": [
      "\r",
      " 16%|███████████▊                                                                | 2284/14631 [00:11<01:06, 184.88it/s]"
     ]
    },
    {
     "name": "stderr",
     "output_type": "stream",
     "text": [
      "\r",
      " 16%|███████████▉                                                                | 2303/14631 [00:11<01:06, 185.35it/s]"
     ]
    },
    {
     "name": "stderr",
     "output_type": "stream",
     "text": [
      "\r",
      " 16%|████████████                                                                | 2323/14631 [00:12<01:04, 189.39it/s]"
     ]
    },
    {
     "name": "stderr",
     "output_type": "stream",
     "text": [
      "\r",
      " 16%|████████████▏                                                               | 2344/14631 [00:12<01:03, 192.95it/s]"
     ]
    },
    {
     "name": "stderr",
     "output_type": "stream",
     "text": [
      "\r",
      " 16%|████████████▎                                                               | 2365/14631 [00:12<01:02, 196.12it/s]"
     ]
    },
    {
     "name": "stderr",
     "output_type": "stream",
     "text": [
      "\r",
      " 16%|████████████▍                                                               | 2385/14631 [00:12<01:02, 196.65it/s]"
     ]
    },
    {
     "name": "stderr",
     "output_type": "stream",
     "text": [
      "\r",
      " 16%|████████████▍                                                               | 2405/14631 [00:12<01:02, 197.19it/s]"
     ]
    },
    {
     "name": "stderr",
     "output_type": "stream",
     "text": [
      "\r",
      " 17%|████████████▌                                                               | 2425/14631 [00:12<01:01, 197.21it/s]"
     ]
    },
    {
     "name": "stderr",
     "output_type": "stream",
     "text": [
      "\r",
      " 17%|████████████▋                                                               | 2445/14631 [00:12<01:01, 196.71it/s]"
     ]
    },
    {
     "name": "stderr",
     "output_type": "stream",
     "text": [
      "\r",
      " 17%|████████████▊                                                               | 2466/14631 [00:12<01:01, 198.52it/s]"
     ]
    },
    {
     "name": "stderr",
     "output_type": "stream",
     "text": [
      "\r",
      " 17%|████████████▉                                                               | 2487/14631 [00:12<01:00, 199.60it/s]"
     ]
    },
    {
     "name": "stderr",
     "output_type": "stream",
     "text": [
      "\r",
      " 17%|█████████████                                                               | 2508/14631 [00:12<01:00, 200.12it/s]"
     ]
    },
    {
     "name": "stderr",
     "output_type": "stream",
     "text": [
      "\r",
      " 17%|█████████████▏                                                              | 2529/14631 [00:13<01:00, 199.87it/s]"
     ]
    },
    {
     "name": "stderr",
     "output_type": "stream",
     "text": [
      "\r",
      " 17%|█████████████▏                                                              | 2550/14631 [00:13<01:00, 200.27it/s]"
     ]
    },
    {
     "name": "stderr",
     "output_type": "stream",
     "text": [
      "\r",
      " 18%|█████████████▎                                                              | 2571/14631 [00:13<01:01, 197.17it/s]"
     ]
    },
    {
     "name": "stderr",
     "output_type": "stream",
     "text": [
      "\r",
      " 18%|█████████████▍                                                              | 2591/14631 [00:13<01:00, 197.46it/s]"
     ]
    },
    {
     "name": "stderr",
     "output_type": "stream",
     "text": [
      "\r",
      " 18%|█████████████▌                                                              | 2611/14631 [00:13<01:00, 197.10it/s]"
     ]
    },
    {
     "name": "stderr",
     "output_type": "stream",
     "text": [
      "\r",
      " 18%|█████████████▋                                                              | 2632/14631 [00:13<01:00, 198.55it/s]"
     ]
    },
    {
     "name": "stderr",
     "output_type": "stream",
     "text": [
      "\r",
      " 18%|█████████████▊                                                              | 2653/14631 [00:13<00:59, 200.08it/s]"
     ]
    },
    {
     "name": "stderr",
     "output_type": "stream",
     "text": [
      "\r",
      " 18%|█████████████▉                                                              | 2674/14631 [00:13<00:59, 200.00it/s]"
     ]
    },
    {
     "name": "stderr",
     "output_type": "stream",
     "text": [
      "\r",
      " 18%|█████████████▉                                                              | 2695/14631 [00:13<00:59, 199.58it/s]"
     ]
    },
    {
     "name": "stderr",
     "output_type": "stream",
     "text": [
      "\r",
      " 19%|██████████████                                                              | 2716/14631 [00:14<00:59, 200.24it/s]"
     ]
    },
    {
     "name": "stderr",
     "output_type": "stream",
     "text": [
      "\r",
      " 19%|██████████████▏                                                             | 2737/14631 [00:14<00:59, 198.78it/s]"
     ]
    },
    {
     "name": "stderr",
     "output_type": "stream",
     "text": [
      "\r",
      " 19%|██████████████▎                                                             | 2757/14631 [00:14<00:59, 198.76it/s]"
     ]
    },
    {
     "name": "stderr",
     "output_type": "stream",
     "text": [
      "\r",
      " 19%|██████████████▍                                                             | 2777/14631 [00:14<01:00, 195.04it/s]"
     ]
    },
    {
     "name": "stderr",
     "output_type": "stream",
     "text": [
      "\r",
      " 19%|██████████████▌                                                             | 2797/14631 [00:14<01:00, 195.92it/s]"
     ]
    },
    {
     "name": "stderr",
     "output_type": "stream",
     "text": [
      "\r",
      " 19%|██████████████▋                                                             | 2818/14631 [00:14<00:59, 197.31it/s]"
     ]
    },
    {
     "name": "stderr",
     "output_type": "stream",
     "text": [
      "\r",
      " 19%|██████████████▋                                                             | 2839/14631 [00:14<00:59, 198.62it/s]"
     ]
    },
    {
     "name": "stderr",
     "output_type": "stream",
     "text": [
      "\r",
      " 20%|██████████████▊                                                             | 2860/14631 [00:14<00:58, 199.63it/s]"
     ]
    },
    {
     "name": "stderr",
     "output_type": "stream",
     "text": [
      "\r",
      " 20%|██████████████▉                                                             | 2881/14631 [00:14<00:58, 201.43it/s]"
     ]
    },
    {
     "name": "stderr",
     "output_type": "stream",
     "text": [
      "\r",
      " 20%|███████████████                                                             | 2902/14631 [00:14<00:57, 203.15it/s]"
     ]
    },
    {
     "name": "stderr",
     "output_type": "stream",
     "text": [
      "\r",
      " 20%|███████████████▏                                                            | 2923/14631 [00:15<00:57, 204.23it/s]"
     ]
    },
    {
     "name": "stderr",
     "output_type": "stream",
     "text": [
      "\r",
      " 20%|███████████████▎                                                            | 2944/14631 [00:15<00:57, 204.02it/s]"
     ]
    },
    {
     "name": "stderr",
     "output_type": "stream",
     "text": [
      "\r",
      " 20%|███████████████▍                                                            | 2965/14631 [00:15<00:57, 203.16it/s]"
     ]
    },
    {
     "name": "stderr",
     "output_type": "stream",
     "text": [
      "\r",
      " 20%|███████████████▌                                                            | 2986/14631 [00:15<00:57, 203.33it/s]"
     ]
    },
    {
     "name": "stderr",
     "output_type": "stream",
     "text": [
      "\r",
      " 21%|███████████████▌                                                            | 3007/14631 [00:15<00:57, 202.78it/s]"
     ]
    },
    {
     "name": "stderr",
     "output_type": "stream",
     "text": [
      "\r",
      " 21%|███████████████▋                                                            | 3028/14631 [00:15<00:57, 201.87it/s]"
     ]
    },
    {
     "name": "stderr",
     "output_type": "stream",
     "text": [
      "\r",
      " 21%|███████████████▊                                                            | 3049/14631 [00:15<00:57, 201.49it/s]"
     ]
    },
    {
     "name": "stderr",
     "output_type": "stream",
     "text": [
      "\r",
      " 21%|███████████████▉                                                            | 3070/14631 [00:15<00:57, 202.24it/s]"
     ]
    },
    {
     "name": "stderr",
     "output_type": "stream",
     "text": [
      "\r",
      " 21%|████████████████                                                            | 3091/14631 [00:15<00:57, 202.34it/s]"
     ]
    },
    {
     "name": "stderr",
     "output_type": "stream",
     "text": [
      "\r",
      " 21%|████████████████▏                                                           | 3112/14631 [00:15<00:56, 202.20it/s]"
     ]
    },
    {
     "name": "stderr",
     "output_type": "stream",
     "text": [
      "\r",
      " 21%|████████████████▎                                                           | 3133/14631 [00:16<00:56, 201.84it/s]"
     ]
    },
    {
     "name": "stderr",
     "output_type": "stream",
     "text": [
      "\r",
      " 22%|████████████████▍                                                           | 3154/14631 [00:16<00:57, 201.26it/s]"
     ]
    },
    {
     "name": "stderr",
     "output_type": "stream",
     "text": [
      "\r",
      " 22%|████████████████▍                                                           | 3175/14631 [00:16<00:57, 199.20it/s]"
     ]
    },
    {
     "name": "stderr",
     "output_type": "stream",
     "text": [
      "\r",
      " 22%|████████████████▌                                                           | 3195/14631 [00:16<00:58, 195.31it/s]"
     ]
    },
    {
     "name": "stderr",
     "output_type": "stream",
     "text": [
      "\r",
      " 22%|████████████████▋                                                           | 3215/14631 [00:16<00:58, 196.61it/s]"
     ]
    },
    {
     "name": "stderr",
     "output_type": "stream",
     "text": [
      "\r",
      " 22%|████████████████▊                                                           | 3235/14631 [00:16<00:57, 196.78it/s]"
     ]
    },
    {
     "name": "stderr",
     "output_type": "stream",
     "text": [
      "\r",
      " 22%|████████████████▉                                                           | 3255/14631 [00:16<00:57, 197.12it/s]"
     ]
    },
    {
     "name": "stderr",
     "output_type": "stream",
     "text": [
      "\r",
      " 22%|█████████████████                                                           | 3275/14631 [00:16<00:58, 193.18it/s]"
     ]
    },
    {
     "name": "stderr",
     "output_type": "stream",
     "text": [
      "\r",
      " 23%|█████████████████                                                           | 3295/14631 [00:16<00:58, 194.67it/s]"
     ]
    },
    {
     "name": "stderr",
     "output_type": "stream",
     "text": [
      "\r",
      " 23%|█████████████████▏                                                          | 3315/14631 [00:17<00:57, 195.72it/s]"
     ]
    },
    {
     "name": "stderr",
     "output_type": "stream",
     "text": [
      "\r",
      " 23%|█████████████████▎                                                          | 3336/14631 [00:17<00:57, 197.56it/s]"
     ]
    },
    {
     "name": "stderr",
     "output_type": "stream",
     "text": [
      "\r",
      " 23%|█████████████████▍                                                          | 3357/14631 [00:17<00:56, 198.84it/s]"
     ]
    },
    {
     "name": "stderr",
     "output_type": "stream",
     "text": [
      "\r",
      " 23%|█████████████████▌                                                          | 3377/14631 [00:17<00:56, 199.05it/s]"
     ]
    },
    {
     "name": "stderr",
     "output_type": "stream",
     "text": [
      "\r",
      " 23%|█████████████████▋                                                          | 3397/14631 [00:17<00:56, 198.14it/s]"
     ]
    },
    {
     "name": "stderr",
     "output_type": "stream",
     "text": [
      "\r",
      " 23%|█████████████████▋                                                          | 3417/14631 [00:17<00:57, 194.22it/s]"
     ]
    },
    {
     "name": "stderr",
     "output_type": "stream",
     "text": [
      "\r",
      " 23%|█████████████████▊                                                          | 3437/14631 [00:17<01:05, 170.76it/s]"
     ]
    },
    {
     "name": "stderr",
     "output_type": "stream",
     "text": [
      "\r",
      " 24%|█████████████████▉                                                          | 3455/14631 [00:17<01:14, 149.65it/s]"
     ]
    },
    {
     "name": "stderr",
     "output_type": "stream",
     "text": [
      "\r",
      " 24%|██████████████████                                                          | 3471/14631 [00:18<01:21, 137.60it/s]"
     ]
    },
    {
     "name": "stderr",
     "output_type": "stream",
     "text": [
      "\r",
      " 24%|██████████████████                                                          | 3486/14631 [00:18<01:20, 138.65it/s]"
     ]
    },
    {
     "name": "stderr",
     "output_type": "stream",
     "text": [
      "\r",
      " 24%|██████████████████▏                                                         | 3501/14631 [00:18<01:19, 139.30it/s]"
     ]
    },
    {
     "name": "stderr",
     "output_type": "stream",
     "text": [
      "\r",
      " 24%|██████████████████▎                                                         | 3517/14631 [00:18<01:17, 142.76it/s]"
     ]
    },
    {
     "name": "stderr",
     "output_type": "stream",
     "text": [
      "\r",
      " 24%|██████████████████▎                                                         | 3533/14631 [00:18<01:15, 146.80it/s]"
     ]
    },
    {
     "name": "stderr",
     "output_type": "stream",
     "text": [
      "\r",
      " 24%|██████████████████▍                                                         | 3549/14631 [00:18<01:13, 150.18it/s]"
     ]
    },
    {
     "name": "stderr",
     "output_type": "stream",
     "text": [
      "\r",
      " 24%|██████████████████▌                                                         | 3566/14631 [00:18<01:11, 154.01it/s]"
     ]
    },
    {
     "name": "stderr",
     "output_type": "stream",
     "text": [
      "\r",
      " 24%|██████████████████▌                                                         | 3582/14631 [00:18<01:11, 154.50it/s]"
     ]
    },
    {
     "name": "stderr",
     "output_type": "stream",
     "text": [
      "\r",
      " 25%|██████████████████▋                                                         | 3601/14631 [00:18<01:07, 163.51it/s]"
     ]
    },
    {
     "name": "stderr",
     "output_type": "stream",
     "text": [
      "\r",
      " 25%|██████████████████▊                                                         | 3621/14631 [00:18<01:03, 173.75it/s]"
     ]
    },
    {
     "name": "stderr",
     "output_type": "stream",
     "text": [
      "\r",
      " 25%|██████████████████▉                                                         | 3641/14631 [00:19<01:01, 179.81it/s]"
     ]
    },
    {
     "name": "stderr",
     "output_type": "stream",
     "text": [
      "\r",
      " 25%|███████████████████                                                         | 3661/14631 [00:19<00:59, 185.46it/s]"
     ]
    },
    {
     "name": "stderr",
     "output_type": "stream",
     "text": [
      "\r",
      " 25%|███████████████████▏                                                        | 3682/14631 [00:19<00:57, 190.89it/s]"
     ]
    },
    {
     "name": "stderr",
     "output_type": "stream",
     "text": [
      "\r",
      " 25%|███████████████████▏                                                        | 3703/14631 [00:19<00:56, 194.33it/s]"
     ]
    },
    {
     "name": "stderr",
     "output_type": "stream",
     "text": [
      "\r",
      " 25%|███████████████████▎                                                        | 3724/14631 [00:19<00:55, 196.97it/s]"
     ]
    },
    {
     "name": "stderr",
     "output_type": "stream",
     "text": [
      "\r",
      " 26%|███████████████████▍                                                        | 3745/14631 [00:19<00:55, 197.83it/s]"
     ]
    },
    {
     "name": "stderr",
     "output_type": "stream",
     "text": [
      "\r",
      " 26%|███████████████████▌                                                        | 3765/14631 [00:19<00:55, 195.72it/s]"
     ]
    },
    {
     "name": "stderr",
     "output_type": "stream",
     "text": [
      "\r",
      " 26%|███████████████████▋                                                        | 3785/14631 [00:19<00:55, 195.78it/s]"
     ]
    },
    {
     "name": "stderr",
     "output_type": "stream",
     "text": [
      "\r",
      " 26%|███████████████████▊                                                        | 3806/14631 [00:19<00:54, 197.35it/s]"
     ]
    },
    {
     "name": "stderr",
     "output_type": "stream",
     "text": [
      "\r",
      " 26%|███████████████████▉                                                        | 3827/14631 [00:19<00:54, 198.40it/s]"
     ]
    },
    {
     "name": "stderr",
     "output_type": "stream",
     "text": [
      "\r",
      " 26%|███████████████████▉                                                        | 3848/14631 [00:20<00:54, 199.66it/s]"
     ]
    },
    {
     "name": "stderr",
     "output_type": "stream",
     "text": [
      "\r",
      " 26%|████████████████████                                                        | 3868/14631 [00:20<00:53, 199.50it/s]"
     ]
    },
    {
     "name": "stderr",
     "output_type": "stream",
     "text": [
      "\r",
      " 27%|████████████████████▏                                                       | 3888/14631 [00:20<00:54, 198.29it/s]"
     ]
    },
    {
     "name": "stderr",
     "output_type": "stream",
     "text": [
      "\r",
      " 27%|████████████████████▎                                                       | 3909/14631 [00:20<00:53, 199.08it/s]"
     ]
    },
    {
     "name": "stderr",
     "output_type": "stream",
     "text": [
      "\r",
      " 27%|████████████████████▍                                                       | 3930/14631 [00:20<00:53, 200.08it/s]"
     ]
    },
    {
     "name": "stderr",
     "output_type": "stream",
     "text": [
      "\r",
      " 27%|████████████████████▌                                                       | 3951/14631 [00:20<00:53, 199.85it/s]"
     ]
    },
    {
     "name": "stderr",
     "output_type": "stream",
     "text": [
      "\r",
      " 27%|████████████████████▋                                                       | 3971/14631 [00:20<00:53, 199.81it/s]"
     ]
    },
    {
     "name": "stderr",
     "output_type": "stream",
     "text": [
      "\r",
      " 27%|████████████████████▋                                                       | 3991/14631 [00:20<00:54, 195.16it/s]"
     ]
    },
    {
     "name": "stderr",
     "output_type": "stream",
     "text": [
      "\r",
      " 27%|████████████████████▊                                                       | 4011/14631 [00:20<00:54, 196.07it/s]"
     ]
    },
    {
     "name": "stderr",
     "output_type": "stream",
     "text": [
      "\r",
      " 28%|████████████████████▉                                                       | 4032/14631 [00:21<00:53, 197.39it/s]"
     ]
    },
    {
     "name": "stderr",
     "output_type": "stream",
     "text": [
      "\r",
      " 28%|█████████████████████                                                       | 4052/14631 [00:21<00:53, 197.06it/s]"
     ]
    },
    {
     "name": "stderr",
     "output_type": "stream",
     "text": [
      "\r",
      " 28%|█████████████████████▏                                                      | 4072/14631 [00:21<00:53, 197.62it/s]"
     ]
    },
    {
     "name": "stderr",
     "output_type": "stream",
     "text": [
      "\r",
      " 28%|█████████████████████▎                                                      | 4092/14631 [00:21<00:53, 197.77it/s]"
     ]
    },
    {
     "name": "stderr",
     "output_type": "stream",
     "text": [
      "\r",
      " 28%|█████████████████████▎                                                      | 4112/14631 [00:21<00:53, 197.93it/s]"
     ]
    },
    {
     "name": "stderr",
     "output_type": "stream",
     "text": [
      "\r",
      " 28%|█████████████████████▍                                                      | 4132/14631 [00:21<00:53, 197.97it/s]"
     ]
    },
    {
     "name": "stderr",
     "output_type": "stream",
     "text": [
      "\r",
      " 28%|█████████████████████▌                                                      | 4152/14631 [00:21<00:52, 197.87it/s]"
     ]
    },
    {
     "name": "stderr",
     "output_type": "stream",
     "text": [
      "\r",
      " 29%|█████████████████████▋                                                      | 4172/14631 [00:21<00:52, 197.63it/s]"
     ]
    },
    {
     "name": "stderr",
     "output_type": "stream",
     "text": [
      "\r",
      " 29%|█████████████████████▊                                                      | 4192/14631 [00:21<00:53, 195.08it/s]"
     ]
    },
    {
     "name": "stderr",
     "output_type": "stream",
     "text": [
      "\r",
      " 29%|█████████████████████▉                                                      | 4212/14631 [00:21<00:53, 196.41it/s]"
     ]
    },
    {
     "name": "stderr",
     "output_type": "stream",
     "text": [
      "\r",
      " 29%|█████████████████████▉                                                      | 4233/14631 [00:22<00:52, 197.73it/s]"
     ]
    },
    {
     "name": "stderr",
     "output_type": "stream",
     "text": [
      "\r",
      " 29%|██████████████████████                                                      | 4253/14631 [00:22<00:52, 198.38it/s]"
     ]
    },
    {
     "name": "stderr",
     "output_type": "stream",
     "text": [
      "\r",
      " 29%|██████████████████████▏                                                     | 4273/14631 [00:22<00:52, 198.28it/s]"
     ]
    },
    {
     "name": "stderr",
     "output_type": "stream",
     "text": [
      "\r",
      " 29%|██████████████████████▎                                                     | 4293/14631 [00:22<00:52, 196.94it/s]"
     ]
    },
    {
     "name": "stderr",
     "output_type": "stream",
     "text": [
      "\r",
      " 29%|██████████████████████▍                                                     | 4313/14631 [00:22<00:52, 195.25it/s]"
     ]
    },
    {
     "name": "stderr",
     "output_type": "stream",
     "text": [
      "\r",
      " 30%|██████████████████████▌                                                     | 4334/14631 [00:22<00:52, 196.48it/s]"
     ]
    },
    {
     "name": "stderr",
     "output_type": "stream",
     "text": [
      "\r",
      " 30%|██████████████████████▌                                                     | 4354/14631 [00:22<00:57, 179.01it/s]"
     ]
    },
    {
     "name": "stderr",
     "output_type": "stream",
     "text": [
      "\r",
      " 30%|██████████████████████▋                                                     | 4374/14631 [00:22<00:55, 183.94it/s]"
     ]
    },
    {
     "name": "stderr",
     "output_type": "stream",
     "text": [
      "\r",
      " 30%|██████████████████████▊                                                     | 4393/14631 [00:22<00:55, 184.46it/s]"
     ]
    },
    {
     "name": "stderr",
     "output_type": "stream",
     "text": [
      "\r",
      " 30%|██████████████████████▉                                                     | 4413/14631 [00:22<00:54, 188.02it/s]"
     ]
    },
    {
     "name": "stderr",
     "output_type": "stream",
     "text": [
      "\r",
      " 30%|███████████████████████                                                     | 4433/14631 [00:23<00:53, 191.25it/s]"
     ]
    },
    {
     "name": "stderr",
     "output_type": "stream",
     "text": [
      "\r",
      " 30%|███████████████████████▏                                                    | 4453/14631 [00:23<00:55, 183.23it/s]"
     ]
    },
    {
     "name": "stderr",
     "output_type": "stream",
     "text": [
      "\r",
      " 31%|███████████████████████▏                                                    | 4473/14631 [00:23<00:54, 185.64it/s]"
     ]
    },
    {
     "name": "stderr",
     "output_type": "stream",
     "text": [
      "\r",
      " 31%|███████████████████████▎                                                    | 4493/14631 [00:23<00:53, 188.25it/s]"
     ]
    },
    {
     "name": "stderr",
     "output_type": "stream",
     "text": [
      "\r",
      " 31%|███████████████████████▍                                                    | 4512/14631 [00:23<00:57, 175.63it/s]"
     ]
    },
    {
     "name": "stderr",
     "output_type": "stream",
     "text": [
      "\r",
      " 31%|███████████████████████▌                                                    | 4532/14631 [00:23<00:55, 181.21it/s]"
     ]
    },
    {
     "name": "stderr",
     "output_type": "stream",
     "text": [
      "\r",
      " 31%|███████████████████████▋                                                    | 4553/14631 [00:23<00:54, 186.58it/s]"
     ]
    },
    {
     "name": "stderr",
     "output_type": "stream",
     "text": [
      "\r",
      " 31%|███████████████████████▊                                                    | 4574/14631 [00:23<00:52, 191.64it/s]"
     ]
    },
    {
     "name": "stderr",
     "output_type": "stream",
     "text": [
      "\r",
      " 31%|███████████████████████▊                                                    | 4595/14631 [00:23<00:51, 194.32it/s]"
     ]
    },
    {
     "name": "stderr",
     "output_type": "stream",
     "text": [
      "\r",
      " 32%|███████████████████████▉                                                    | 4615/14631 [00:24<00:52, 190.25it/s]"
     ]
    },
    {
     "name": "stderr",
     "output_type": "stream",
     "text": [
      "\r",
      " 32%|████████████████████████                                                    | 4636/14631 [00:24<00:51, 194.16it/s]"
     ]
    },
    {
     "name": "stderr",
     "output_type": "stream",
     "text": [
      "\r",
      " 32%|████████████████████████▏                                                   | 4657/14631 [00:24<00:50, 196.82it/s]"
     ]
    },
    {
     "name": "stderr",
     "output_type": "stream",
     "text": [
      "\r",
      " 32%|████████████████████████▎                                                   | 4678/14631 [00:24<00:49, 199.12it/s]"
     ]
    },
    {
     "name": "stderr",
     "output_type": "stream",
     "text": [
      "\r",
      " 32%|████████████████████████▍                                                   | 4698/14631 [00:24<00:50, 197.10it/s]"
     ]
    },
    {
     "name": "stderr",
     "output_type": "stream",
     "text": [
      "\r",
      " 32%|████████████████████████▌                                                   | 4719/14631 [00:24<00:49, 198.28it/s]"
     ]
    },
    {
     "name": "stderr",
     "output_type": "stream",
     "text": [
      "\r",
      " 32%|████████████████████████▌                                                   | 4739/14631 [00:24<00:49, 198.48it/s]"
     ]
    },
    {
     "name": "stderr",
     "output_type": "stream",
     "text": [
      "\r",
      " 33%|████████████████████████▋                                                   | 4760/14631 [00:24<00:49, 199.24it/s]"
     ]
    },
    {
     "name": "stderr",
     "output_type": "stream",
     "text": [
      "\r",
      " 33%|████████████████████████▊                                                   | 4781/14631 [00:24<00:49, 200.52it/s]"
     ]
    },
    {
     "name": "stderr",
     "output_type": "stream",
     "text": [
      "\r",
      " 33%|████████████████████████▉                                                   | 4802/14631 [00:24<00:48, 201.65it/s]"
     ]
    },
    {
     "name": "stderr",
     "output_type": "stream",
     "text": [
      "\r",
      " 33%|█████████████████████████                                                   | 4823/14631 [00:25<00:48, 202.06it/s]"
     ]
    },
    {
     "name": "stderr",
     "output_type": "stream",
     "text": [
      "\r",
      " 33%|█████████████████████████▏                                                  | 4844/14631 [00:25<00:48, 202.23it/s]"
     ]
    },
    {
     "name": "stderr",
     "output_type": "stream",
     "text": [
      "\r",
      " 33%|█████████████████████████▎                                                  | 4865/14631 [00:25<00:50, 194.04it/s]"
     ]
    },
    {
     "name": "stderr",
     "output_type": "stream",
     "text": [
      "\r",
      " 33%|█████████████████████████▍                                                  | 4886/14631 [00:25<00:49, 197.00it/s]"
     ]
    },
    {
     "name": "stderr",
     "output_type": "stream",
     "text": [
      "\r",
      " 34%|█████████████████████████▍                                                  | 4906/14631 [00:25<00:49, 197.25it/s]"
     ]
    },
    {
     "name": "stderr",
     "output_type": "stream",
     "text": [
      "\r",
      " 34%|█████████████████████████▌                                                  | 4927/14631 [00:25<00:48, 198.33it/s]"
     ]
    },
    {
     "name": "stderr",
     "output_type": "stream",
     "text": [
      "\r",
      " 34%|█████████████████████████▋                                                  | 4948/14631 [00:25<00:48, 199.31it/s]"
     ]
    },
    {
     "name": "stderr",
     "output_type": "stream",
     "text": [
      "\r",
      " 34%|█████████████████████████▊                                                  | 4969/14631 [00:25<00:48, 201.19it/s]"
     ]
    },
    {
     "name": "stderr",
     "output_type": "stream",
     "text": [
      "\r",
      " 34%|█████████████████████████▉                                                  | 4990/14631 [00:25<00:47, 202.03it/s]"
     ]
    },
    {
     "name": "stderr",
     "output_type": "stream",
     "text": [
      "\r",
      " 34%|██████████████████████████                                                  | 5011/14631 [00:26<00:47, 202.71it/s]"
     ]
    },
    {
     "name": "stderr",
     "output_type": "stream",
     "text": [
      "\r",
      " 34%|██████████████████████████▏                                                 | 5032/14631 [00:26<00:47, 202.93it/s]"
     ]
    },
    {
     "name": "stderr",
     "output_type": "stream",
     "text": [
      "\r",
      " 35%|██████████████████████████▏                                                 | 5053/14631 [00:26<00:47, 203.30it/s]"
     ]
    },
    {
     "name": "stderr",
     "output_type": "stream",
     "text": [
      "\r",
      " 35%|██████████████████████████▎                                                 | 5074/14631 [00:26<00:46, 203.47it/s]"
     ]
    },
    {
     "name": "stderr",
     "output_type": "stream",
     "text": [
      "\r",
      " 35%|██████████████████████████▍                                                 | 5095/14631 [00:26<00:47, 201.48it/s]"
     ]
    },
    {
     "name": "stderr",
     "output_type": "stream",
     "text": [
      "\r",
      " 35%|██████████████████████████▌                                                 | 5116/14631 [00:26<00:51, 185.91it/s]"
     ]
    },
    {
     "name": "stderr",
     "output_type": "stream",
     "text": [
      "\r",
      " 35%|██████████████████████████▋                                                 | 5135/14631 [00:26<00:51, 184.54it/s]"
     ]
    },
    {
     "name": "stderr",
     "output_type": "stream",
     "text": [
      "\r",
      " 35%|██████████████████████████▊                                                 | 5154/14631 [00:26<00:51, 184.11it/s]"
     ]
    },
    {
     "name": "stderr",
     "output_type": "stream",
     "text": [
      "\r",
      " 35%|██████████████████████████▊                                                 | 5173/14631 [00:26<00:51, 183.22it/s]"
     ]
    },
    {
     "name": "stderr",
     "output_type": "stream",
     "text": [
      "\r",
      " 35%|██████████████████████████▉                                                 | 5192/14631 [00:27<00:52, 181.32it/s]"
     ]
    },
    {
     "name": "stderr",
     "output_type": "stream",
     "text": [
      "\r",
      " 36%|███████████████████████████                                                 | 5211/14631 [00:27<00:52, 181.07it/s]"
     ]
    },
    {
     "name": "stderr",
     "output_type": "stream",
     "text": [
      "\r",
      " 36%|███████████████████████████▏                                                | 5230/14631 [00:27<00:51, 181.56it/s]"
     ]
    },
    {
     "name": "stderr",
     "output_type": "stream",
     "text": [
      "\r",
      " 36%|███████████████████████████▎                                                | 5249/14631 [00:27<00:51, 182.05it/s]"
     ]
    },
    {
     "name": "stderr",
     "output_type": "stream",
     "text": [
      "\r",
      " 36%|███████████████████████████▎                                                | 5268/14631 [00:27<00:51, 181.78it/s]"
     ]
    },
    {
     "name": "stderr",
     "output_type": "stream",
     "text": [
      "\r",
      " 36%|███████████████████████████▍                                                | 5287/14631 [00:27<00:51, 181.55it/s]"
     ]
    },
    {
     "name": "stderr",
     "output_type": "stream",
     "text": [
      "\r",
      " 36%|███████████████████████████▌                                                | 5306/14631 [00:27<00:50, 183.66it/s]"
     ]
    },
    {
     "name": "stderr",
     "output_type": "stream",
     "text": [
      "\r",
      " 36%|███████████████████████████▋                                                | 5326/14631 [00:27<00:49, 188.08it/s]"
     ]
    },
    {
     "name": "stderr",
     "output_type": "stream",
     "text": [
      "\r",
      " 37%|███████████████████████████▊                                                | 5346/14631 [00:27<00:48, 190.93it/s]"
     ]
    },
    {
     "name": "stderr",
     "output_type": "stream",
     "text": [
      "\r",
      " 37%|███████████████████████████▊                                                | 5366/14631 [00:27<00:48, 190.37it/s]"
     ]
    },
    {
     "name": "stderr",
     "output_type": "stream",
     "text": [
      "\r",
      " 37%|███████████████████████████▉                                                | 5386/14631 [00:28<00:48, 192.02it/s]"
     ]
    },
    {
     "name": "stderr",
     "output_type": "stream",
     "text": [
      "\r",
      " 37%|████████████████████████████                                                | 5406/14631 [00:28<00:49, 186.41it/s]"
     ]
    },
    {
     "name": "stderr",
     "output_type": "stream",
     "text": [
      "\r",
      " 37%|████████████████████████████▏                                               | 5425/14631 [00:28<00:49, 186.10it/s]"
     ]
    },
    {
     "name": "stderr",
     "output_type": "stream",
     "text": [
      "\r",
      " 37%|████████████████████████████▎                                               | 5444/14631 [00:28<00:49, 185.44it/s]"
     ]
    },
    {
     "name": "stderr",
     "output_type": "stream",
     "text": [
      "\r",
      " 37%|████████████████████████████▍                                               | 5464/14631 [00:28<00:48, 189.36it/s]"
     ]
    },
    {
     "name": "stderr",
     "output_type": "stream",
     "text": [
      "\r",
      " 37%|████████████████████████████▍                                               | 5483/14631 [00:28<00:48, 189.51it/s]"
     ]
    },
    {
     "name": "stderr",
     "output_type": "stream",
     "text": [
      "\r",
      " 38%|████████████████████████████▌                                               | 5503/14631 [00:28<00:47, 191.09it/s]"
     ]
    },
    {
     "name": "stderr",
     "output_type": "stream",
     "text": [
      "\r",
      " 38%|████████████████████████████▋                                               | 5524/14631 [00:28<00:46, 194.74it/s]"
     ]
    },
    {
     "name": "stderr",
     "output_type": "stream",
     "text": [
      "\r",
      " 38%|████████████████████████████▊                                               | 5545/14631 [00:28<00:46, 197.40it/s]"
     ]
    },
    {
     "name": "stderr",
     "output_type": "stream",
     "text": [
      "\r",
      " 38%|████████████████████████████▉                                               | 5566/14631 [00:28<00:45, 199.17it/s]"
     ]
    },
    {
     "name": "stderr",
     "output_type": "stream",
     "text": [
      "\r",
      " 38%|█████████████████████████████                                               | 5587/14631 [00:29<00:45, 200.79it/s]"
     ]
    },
    {
     "name": "stderr",
     "output_type": "stream",
     "text": [
      "\r",
      " 38%|█████████████████████████████▏                                              | 5608/14631 [00:29<00:44, 201.84it/s]"
     ]
    },
    {
     "name": "stderr",
     "output_type": "stream",
     "text": [
      "\r",
      " 38%|█████████████████████████████▏                                              | 5629/14631 [00:29<00:44, 202.70it/s]"
     ]
    },
    {
     "name": "stderr",
     "output_type": "stream",
     "text": [
      "\r",
      " 39%|█████████████████████████████▎                                              | 5650/14631 [00:29<00:44, 202.84it/s]"
     ]
    },
    {
     "name": "stderr",
     "output_type": "stream",
     "text": [
      "\r",
      " 39%|█████████████████████████████▍                                              | 5671/14631 [00:29<00:44, 200.74it/s]"
     ]
    },
    {
     "name": "stderr",
     "output_type": "stream",
     "text": [
      "\r",
      " 39%|█████████████████████████████▌                                              | 5692/14631 [00:29<00:44, 200.70it/s]"
     ]
    },
    {
     "name": "stderr",
     "output_type": "stream",
     "text": [
      "\r",
      " 39%|█████████████████████████████▋                                              | 5713/14631 [00:29<00:44, 200.70it/s]"
     ]
    },
    {
     "name": "stderr",
     "output_type": "stream",
     "text": [
      "\r",
      " 39%|█████████████████████████████▊                                              | 5734/14631 [00:29<00:44, 200.82it/s]"
     ]
    },
    {
     "name": "stderr",
     "output_type": "stream",
     "text": [
      "\r",
      " 39%|█████████████████████████████▉                                              | 5755/14631 [00:29<00:44, 201.20it/s]"
     ]
    },
    {
     "name": "stderr",
     "output_type": "stream",
     "text": [
      "\r",
      " 39%|██████████████████████████████                                              | 5776/14631 [00:30<00:43, 201.80it/s]"
     ]
    },
    {
     "name": "stderr",
     "output_type": "stream",
     "text": [
      "\r",
      " 40%|██████████████████████████████                                              | 5797/14631 [00:30<00:43, 200.99it/s]"
     ]
    },
    {
     "name": "stderr",
     "output_type": "stream",
     "text": [
      "\r",
      " 40%|██████████████████████████████▏                                             | 5818/14631 [00:30<00:43, 201.25it/s]"
     ]
    },
    {
     "name": "stderr",
     "output_type": "stream",
     "text": [
      "\r",
      " 40%|██████████████████████████████▎                                             | 5839/14631 [00:30<00:43, 200.99it/s]"
     ]
    },
    {
     "name": "stderr",
     "output_type": "stream",
     "text": [
      "\r",
      " 40%|██████████████████████████████▍                                             | 5860/14631 [00:30<00:43, 201.21it/s]"
     ]
    },
    {
     "name": "stderr",
     "output_type": "stream",
     "text": [
      "\r",
      " 40%|██████████████████████████████▌                                             | 5881/14631 [00:30<00:43, 200.96it/s]"
     ]
    },
    {
     "name": "stderr",
     "output_type": "stream",
     "text": [
      "\r",
      " 40%|██████████████████████████████▋                                             | 5902/14631 [00:30<00:43, 200.48it/s]"
     ]
    },
    {
     "name": "stderr",
     "output_type": "stream",
     "text": [
      "\r",
      " 40%|██████████████████████████████▊                                             | 5923/14631 [00:30<00:43, 200.07it/s]"
     ]
    },
    {
     "name": "stderr",
     "output_type": "stream",
     "text": [
      "\r",
      " 41%|██████████████████████████████▉                                             | 5944/14631 [00:30<00:43, 200.75it/s]"
     ]
    },
    {
     "name": "stderr",
     "output_type": "stream",
     "text": [
      "\r",
      " 41%|██████████████████████████████▉                                             | 5965/14631 [00:30<00:43, 200.93it/s]"
     ]
    },
    {
     "name": "stderr",
     "output_type": "stream",
     "text": [
      "\r",
      " 41%|███████████████████████████████                                             | 5986/14631 [00:31<00:42, 201.52it/s]"
     ]
    },
    {
     "name": "stderr",
     "output_type": "stream",
     "text": [
      "\r",
      " 41%|███████████████████████████████▏                                            | 6007/14631 [00:31<00:42, 202.09it/s]"
     ]
    },
    {
     "name": "stderr",
     "output_type": "stream",
     "text": [
      "\r",
      " 41%|███████████████████████████████▎                                            | 6028/14631 [00:31<00:42, 202.22it/s]"
     ]
    },
    {
     "name": "stderr",
     "output_type": "stream",
     "text": [
      "\r",
      " 41%|███████████████████████████████▍                                            | 6049/14631 [00:31<00:42, 202.61it/s]"
     ]
    },
    {
     "name": "stderr",
     "output_type": "stream",
     "text": [
      "\r",
      " 41%|███████████████████████████████▌                                            | 6070/14631 [00:31<00:42, 202.84it/s]"
     ]
    },
    {
     "name": "stderr",
     "output_type": "stream",
     "text": [
      "\r",
      " 42%|███████████████████████████████▋                                            | 6091/14631 [00:31<00:42, 202.82it/s]"
     ]
    },
    {
     "name": "stderr",
     "output_type": "stream",
     "text": [
      "\r",
      " 42%|███████████████████████████████▋                                            | 6112/14631 [00:31<00:41, 203.06it/s]"
     ]
    },
    {
     "name": "stderr",
     "output_type": "stream",
     "text": [
      "\r",
      " 42%|███████████████████████████████▊                                            | 6133/14631 [00:31<00:41, 202.95it/s]"
     ]
    },
    {
     "name": "stderr",
     "output_type": "stream",
     "text": [
      "\r",
      " 42%|███████████████████████████████▉                                            | 6154/14631 [00:31<00:41, 202.97it/s]"
     ]
    },
    {
     "name": "stderr",
     "output_type": "stream",
     "text": [
      "\r",
      " 42%|████████████████████████████████                                            | 6175/14631 [00:31<00:41, 203.13it/s]"
     ]
    },
    {
     "name": "stderr",
     "output_type": "stream",
     "text": [
      "\r",
      " 42%|████████████████████████████████▏                                           | 6196/14631 [00:32<00:41, 202.95it/s]"
     ]
    },
    {
     "name": "stderr",
     "output_type": "stream",
     "text": [
      "\r",
      " 42%|████████████████████████████████▎                                           | 6217/14631 [00:32<00:41, 203.25it/s]"
     ]
    },
    {
     "name": "stderr",
     "output_type": "stream",
     "text": [
      "\r",
      " 43%|████████████████████████████████▍                                           | 6238/14631 [00:32<00:41, 203.83it/s]"
     ]
    },
    {
     "name": "stderr",
     "output_type": "stream",
     "text": [
      "\r",
      " 43%|████████████████████████████████▌                                           | 6259/14631 [00:32<00:41, 203.97it/s]"
     ]
    },
    {
     "name": "stderr",
     "output_type": "stream",
     "text": [
      "\r",
      " 43%|████████████████████████████████▌                                           | 6280/14631 [00:32<00:40, 203.75it/s]"
     ]
    },
    {
     "name": "stderr",
     "output_type": "stream",
     "text": [
      "\r",
      " 43%|████████████████████████████████▋                                           | 6301/14631 [00:32<00:40, 203.91it/s]"
     ]
    },
    {
     "name": "stderr",
     "output_type": "stream",
     "text": [
      "\r",
      " 43%|████████████████████████████████▊                                           | 6322/14631 [00:32<00:40, 204.10it/s]"
     ]
    },
    {
     "name": "stderr",
     "output_type": "stream",
     "text": [
      "\r",
      " 43%|████████████████████████████████▉                                           | 6343/14631 [00:32<00:40, 204.48it/s]"
     ]
    },
    {
     "name": "stderr",
     "output_type": "stream",
     "text": [
      "\r",
      " 43%|█████████████████████████████████                                           | 6364/14631 [00:32<00:40, 203.49it/s]"
     ]
    },
    {
     "name": "stderr",
     "output_type": "stream",
     "text": [
      "\r",
      " 44%|█████████████████████████████████▏                                          | 6385/14631 [00:33<00:40, 201.56it/s]"
     ]
    },
    {
     "name": "stderr",
     "output_type": "stream",
     "text": [
      "\r",
      " 44%|█████████████████████████████████▎                                          | 6406/14631 [00:33<00:40, 201.52it/s]"
     ]
    },
    {
     "name": "stderr",
     "output_type": "stream",
     "text": [
      "\r",
      " 44%|█████████████████████████████████▍                                          | 6427/14631 [00:33<00:41, 199.65it/s]"
     ]
    },
    {
     "name": "stderr",
     "output_type": "stream",
     "text": [
      "\r",
      " 44%|█████████████████████████████████▍                                          | 6447/14631 [00:33<00:41, 198.82it/s]"
     ]
    },
    {
     "name": "stderr",
     "output_type": "stream",
     "text": [
      "\r",
      " 44%|█████████████████████████████████▌                                          | 6468/14631 [00:33<00:40, 200.15it/s]"
     ]
    },
    {
     "name": "stderr",
     "output_type": "stream",
     "text": [
      "\r",
      " 44%|█████████████████████████████████▋                                          | 6489/14631 [00:33<00:40, 198.65it/s]"
     ]
    },
    {
     "name": "stderr",
     "output_type": "stream",
     "text": [
      "\r",
      " 44%|█████████████████████████████████▊                                          | 6510/14631 [00:33<00:40, 199.63it/s]"
     ]
    },
    {
     "name": "stderr",
     "output_type": "stream",
     "text": [
      "\r",
      " 45%|█████████████████████████████████▉                                          | 6531/14631 [00:33<00:40, 199.76it/s]"
     ]
    },
    {
     "name": "stderr",
     "output_type": "stream",
     "text": [
      "\r",
      " 45%|██████████████████████████████████                                          | 6552/14631 [00:33<00:40, 201.56it/s]"
     ]
    },
    {
     "name": "stderr",
     "output_type": "stream",
     "text": [
      "\r",
      " 45%|██████████████████████████████████▏                                         | 6573/14631 [00:33<00:39, 202.35it/s]"
     ]
    },
    {
     "name": "stderr",
     "output_type": "stream",
     "text": [
      "\r",
      " 45%|██████████████████████████████████▎                                         | 6594/14631 [00:34<00:39, 202.69it/s]"
     ]
    },
    {
     "name": "stderr",
     "output_type": "stream",
     "text": [
      "\r",
      " 45%|██████████████████████████████████▎                                         | 6615/14631 [00:34<00:39, 202.06it/s]"
     ]
    },
    {
     "name": "stderr",
     "output_type": "stream",
     "text": [
      "\r",
      " 45%|██████████████████████████████████▍                                         | 6636/14631 [00:34<00:39, 203.23it/s]"
     ]
    },
    {
     "name": "stderr",
     "output_type": "stream",
     "text": [
      "\r",
      " 45%|██████████████████████████████████▌                                         | 6657/14631 [00:34<00:39, 203.69it/s]"
     ]
    },
    {
     "name": "stderr",
     "output_type": "stream",
     "text": [
      "\r",
      " 46%|██████████████████████████████████▋                                         | 6678/14631 [00:34<00:38, 204.28it/s]"
     ]
    },
    {
     "name": "stderr",
     "output_type": "stream",
     "text": [
      "\r",
      " 46%|██████████████████████████████████▊                                         | 6699/14631 [00:34<00:39, 201.74it/s]"
     ]
    },
    {
     "name": "stderr",
     "output_type": "stream",
     "text": [
      "\r",
      " 46%|██████████████████████████████████▉                                         | 6720/14631 [00:34<00:39, 202.53it/s]"
     ]
    },
    {
     "name": "stderr",
     "output_type": "stream",
     "text": [
      "\r",
      " 46%|███████████████████████████████████                                         | 6741/14631 [00:34<00:38, 203.44it/s]"
     ]
    },
    {
     "name": "stderr",
     "output_type": "stream",
     "text": [
      "\r",
      " 46%|███████████████████████████████████                                         | 6762/14631 [00:34<00:38, 203.92it/s]"
     ]
    },
    {
     "name": "stderr",
     "output_type": "stream",
     "text": [
      "\r",
      " 46%|███████████████████████████████████▏                                        | 6783/14631 [00:34<00:38, 203.11it/s]"
     ]
    },
    {
     "name": "stderr",
     "output_type": "stream",
     "text": [
      "\r",
      " 47%|███████████████████████████████████▎                                        | 6804/14631 [00:35<00:38, 203.34it/s]"
     ]
    },
    {
     "name": "stderr",
     "output_type": "stream",
     "text": [
      "\r",
      " 47%|███████████████████████████████████▍                                        | 6825/14631 [00:35<00:38, 203.96it/s]"
     ]
    },
    {
     "name": "stderr",
     "output_type": "stream",
     "text": [
      "\r",
      " 47%|███████████████████████████████████▌                                        | 6846/14631 [00:35<00:37, 204.88it/s]"
     ]
    },
    {
     "name": "stderr",
     "output_type": "stream",
     "text": [
      "\r",
      " 47%|███████████████████████████████████▋                                        | 6867/14631 [00:35<00:37, 205.35it/s]"
     ]
    },
    {
     "name": "stderr",
     "output_type": "stream",
     "text": [
      "\r",
      " 47%|███████████████████████████████████▊                                        | 6888/14631 [00:35<00:37, 205.64it/s]"
     ]
    },
    {
     "name": "stderr",
     "output_type": "stream",
     "text": [
      "\r",
      " 47%|███████████████████████████████████▉                                        | 6909/14631 [00:35<00:37, 205.77it/s]"
     ]
    },
    {
     "name": "stderr",
     "output_type": "stream",
     "text": [
      "\r",
      " 47%|███████████████████████████████████▉                                        | 6930/14631 [00:35<00:37, 206.16it/s]"
     ]
    },
    {
     "name": "stderr",
     "output_type": "stream",
     "text": [
      "\r",
      " 48%|████████████████████████████████████                                        | 6951/14631 [00:35<00:37, 206.59it/s]"
     ]
    },
    {
     "name": "stderr",
     "output_type": "stream",
     "text": [
      "\r",
      " 48%|████████████████████████████████████▏                                       | 6972/14631 [00:35<00:37, 206.39it/s]"
     ]
    },
    {
     "name": "stderr",
     "output_type": "stream",
     "text": [
      "\r",
      " 48%|████████████████████████████████████▎                                       | 6993/14631 [00:36<00:36, 206.46it/s]"
     ]
    },
    {
     "name": "stderr",
     "output_type": "stream",
     "text": [
      "\r",
      " 48%|████████████████████████████████████▍                                       | 7014/14631 [00:36<00:36, 206.85it/s]"
     ]
    },
    {
     "name": "stderr",
     "output_type": "stream",
     "text": [
      "\r",
      " 48%|████████████████████████████████████▌                                       | 7035/14631 [00:36<00:36, 206.57it/s]"
     ]
    },
    {
     "name": "stderr",
     "output_type": "stream",
     "text": [
      "\r",
      " 48%|████████████████████████████████████▋                                       | 7056/14631 [00:36<00:36, 206.82it/s]"
     ]
    },
    {
     "name": "stderr",
     "output_type": "stream",
     "text": [
      "\r",
      " 48%|████████████████████████████████████▊                                       | 7077/14631 [00:36<00:36, 206.64it/s]"
     ]
    },
    {
     "name": "stderr",
     "output_type": "stream",
     "text": [
      "\r",
      " 49%|████████████████████████████████████▊                                       | 7098/14631 [00:36<00:36, 206.23it/s]"
     ]
    },
    {
     "name": "stderr",
     "output_type": "stream",
     "text": [
      "\r",
      " 49%|████████████████████████████████████▉                                       | 7119/14631 [00:36<00:36, 206.33it/s]"
     ]
    },
    {
     "name": "stderr",
     "output_type": "stream",
     "text": [
      "\r",
      " 49%|█████████████████████████████████████                                       | 7140/14631 [00:36<00:36, 206.51it/s]"
     ]
    },
    {
     "name": "stderr",
     "output_type": "stream",
     "text": [
      "\r",
      " 49%|█████████████████████████████████████▏                                      | 7161/14631 [00:36<00:36, 206.48it/s]"
     ]
    },
    {
     "name": "stderr",
     "output_type": "stream",
     "text": [
      "\r",
      " 49%|█████████████████████████████████████▎                                      | 7182/14631 [00:36<00:36, 206.52it/s]"
     ]
    },
    {
     "name": "stderr",
     "output_type": "stream",
     "text": [
      "\r",
      " 49%|█████████████████████████████████████▍                                      | 7203/14631 [00:37<00:35, 206.86it/s]"
     ]
    },
    {
     "name": "stderr",
     "output_type": "stream",
     "text": [
      "\r",
      " 49%|█████████████████████████████████████▌                                      | 7224/14631 [00:37<00:35, 206.65it/s]"
     ]
    },
    {
     "name": "stderr",
     "output_type": "stream",
     "text": [
      "\r",
      " 50%|█████████████████████████████████████▋                                      | 7245/14631 [00:37<00:35, 206.37it/s]"
     ]
    },
    {
     "name": "stderr",
     "output_type": "stream",
     "text": [
      "\r",
      " 50%|█████████████████████████████████████▋                                      | 7266/14631 [00:37<00:35, 206.43it/s]"
     ]
    },
    {
     "name": "stderr",
     "output_type": "stream",
     "text": [
      "\r",
      " 50%|█████████████████████████████████████▊                                      | 7287/14631 [00:37<00:35, 206.56it/s]"
     ]
    },
    {
     "name": "stderr",
     "output_type": "stream",
     "text": [
      "\r",
      " 50%|█████████████████████████████████████▉                                      | 7308/14631 [00:37<00:35, 206.56it/s]"
     ]
    },
    {
     "name": "stderr",
     "output_type": "stream",
     "text": [
      "\r",
      " 50%|██████████████████████████████████████                                      | 7329/14631 [00:37<00:35, 206.02it/s]"
     ]
    },
    {
     "name": "stderr",
     "output_type": "stream",
     "text": [
      "\r",
      " 50%|██████████████████████████████████████▏                                     | 7350/14631 [00:37<00:35, 206.43it/s]"
     ]
    },
    {
     "name": "stderr",
     "output_type": "stream",
     "text": [
      "\r",
      " 50%|██████████████████████████████████████▎                                     | 7371/14631 [00:37<00:35, 206.72it/s]"
     ]
    },
    {
     "name": "stderr",
     "output_type": "stream",
     "text": [
      "\r",
      " 51%|██████████████████████████████████████▍                                     | 7392/14631 [00:37<00:35, 206.09it/s]"
     ]
    },
    {
     "name": "stderr",
     "output_type": "stream",
     "text": [
      "\r",
      " 51%|██████████████████████████████████████▌                                     | 7413/14631 [00:38<00:34, 206.39it/s]"
     ]
    },
    {
     "name": "stderr",
     "output_type": "stream",
     "text": [
      "\r",
      " 51%|██████████████████████████████████████▌                                     | 7434/14631 [00:38<00:34, 206.52it/s]"
     ]
    },
    {
     "name": "stderr",
     "output_type": "stream",
     "text": [
      "\r",
      " 51%|██████████████████████████████████████▋                                     | 7455/14631 [00:38<00:34, 206.07it/s]"
     ]
    },
    {
     "name": "stderr",
     "output_type": "stream",
     "text": [
      "\r",
      " 51%|██████████████████████████████████████▊                                     | 7476/14631 [00:38<00:34, 206.32it/s]"
     ]
    },
    {
     "name": "stderr",
     "output_type": "stream",
     "text": [
      "\r",
      " 51%|██████████████████████████████████████▉                                     | 7497/14631 [00:38<00:34, 205.00it/s]"
     ]
    },
    {
     "name": "stderr",
     "output_type": "stream",
     "text": [
      "\r",
      " 51%|███████████████████████████████████████                                     | 7518/14631 [00:38<00:34, 205.57it/s]"
     ]
    },
    {
     "name": "stderr",
     "output_type": "stream",
     "text": [
      "\r",
      " 52%|███████████████████████████████████████▏                                    | 7539/14631 [00:38<00:34, 205.70it/s]"
     ]
    },
    {
     "name": "stderr",
     "output_type": "stream",
     "text": [
      "\r",
      " 52%|███████████████████████████████████████▎                                    | 7560/14631 [00:38<00:34, 206.07it/s]"
     ]
    },
    {
     "name": "stderr",
     "output_type": "stream",
     "text": [
      "\r",
      " 52%|███████████████████████████████████████▍                                    | 7581/14631 [00:38<00:34, 206.16it/s]"
     ]
    },
    {
     "name": "stderr",
     "output_type": "stream",
     "text": [
      "\r",
      " 52%|███████████████████████████████████████▍                                    | 7602/14631 [00:38<00:34, 206.50it/s]"
     ]
    },
    {
     "name": "stderr",
     "output_type": "stream",
     "text": [
      "\r",
      " 52%|███████████████████████████████████████▌                                    | 7623/14631 [00:39<00:33, 206.86it/s]"
     ]
    },
    {
     "name": "stderr",
     "output_type": "stream",
     "text": [
      "\r",
      " 52%|███████████████████████████████████████▋                                    | 7644/14631 [00:39<00:33, 207.12it/s]"
     ]
    },
    {
     "name": "stderr",
     "output_type": "stream",
     "text": [
      "\r",
      " 52%|███████████████████████████████████████▊                                    | 7665/14631 [00:39<00:33, 207.25it/s]"
     ]
    },
    {
     "name": "stderr",
     "output_type": "stream",
     "text": [
      "\r",
      " 53%|███████████████████████████████████████▉                                    | 7686/14631 [00:39<00:34, 202.86it/s]"
     ]
    },
    {
     "name": "stderr",
     "output_type": "stream",
     "text": [
      "\r",
      " 53%|████████████████████████████████████████                                    | 7707/14631 [00:39<00:35, 197.05it/s]"
     ]
    },
    {
     "name": "stderr",
     "output_type": "stream",
     "text": [
      "\r",
      " 53%|████████████████████████████████████████▏                                   | 7727/14631 [00:39<00:35, 196.59it/s]"
     ]
    },
    {
     "name": "stderr",
     "output_type": "stream",
     "text": [
      "\r",
      " 53%|████████████████████████████████████████▏                                   | 7747/14631 [00:39<00:35, 195.41it/s]"
     ]
    },
    {
     "name": "stderr",
     "output_type": "stream",
     "text": [
      "\r",
      " 53%|████████████████████████████████████████▎                                   | 7767/14631 [00:39<00:36, 187.04it/s]"
     ]
    },
    {
     "name": "stderr",
     "output_type": "stream",
     "text": [
      "\r",
      " 53%|████████████████████████████████████████▍                                   | 7786/14631 [00:39<00:39, 171.90it/s]"
     ]
    },
    {
     "name": "stderr",
     "output_type": "stream",
     "text": [
      "\r",
      " 53%|████████████████████████████████████████▌                                   | 7806/14631 [00:40<00:38, 179.33it/s]"
     ]
    },
    {
     "name": "stderr",
     "output_type": "stream",
     "text": [
      "\r",
      " 53%|████████████████████████████████████████▋                                   | 7825/14631 [00:40<00:37, 180.89it/s]"
     ]
    },
    {
     "name": "stderr",
     "output_type": "stream",
     "text": [
      "\r",
      " 54%|████████████████████████████████████████▋                                   | 7844/14631 [00:40<00:37, 180.62it/s]"
     ]
    },
    {
     "name": "stderr",
     "output_type": "stream",
     "text": [
      "\r",
      " 54%|████████████████████████████████████████▊                                   | 7863/14631 [00:40<00:37, 181.57it/s]"
     ]
    },
    {
     "name": "stderr",
     "output_type": "stream",
     "text": [
      "\r",
      " 54%|████████████████████████████████████████▉                                   | 7882/14631 [00:40<00:37, 181.94it/s]"
     ]
    },
    {
     "name": "stderr",
     "output_type": "stream",
     "text": [
      "\r",
      " 54%|█████████████████████████████████████████                                   | 7902/14631 [00:40<00:36, 185.13it/s]"
     ]
    },
    {
     "name": "stderr",
     "output_type": "stream",
     "text": [
      "\r",
      " 54%|█████████████████████████████████████████▏                                  | 7921/14631 [00:40<00:36, 184.87it/s]"
     ]
    },
    {
     "name": "stderr",
     "output_type": "stream",
     "text": [
      "\r",
      " 54%|█████████████████████████████████████████▏                                  | 7940/14631 [00:40<00:36, 185.49it/s]"
     ]
    },
    {
     "name": "stderr",
     "output_type": "stream",
     "text": [
      "\r",
      " 54%|█████████████████████████████████████████▎                                  | 7959/14631 [00:40<00:35, 185.46it/s]"
     ]
    },
    {
     "name": "stderr",
     "output_type": "stream",
     "text": [
      "\r",
      " 55%|█████████████████████████████████████████▍                                  | 7978/14631 [00:40<00:35, 185.33it/s]"
     ]
    },
    {
     "name": "stderr",
     "output_type": "stream",
     "text": [
      "\r",
      " 55%|█████████████████████████████████████████▌                                  | 7997/14631 [00:41<00:36, 184.17it/s]"
     ]
    },
    {
     "name": "stderr",
     "output_type": "stream",
     "text": [
      "\r",
      " 55%|█████████████████████████████████████████▋                                  | 8016/14631 [00:41<00:35, 183.90it/s]"
     ]
    },
    {
     "name": "stderr",
     "output_type": "stream",
     "text": [
      "\r",
      " 55%|█████████████████████████████████████████▋                                  | 8036/14631 [00:41<00:35, 185.64it/s]"
     ]
    },
    {
     "name": "stderr",
     "output_type": "stream",
     "text": [
      "\r",
      " 55%|█████████████████████████████████████████▊                                  | 8055/14631 [00:41<00:35, 184.77it/s]"
     ]
    },
    {
     "name": "stderr",
     "output_type": "stream",
     "text": [
      "\r",
      " 55%|█████████████████████████████████████████▉                                  | 8074/14631 [00:41<00:35, 184.23it/s]"
     ]
    },
    {
     "name": "stderr",
     "output_type": "stream",
     "text": [
      "\r",
      " 55%|██████████████████████████████████████████                                  | 8093/14631 [00:41<00:35, 183.57it/s]"
     ]
    },
    {
     "name": "stderr",
     "output_type": "stream",
     "text": [
      "\r",
      " 55%|██████████████████████████████████████████▏                                 | 8112/14631 [00:41<00:35, 183.95it/s]"
     ]
    },
    {
     "name": "stderr",
     "output_type": "stream",
     "text": [
      "\r",
      " 56%|██████████████████████████████████████████▏                                 | 8133/14631 [00:41<00:34, 189.23it/s]"
     ]
    },
    {
     "name": "stderr",
     "output_type": "stream",
     "text": [
      "\r",
      " 56%|██████████████████████████████████████████▎                                 | 8154/14631 [00:41<00:33, 192.84it/s]"
     ]
    },
    {
     "name": "stderr",
     "output_type": "stream",
     "text": [
      "\r",
      " 56%|██████████████████████████████████████████▍                                 | 8175/14631 [00:42<00:33, 195.58it/s]"
     ]
    },
    {
     "name": "stderr",
     "output_type": "stream",
     "text": [
      "\r",
      " 56%|██████████████████████████████████████████▌                                 | 8196/14631 [00:42<00:32, 196.53it/s]"
     ]
    },
    {
     "name": "stderr",
     "output_type": "stream",
     "text": [
      "\r",
      " 56%|██████████████████████████████████████████▋                                 | 8216/14631 [00:42<00:32, 195.29it/s]"
     ]
    },
    {
     "name": "stderr",
     "output_type": "stream",
     "text": [
      "\r",
      " 56%|██████████████████████████████████████████▊                                 | 8237/14631 [00:42<00:32, 197.32it/s]"
     ]
    },
    {
     "name": "stderr",
     "output_type": "stream",
     "text": [
      "\r",
      " 56%|██████████████████████████████████████████▉                                 | 8258/14631 [00:42<00:32, 199.11it/s]"
     ]
    },
    {
     "name": "stderr",
     "output_type": "stream",
     "text": [
      "\r",
      " 57%|███████████████████████████████████████████                                 | 8279/14631 [00:42<00:31, 200.08it/s]"
     ]
    },
    {
     "name": "stderr",
     "output_type": "stream",
     "text": [
      "\r",
      " 57%|███████████████████████████████████████████                                 | 8300/14631 [00:42<00:31, 199.29it/s]"
     ]
    },
    {
     "name": "stderr",
     "output_type": "stream",
     "text": [
      "\r",
      " 57%|███████████████████████████████████████████▏                                | 8320/14631 [00:42<00:32, 196.63it/s]"
     ]
    },
    {
     "name": "stderr",
     "output_type": "stream",
     "text": [
      "\r",
      " 57%|███████████████████████████████████████████▎                                | 8340/14631 [00:42<00:32, 191.76it/s]"
     ]
    },
    {
     "name": "stderr",
     "output_type": "stream",
     "text": [
      "\r",
      " 57%|███████████████████████████████████████████▍                                | 8360/14631 [00:42<00:33, 189.81it/s]"
     ]
    },
    {
     "name": "stderr",
     "output_type": "stream",
     "text": [
      "\r",
      " 57%|███████████████████████████████████████████▌                                | 8379/14631 [00:43<00:33, 188.71it/s]"
     ]
    },
    {
     "name": "stderr",
     "output_type": "stream",
     "text": [
      "\r",
      " 57%|███████████████████████████████████████████▋                                | 8399/14631 [00:43<00:33, 188.84it/s]"
     ]
    },
    {
     "name": "stderr",
     "output_type": "stream",
     "text": [
      "\r",
      " 58%|███████████████████████████████████████████▋                                | 8418/14631 [00:43<00:33, 186.66it/s]"
     ]
    },
    {
     "name": "stderr",
     "output_type": "stream",
     "text": [
      "\r",
      " 58%|███████████████████████████████████████████▊                                | 8437/14631 [00:43<00:33, 185.52it/s]"
     ]
    },
    {
     "name": "stderr",
     "output_type": "stream",
     "text": [
      "\r",
      " 58%|███████████████████████████████████████████▉                                | 8457/14631 [00:43<00:32, 187.10it/s]"
     ]
    },
    {
     "name": "stderr",
     "output_type": "stream",
     "text": [
      "\r",
      " 58%|████████████████████████████████████████████                                | 8476/14631 [00:43<00:33, 185.37it/s]"
     ]
    },
    {
     "name": "stderr",
     "output_type": "stream",
     "text": [
      "\r",
      " 58%|████████████████████████████████████████████▏                               | 8495/14631 [00:43<00:33, 184.60it/s]"
     ]
    },
    {
     "name": "stderr",
     "output_type": "stream",
     "text": [
      "\r",
      " 58%|████████████████████████████████████████████▏                               | 8514/14631 [00:43<00:33, 182.90it/s]"
     ]
    },
    {
     "name": "stderr",
     "output_type": "stream",
     "text": [
      "\r",
      " 58%|████████████████████████████████████████████▎                               | 8534/14631 [00:43<00:32, 184.89it/s]"
     ]
    },
    {
     "name": "stderr",
     "output_type": "stream",
     "text": [
      "\r",
      " 58%|████████████████████████████████████████████▍                               | 8553/14631 [00:44<00:32, 184.93it/s]"
     ]
    },
    {
     "name": "stderr",
     "output_type": "stream",
     "text": [
      "\r",
      " 59%|████████████████████████████████████████████▌                               | 8572/14631 [00:44<00:32, 184.02it/s]"
     ]
    },
    {
     "name": "stderr",
     "output_type": "stream",
     "text": [
      "\r",
      " 59%|████████████████████████████████████████████▋                               | 8591/14631 [00:44<00:32, 183.85it/s]"
     ]
    },
    {
     "name": "stderr",
     "output_type": "stream",
     "text": [
      "\r",
      " 59%|████████████████████████████████████████████▋                               | 8611/14631 [00:44<00:32, 185.44it/s]"
     ]
    },
    {
     "name": "stderr",
     "output_type": "stream",
     "text": [
      "\r",
      " 59%|████████████████████████████████████████████▊                               | 8630/14631 [00:44<00:32, 184.75it/s]"
     ]
    },
    {
     "name": "stderr",
     "output_type": "stream",
     "text": [
      "\r",
      " 59%|████████████████████████████████████████████▉                               | 8650/14631 [00:44<00:31, 188.59it/s]"
     ]
    },
    {
     "name": "stderr",
     "output_type": "stream",
     "text": [
      "\r",
      " 59%|█████████████████████████████████████████████                               | 8671/14631 [00:44<00:30, 193.03it/s]"
     ]
    },
    {
     "name": "stderr",
     "output_type": "stream",
     "text": [
      "\r",
      " 59%|█████████████████████████████████████████████▏                              | 8692/14631 [00:44<00:30, 195.58it/s]"
     ]
    },
    {
     "name": "stderr",
     "output_type": "stream",
     "text": [
      "\r",
      " 60%|█████████████████████████████████████████████▎                              | 8712/14631 [00:44<00:30, 196.04it/s]"
     ]
    },
    {
     "name": "stderr",
     "output_type": "stream",
     "text": [
      "\r",
      " 60%|█████████████████████████████████████████████▎                              | 8732/14631 [00:44<00:30, 196.09it/s]"
     ]
    },
    {
     "name": "stderr",
     "output_type": "stream",
     "text": [
      "\r",
      " 60%|█████████████████████████████████████████████▍                              | 8752/14631 [00:45<00:30, 193.04it/s]"
     ]
    },
    {
     "name": "stderr",
     "output_type": "stream",
     "text": [
      "\r",
      " 60%|█████████████████████████████████████████████▌                              | 8772/14631 [00:45<00:30, 189.37it/s]"
     ]
    },
    {
     "name": "stderr",
     "output_type": "stream",
     "text": [
      "\r",
      " 60%|█████████████████████████████████████████████▋                              | 8791/14631 [00:45<00:31, 187.06it/s]"
     ]
    },
    {
     "name": "stderr",
     "output_type": "stream",
     "text": [
      "\r",
      " 60%|█████████████████████████████████████████████▊                              | 8810/14631 [00:45<00:31, 184.93it/s]"
     ]
    },
    {
     "name": "stderr",
     "output_type": "stream",
     "text": [
      "\r",
      " 60%|█████████████████████████████████████████████▊                              | 8830/14631 [00:45<00:31, 186.75it/s]"
     ]
    },
    {
     "name": "stderr",
     "output_type": "stream",
     "text": [
      "\r",
      " 60%|█████████████████████████████████████████████▉                              | 8849/14631 [00:45<00:31, 184.92it/s]"
     ]
    },
    {
     "name": "stderr",
     "output_type": "stream",
     "text": [
      "\r",
      " 61%|██████████████████████████████████████████████                              | 8868/14631 [00:45<00:31, 184.01it/s]"
     ]
    },
    {
     "name": "stderr",
     "output_type": "stream",
     "text": [
      "\r",
      " 61%|██████████████████████████████████████████████▏                             | 8887/14631 [00:45<00:31, 183.42it/s]"
     ]
    },
    {
     "name": "stderr",
     "output_type": "stream",
     "text": [
      "\r",
      " 61%|██████████████████████████████████████████████▎                             | 8908/14631 [00:45<00:30, 188.78it/s]"
     ]
    },
    {
     "name": "stderr",
     "output_type": "stream",
     "text": [
      "\r",
      " 61%|██████████████████████████████████████████████▍                             | 8929/14631 [00:45<00:29, 192.71it/s]"
     ]
    },
    {
     "name": "stderr",
     "output_type": "stream",
     "text": [
      "\r",
      " 61%|██████████████████████████████████████████████▍                             | 8950/14631 [00:46<00:28, 195.92it/s]"
     ]
    },
    {
     "name": "stderr",
     "output_type": "stream",
     "text": [
      "\r",
      " 61%|██████████████████████████████████████████████▌                             | 8971/14631 [00:46<00:28, 197.85it/s]"
     ]
    },
    {
     "name": "stderr",
     "output_type": "stream",
     "text": [
      "\r",
      " 61%|██████████████████████████████████████████████▋                             | 8992/14631 [00:46<00:28, 199.07it/s]"
     ]
    },
    {
     "name": "stderr",
     "output_type": "stream",
     "text": [
      "\r",
      " 62%|██████████████████████████████████████████████▊                             | 9013/14631 [00:46<00:28, 199.65it/s]"
     ]
    },
    {
     "name": "stderr",
     "output_type": "stream",
     "text": [
      "\r",
      " 62%|██████████████████████████████████████████████▉                             | 9033/14631 [00:46<00:28, 195.11it/s]"
     ]
    },
    {
     "name": "stderr",
     "output_type": "stream",
     "text": [
      "\r",
      " 62%|███████████████████████████████████████████████                             | 9053/14631 [00:46<00:29, 191.45it/s]"
     ]
    },
    {
     "name": "stderr",
     "output_type": "stream",
     "text": [
      "\r",
      " 62%|███████████████████████████████████████████████▏                            | 9073/14631 [00:46<00:28, 193.31it/s]"
     ]
    },
    {
     "name": "stderr",
     "output_type": "stream",
     "text": [
      "\r",
      " 62%|███████████████████████████████████████████████▏                            | 9094/14631 [00:46<00:28, 195.84it/s]"
     ]
    },
    {
     "name": "stderr",
     "output_type": "stream",
     "text": [
      "\r",
      " 62%|███████████████████████████████████████████████▎                            | 9114/14631 [00:46<00:28, 196.77it/s]"
     ]
    },
    {
     "name": "stderr",
     "output_type": "stream",
     "text": [
      "\r",
      " 62%|███████████████████████████████████████████████▍                            | 9135/14631 [00:47<00:27, 197.77it/s]"
     ]
    },
    {
     "name": "stderr",
     "output_type": "stream",
     "text": [
      "\r",
      " 63%|███████████████████████████████████████████████▌                            | 9156/14631 [00:47<00:27, 198.92it/s]"
     ]
    },
    {
     "name": "stderr",
     "output_type": "stream",
     "text": [
      "\r",
      " 63%|███████████████████████████████████████████████▋                            | 9177/14631 [00:47<00:27, 199.96it/s]"
     ]
    },
    {
     "name": "stderr",
     "output_type": "stream",
     "text": [
      "\r",
      " 63%|███████████████████████████████████████████████▊                            | 9198/14631 [00:47<00:27, 199.30it/s]"
     ]
    },
    {
     "name": "stderr",
     "output_type": "stream",
     "text": [
      "\r",
      " 63%|███████████████████████████████████████████████▉                            | 9218/14631 [00:47<00:27, 196.75it/s]"
     ]
    },
    {
     "name": "stderr",
     "output_type": "stream",
     "text": [
      "\r",
      " 63%|███████████████████████████████████████████████▉                            | 9238/14631 [00:47<00:27, 196.67it/s]"
     ]
    },
    {
     "name": "stderr",
     "output_type": "stream",
     "text": [
      "\r",
      " 63%|████████████████████████████████████████████████                            | 9259/14631 [00:47<00:27, 198.75it/s]"
     ]
    },
    {
     "name": "stderr",
     "output_type": "stream",
     "text": [
      "\r",
      " 63%|████████████████████████████████████████████████▏                           | 9279/14631 [00:47<00:26, 198.63it/s]"
     ]
    },
    {
     "name": "stderr",
     "output_type": "stream",
     "text": [
      "\r",
      " 64%|████████████████████████████████████████████████▎                           | 9299/14631 [00:47<00:26, 198.11it/s]"
     ]
    },
    {
     "name": "stderr",
     "output_type": "stream",
     "text": [
      "\r",
      " 64%|████████████████████████████████████████████████▍                           | 9319/14631 [00:47<00:27, 193.54it/s]"
     ]
    },
    {
     "name": "stderr",
     "output_type": "stream",
     "text": [
      "\r",
      " 64%|████████████████████████████████████████████████▌                           | 9339/14631 [00:48<00:27, 193.66it/s]"
     ]
    },
    {
     "name": "stderr",
     "output_type": "stream",
     "text": [
      "\r",
      " 64%|████████████████████████████████████████████████▌                           | 9359/14631 [00:48<00:27, 194.57it/s]"
     ]
    },
    {
     "name": "stderr",
     "output_type": "stream",
     "text": [
      "\r",
      " 64%|████████████████████████████████████████████████▋                           | 9379/14631 [00:48<00:27, 190.83it/s]"
     ]
    },
    {
     "name": "stderr",
     "output_type": "stream",
     "text": [
      "\r",
      " 64%|████████████████████████████████████████████████▊                           | 9399/14631 [00:48<00:27, 189.88it/s]"
     ]
    },
    {
     "name": "stderr",
     "output_type": "stream",
     "text": [
      "\r",
      " 64%|████████████████████████████████████████████████▉                           | 9419/14631 [00:48<00:27, 187.01it/s]"
     ]
    },
    {
     "name": "stderr",
     "output_type": "stream",
     "text": [
      "\r",
      " 65%|█████████████████████████████████████████████████                           | 9439/14631 [00:48<00:27, 188.61it/s]"
     ]
    },
    {
     "name": "stderr",
     "output_type": "stream",
     "text": [
      "\r",
      " 65%|█████████████████████████████████████████████████▏                          | 9459/14631 [00:48<00:27, 189.95it/s]"
     ]
    },
    {
     "name": "stderr",
     "output_type": "stream",
     "text": [
      "\r",
      " 65%|█████████████████████████████████████████████████▏                          | 9479/14631 [00:48<00:26, 191.02it/s]"
     ]
    },
    {
     "name": "stderr",
     "output_type": "stream",
     "text": [
      "\r",
      " 65%|█████████████████████████████████████████████████▎                          | 9499/14631 [00:48<00:26, 191.06it/s]"
     ]
    },
    {
     "name": "stderr",
     "output_type": "stream",
     "text": [
      "\r",
      " 65%|█████████████████████████████████████████████████▍                          | 9519/14631 [00:49<00:26, 190.81it/s]"
     ]
    },
    {
     "name": "stderr",
     "output_type": "stream",
     "text": [
      "\r",
      " 65%|█████████████████████████████████████████████████▌                          | 9539/14631 [00:49<00:26, 191.75it/s]"
     ]
    },
    {
     "name": "stderr",
     "output_type": "stream",
     "text": [
      "\r",
      " 65%|█████████████████████████████████████████████████▋                          | 9559/14631 [00:49<00:26, 190.40it/s]"
     ]
    },
    {
     "name": "stderr",
     "output_type": "stream",
     "text": [
      "\r",
      " 65%|█████████████████████████████████████████████████▊                          | 9580/14631 [00:49<00:26, 193.51it/s]"
     ]
    },
    {
     "name": "stderr",
     "output_type": "stream",
     "text": [
      "\r",
      " 66%|█████████████████████████████████████████████████▊                          | 9601/14631 [00:49<00:25, 196.14it/s]"
     ]
    },
    {
     "name": "stderr",
     "output_type": "stream",
     "text": [
      "\r",
      " 66%|█████████████████████████████████████████████████▉                          | 9622/14631 [00:49<00:25, 197.76it/s]"
     ]
    },
    {
     "name": "stderr",
     "output_type": "stream",
     "text": [
      "\r",
      " 66%|██████████████████████████████████████████████████                          | 9643/14631 [00:49<00:24, 199.54it/s]"
     ]
    },
    {
     "name": "stderr",
     "output_type": "stream",
     "text": [
      "\r",
      " 66%|██████████████████████████████████████████████████▏                         | 9664/14631 [00:49<00:24, 200.14it/s]"
     ]
    },
    {
     "name": "stderr",
     "output_type": "stream",
     "text": [
      "\r",
      " 66%|██████████████████████████████████████████████████▎                         | 9685/14631 [00:49<00:29, 170.41it/s]"
     ]
    },
    {
     "name": "stderr",
     "output_type": "stream",
     "text": [
      "\r",
      " 66%|██████████████████████████████████████████████████▍                         | 9703/14631 [00:50<00:29, 166.93it/s]"
     ]
    },
    {
     "name": "stderr",
     "output_type": "stream",
     "text": [
      "\r",
      " 66%|██████████████████████████████████████████████████▍                         | 9721/14631 [00:50<00:29, 166.82it/s]"
     ]
    },
    {
     "name": "stderr",
     "output_type": "stream",
     "text": [
      "\r",
      " 67%|██████████████████████████████████████████████████▌                         | 9739/14631 [00:50<00:29, 166.71it/s]"
     ]
    },
    {
     "name": "stderr",
     "output_type": "stream",
     "text": [
      "\r",
      " 67%|██████████████████████████████████████████████████▋                         | 9756/14631 [00:50<00:29, 165.69it/s]"
     ]
    },
    {
     "name": "stderr",
     "output_type": "stream",
     "text": [
      "\r",
      " 67%|██████████████████████████████████████████████████▊                         | 9774/14631 [00:50<00:28, 167.71it/s]"
     ]
    },
    {
     "name": "stderr",
     "output_type": "stream",
     "text": [
      "\r",
      " 67%|██████████████████████████████████████████████████▊                         | 9792/14631 [00:50<00:28, 170.62it/s]"
     ]
    },
    {
     "name": "stderr",
     "output_type": "stream",
     "text": [
      "\r",
      " 67%|██████████████████████████████████████████████████▉                         | 9811/14631 [00:50<00:27, 174.16it/s]"
     ]
    },
    {
     "name": "stderr",
     "output_type": "stream",
     "text": [
      "\r",
      " 67%|███████████████████████████████████████████████████                         | 9830/14631 [00:50<00:27, 177.81it/s]"
     ]
    },
    {
     "name": "stderr",
     "output_type": "stream",
     "text": [
      "\r",
      " 67%|███████████████████████████████████████████████████▏                        | 9848/14631 [00:50<00:27, 172.83it/s]"
     ]
    },
    {
     "name": "stderr",
     "output_type": "stream",
     "text": [
      "\r",
      " 67%|███████████████████████████████████████████████████▏                        | 9866/14631 [00:50<00:27, 170.76it/s]"
     ]
    },
    {
     "name": "stderr",
     "output_type": "stream",
     "text": [
      "\r",
      " 68%|███████████████████████████████████████████████████▎                        | 9886/14631 [00:51<00:26, 177.11it/s]"
     ]
    },
    {
     "name": "stderr",
     "output_type": "stream",
     "text": [
      "\r",
      " 68%|███████████████████████████████████████████████████▍                        | 9905/14631 [00:51<00:26, 180.29it/s]"
     ]
    },
    {
     "name": "stderr",
     "output_type": "stream",
     "text": [
      "\r",
      " 68%|███████████████████████████████████████████████████▌                        | 9924/14631 [00:51<00:26, 180.72it/s]"
     ]
    },
    {
     "name": "stderr",
     "output_type": "stream",
     "text": [
      "\r",
      " 68%|███████████████████████████████████████████████████▋                        | 9943/14631 [00:51<00:29, 158.58it/s]"
     ]
    },
    {
     "name": "stderr",
     "output_type": "stream",
     "text": [
      "\r",
      " 68%|███████████████████████████████████████████████████▋                        | 9962/14631 [00:51<00:28, 164.56it/s]"
     ]
    },
    {
     "name": "stderr",
     "output_type": "stream",
     "text": [
      "\r",
      " 68%|███████████████████████████████████████████████████▊                        | 9981/14631 [00:51<00:27, 170.77it/s]"
     ]
    },
    {
     "name": "stderr",
     "output_type": "stream",
     "text": [
      "\r",
      " 68%|███████████████████████████████████████████████████▎                       | 10000/14631 [00:51<00:26, 175.67it/s]"
     ]
    },
    {
     "name": "stderr",
     "output_type": "stream",
     "text": [
      "\r",
      " 68%|███████████████████████████████████████████████████▎                       | 10019/14631 [00:51<00:25, 178.57it/s]"
     ]
    },
    {
     "name": "stderr",
     "output_type": "stream",
     "text": [
      "\r",
      " 69%|███████████████████████████████████████████████████▍                       | 10038/14631 [00:51<00:25, 178.79it/s]"
     ]
    },
    {
     "name": "stderr",
     "output_type": "stream",
     "text": [
      "\r",
      " 69%|███████████████████████████████████████████████████▌                       | 10057/14631 [00:52<00:25, 180.78it/s]"
     ]
    },
    {
     "name": "stderr",
     "output_type": "stream",
     "text": [
      "\r",
      " 69%|███████████████████████████████████████████████████▋                       | 10076/14631 [00:52<00:24, 182.88it/s]"
     ]
    },
    {
     "name": "stderr",
     "output_type": "stream",
     "text": [
      "\r",
      " 69%|███████████████████████████████████████████████████▋                       | 10095/14631 [00:52<00:24, 184.58it/s]"
     ]
    },
    {
     "name": "stderr",
     "output_type": "stream",
     "text": [
      "\r",
      " 69%|███████████████████████████████████████████████████▊                       | 10114/14631 [00:52<00:24, 185.52it/s]"
     ]
    },
    {
     "name": "stderr",
     "output_type": "stream",
     "text": [
      "\r",
      " 69%|███████████████████████████████████████████████████▉                       | 10133/14631 [00:52<00:24, 186.34it/s]"
     ]
    },
    {
     "name": "stderr",
     "output_type": "stream",
     "text": [
      "\r",
      " 69%|████████████████████████████████████████████████████                       | 10152/14631 [00:52<00:23, 186.85it/s]"
     ]
    },
    {
     "name": "stderr",
     "output_type": "stream",
     "text": [
      "\r",
      " 70%|████████████████████████████████████████████████████▏                      | 10171/14631 [00:52<00:23, 187.11it/s]"
     ]
    },
    {
     "name": "stderr",
     "output_type": "stream",
     "text": [
      "\r",
      " 70%|████████████████████████████████████████████████████▏                      | 10191/14631 [00:52<00:23, 190.09it/s]"
     ]
    },
    {
     "name": "stderr",
     "output_type": "stream",
     "text": [
      "\r",
      " 70%|████████████████████████████████████████████████████▎                      | 10211/14631 [00:52<00:22, 192.35it/s]"
     ]
    },
    {
     "name": "stderr",
     "output_type": "stream",
     "text": [
      "\r",
      " 70%|████████████████████████████████████████████████████▍                      | 10231/14631 [00:52<00:22, 194.36it/s]"
     ]
    },
    {
     "name": "stderr",
     "output_type": "stream",
     "text": [
      "\r",
      " 70%|████████████████████████████████████████████████████▌                      | 10251/14631 [00:53<00:22, 191.84it/s]"
     ]
    },
    {
     "name": "stderr",
     "output_type": "stream",
     "text": [
      "\r",
      " 70%|████████████████████████████████████████████████████▋                      | 10271/14631 [00:53<00:22, 192.64it/s]"
     ]
    },
    {
     "name": "stderr",
     "output_type": "stream",
     "text": [
      "\r",
      " 70%|████████████████████████████████████████████████████▊                      | 10291/14631 [00:53<00:22, 192.67it/s]"
     ]
    },
    {
     "name": "stderr",
     "output_type": "stream",
     "text": [
      "\r",
      " 70%|████████████████████████████████████████████████████▊                      | 10311/14631 [00:53<00:22, 194.35it/s]"
     ]
    },
    {
     "name": "stderr",
     "output_type": "stream",
     "text": [
      "\r",
      " 71%|████████████████████████████████████████████████████▉                      | 10331/14631 [00:53<00:22, 195.37it/s]"
     ]
    },
    {
     "name": "stderr",
     "output_type": "stream",
     "text": [
      "\r",
      " 71%|█████████████████████████████████████████████████████                      | 10352/14631 [00:53<00:21, 197.09it/s]"
     ]
    },
    {
     "name": "stderr",
     "output_type": "stream",
     "text": [
      "\r",
      " 71%|█████████████████████████████████████████████████████▏                     | 10372/14631 [00:53<00:21, 194.43it/s]"
     ]
    },
    {
     "name": "stderr",
     "output_type": "stream",
     "text": [
      "\r",
      " 71%|█████████████████████████████████████████████████████▎                     | 10392/14631 [00:53<00:22, 191.32it/s]"
     ]
    },
    {
     "name": "stderr",
     "output_type": "stream",
     "text": [
      "\r",
      " 71%|█████████████████████████████████████████████████████▎                     | 10412/14631 [00:53<00:22, 189.59it/s]"
     ]
    },
    {
     "name": "stderr",
     "output_type": "stream",
     "text": [
      "\r",
      " 71%|█████████████████████████████████████████████████████▍                     | 10432/14631 [00:54<00:22, 190.56it/s]"
     ]
    },
    {
     "name": "stderr",
     "output_type": "stream",
     "text": [
      "\r",
      " 71%|█████████████████████████████████████████████████████▌                     | 10452/14631 [00:54<00:21, 191.90it/s]"
     ]
    },
    {
     "name": "stderr",
     "output_type": "stream",
     "text": [
      "\r",
      " 72%|█████████████████████████████████████████████████████▋                     | 10472/14631 [00:54<00:21, 193.32it/s]"
     ]
    },
    {
     "name": "stderr",
     "output_type": "stream",
     "text": [
      "\r",
      " 72%|█████████████████████████████████████████████████████▊                     | 10492/14631 [00:54<00:21, 195.24it/s]"
     ]
    },
    {
     "name": "stderr",
     "output_type": "stream",
     "text": [
      "\r",
      " 72%|█████████████████████████████████████████████████████▉                     | 10512/14631 [00:54<00:21, 195.97it/s]"
     ]
    },
    {
     "name": "stderr",
     "output_type": "stream",
     "text": [
      "\r",
      " 72%|█████████████████████████████████████████████████████▉                     | 10532/14631 [00:54<00:20, 196.97it/s]"
     ]
    },
    {
     "name": "stderr",
     "output_type": "stream",
     "text": [
      "\r",
      " 72%|██████████████████████████████████████████████████████                     | 10552/14631 [00:54<00:20, 197.63it/s]"
     ]
    },
    {
     "name": "stderr",
     "output_type": "stream",
     "text": [
      "\r",
      " 72%|██████████████████████████████████████████████████████▏                    | 10572/14631 [00:54<00:20, 197.70it/s]"
     ]
    },
    {
     "name": "stderr",
     "output_type": "stream",
     "text": [
      "\r",
      " 72%|██████████████████████████████████████████████████████▎                    | 10592/14631 [00:54<00:20, 198.18it/s]"
     ]
    },
    {
     "name": "stderr",
     "output_type": "stream",
     "text": [
      "\r",
      " 73%|██████████████████████████████████████████████████████▍                    | 10612/14631 [00:54<00:20, 195.36it/s]"
     ]
    },
    {
     "name": "stderr",
     "output_type": "stream",
     "text": [
      "\r",
      " 73%|██████████████████████████████████████████████████████▌                    | 10632/14631 [00:55<00:20, 196.01it/s]"
     ]
    },
    {
     "name": "stderr",
     "output_type": "stream",
     "text": [
      "\r",
      " 73%|██████████████████████████████████████████████████████▌                    | 10653/14631 [00:55<00:20, 198.05it/s]"
     ]
    },
    {
     "name": "stderr",
     "output_type": "stream",
     "text": [
      "\r",
      " 73%|██████████████████████████████████████████████████████▋                    | 10674/14631 [00:55<00:19, 199.48it/s]"
     ]
    },
    {
     "name": "stderr",
     "output_type": "stream",
     "text": [
      "\r",
      " 73%|██████████████████████████████████████████████████████▊                    | 10694/14631 [00:55<00:19, 199.56it/s]"
     ]
    },
    {
     "name": "stderr",
     "output_type": "stream",
     "text": [
      "\r",
      " 73%|██████████████████████████████████████████████████████▉                    | 10714/14631 [00:55<00:19, 198.40it/s]"
     ]
    },
    {
     "name": "stderr",
     "output_type": "stream",
     "text": [
      "\r",
      " 73%|███████████████████████████████████████████████████████                    | 10734/14631 [00:55<00:20, 193.98it/s]"
     ]
    },
    {
     "name": "stderr",
     "output_type": "stream",
     "text": [
      "\r",
      " 74%|███████████████████████████████████████████████████████▏                   | 10754/14631 [00:55<00:20, 191.74it/s]"
     ]
    },
    {
     "name": "stderr",
     "output_type": "stream",
     "text": [
      "\r",
      " 74%|███████████████████████████████████████████████████████▏                   | 10774/14631 [00:55<00:20, 185.01it/s]"
     ]
    },
    {
     "name": "stderr",
     "output_type": "stream",
     "text": [
      "\r",
      " 74%|███████████████████████████████████████████████████████▎                   | 10793/14631 [00:55<00:21, 181.10it/s]"
     ]
    },
    {
     "name": "stderr",
     "output_type": "stream",
     "text": [
      "\r",
      " 74%|███████████████████████████████████████████████████████▍                   | 10812/14631 [00:55<00:21, 180.84it/s]"
     ]
    },
    {
     "name": "stderr",
     "output_type": "stream",
     "text": [
      "\r",
      " 74%|███████████████████████████████████████████████████████▌                   | 10832/14631 [00:56<00:20, 183.49it/s]"
     ]
    },
    {
     "name": "stderr",
     "output_type": "stream",
     "text": [
      "\r",
      " 74%|███████████████████████████████████████████████████████▋                   | 10853/14631 [00:56<00:20, 188.15it/s]"
     ]
    },
    {
     "name": "stderr",
     "output_type": "stream",
     "text": [
      "\r",
      " 74%|███████████████████████████████████████████████████████▋                   | 10873/14631 [00:56<00:19, 190.41it/s]"
     ]
    },
    {
     "name": "stderr",
     "output_type": "stream",
     "text": [
      "\r",
      " 74%|███████████████████████████████████████████████████████▊                   | 10893/14631 [00:56<00:19, 192.37it/s]"
     ]
    },
    {
     "name": "stderr",
     "output_type": "stream",
     "text": [
      "\r",
      " 75%|███████████████████████████████████████████████████████▉                   | 10913/14631 [00:56<00:19, 191.89it/s]"
     ]
    },
    {
     "name": "stderr",
     "output_type": "stream",
     "text": [
      "\r",
      " 75%|████████████████████████████████████████████████████████                   | 10933/14631 [00:56<00:19, 190.27it/s]"
     ]
    },
    {
     "name": "stderr",
     "output_type": "stream",
     "text": [
      "\r",
      " 75%|████████████████████████████████████████████████████████▏                  | 10953/14631 [00:56<00:19, 188.80it/s]"
     ]
    },
    {
     "name": "stderr",
     "output_type": "stream",
     "text": [
      "\r",
      " 75%|████████████████████████████████████████████████████████▏                  | 10972/14631 [00:56<00:19, 188.24it/s]"
     ]
    },
    {
     "name": "stderr",
     "output_type": "stream",
     "text": [
      "\r",
      " 75%|████████████████████████████████████████████████████████▎                  | 10991/14631 [00:56<00:19, 187.85it/s]"
     ]
    },
    {
     "name": "stderr",
     "output_type": "stream",
     "text": [
      "\r",
      " 75%|████████████████████████████████████████████████████████▍                  | 11010/14631 [00:57<00:19, 187.36it/s]"
     ]
    },
    {
     "name": "stderr",
     "output_type": "stream",
     "text": [
      "\r",
      " 75%|████████████████████████████████████████████████████████▌                  | 11029/14631 [00:57<00:19, 184.82it/s]"
     ]
    },
    {
     "name": "stderr",
     "output_type": "stream",
     "text": [
      "\r",
      " 76%|████████████████████████████████████████████████████████▋                  | 11049/14631 [00:57<00:19, 186.70it/s]"
     ]
    },
    {
     "name": "stderr",
     "output_type": "stream",
     "text": [
      "\r",
      " 76%|████████████████████████████████████████████████████████▋                  | 11069/14631 [00:57<00:18, 188.86it/s]"
     ]
    },
    {
     "name": "stderr",
     "output_type": "stream",
     "text": [
      "\r",
      " 76%|████████████████████████████████████████████████████████▊                  | 11088/14631 [00:57<00:18, 188.54it/s]"
     ]
    },
    {
     "name": "stderr",
     "output_type": "stream",
     "text": [
      "\r",
      " 76%|████████████████████████████████████████████████████████▉                  | 11107/14631 [00:57<00:18, 188.50it/s]"
     ]
    },
    {
     "name": "stderr",
     "output_type": "stream",
     "text": [
      "\r",
      " 76%|█████████████████████████████████████████████████████████                  | 11127/14631 [00:57<00:18, 191.69it/s]"
     ]
    },
    {
     "name": "stderr",
     "output_type": "stream",
     "text": [
      "\r",
      " 76%|█████████████████████████████████████████████████████████▏                 | 11147/14631 [00:57<00:17, 193.92it/s]"
     ]
    },
    {
     "name": "stderr",
     "output_type": "stream",
     "text": [
      "\r",
      " 76%|█████████████████████████████████████████████████████████▏                 | 11167/14631 [00:57<00:17, 192.84it/s]"
     ]
    },
    {
     "name": "stderr",
     "output_type": "stream",
     "text": [
      "\r",
      " 76%|█████████████████████████████████████████████████████████▎                 | 11187/14631 [00:57<00:17, 193.51it/s]"
     ]
    },
    {
     "name": "stderr",
     "output_type": "stream",
     "text": [
      "\r",
      " 77%|█████████████████████████████████████████████████████████▍                 | 11207/14631 [00:58<00:17, 193.98it/s]"
     ]
    },
    {
     "name": "stderr",
     "output_type": "stream",
     "text": [
      "\r",
      " 77%|█████████████████████████████████████████████████████████▌                 | 11227/14631 [00:58<00:17, 194.42it/s]"
     ]
    },
    {
     "name": "stderr",
     "output_type": "stream",
     "text": [
      "\r",
      " 77%|█████████████████████████████████████████████████████████▋                 | 11247/14631 [00:58<00:17, 193.58it/s]"
     ]
    },
    {
     "name": "stderr",
     "output_type": "stream",
     "text": [
      "\r",
      " 77%|█████████████████████████████████████████████████████████▊                 | 11267/14631 [00:58<00:17, 191.39it/s]"
     ]
    },
    {
     "name": "stderr",
     "output_type": "stream",
     "text": [
      "\r",
      " 77%|█████████████████████████████████████████████████████████▊                 | 11287/14631 [00:58<00:17, 193.23it/s]"
     ]
    },
    {
     "name": "stderr",
     "output_type": "stream",
     "text": [
      "\r",
      " 77%|█████████████████████████████████████████████████████████▉                 | 11307/14631 [00:58<00:17, 194.99it/s]"
     ]
    },
    {
     "name": "stderr",
     "output_type": "stream",
     "text": [
      "\r",
      " 77%|██████████████████████████████████████████████████████████                 | 11327/14631 [00:58<00:16, 194.68it/s]"
     ]
    },
    {
     "name": "stderr",
     "output_type": "stream",
     "text": [
      "\r",
      " 78%|██████████████████████████████████████████████████████████▏                | 11347/14631 [00:58<00:16, 195.86it/s]"
     ]
    },
    {
     "name": "stderr",
     "output_type": "stream",
     "text": [
      "\r",
      " 78%|██████████████████████████████████████████████████████████▎                | 11367/14631 [00:58<00:16, 192.84it/s]"
     ]
    },
    {
     "name": "stderr",
     "output_type": "stream",
     "text": [
      "\r",
      " 78%|██████████████████████████████████████████████████████████▎                | 11387/14631 [00:58<00:17, 187.36it/s]"
     ]
    },
    {
     "name": "stderr",
     "output_type": "stream",
     "text": [
      "\r",
      " 78%|██████████████████████████████████████████████████████████▍                | 11406/14631 [00:59<00:17, 184.03it/s]"
     ]
    },
    {
     "name": "stderr",
     "output_type": "stream",
     "text": [
      "\r",
      " 78%|██████████████████████████████████████████████████████████▌                | 11425/14631 [00:59<00:17, 184.02it/s]"
     ]
    },
    {
     "name": "stderr",
     "output_type": "stream",
     "text": [
      "\r",
      " 78%|██████████████████████████████████████████████████████████▋                | 11445/14631 [00:59<00:17, 185.65it/s]"
     ]
    },
    {
     "name": "stderr",
     "output_type": "stream",
     "text": [
      "\r",
      " 78%|██████████████████████████████████████████████████████████▊                | 11464/14631 [00:59<00:18, 167.62it/s]"
     ]
    },
    {
     "name": "stderr",
     "output_type": "stream",
     "text": [
      "\r",
      " 78%|██████████████████████████████████████████████████████████▊                | 11483/14631 [00:59<00:18, 172.12it/s]"
     ]
    },
    {
     "name": "stderr",
     "output_type": "stream",
     "text": [
      "\r",
      " 79%|██████████████████████████████████████████████████████████▉                | 11501/14631 [00:59<00:17, 174.27it/s]"
     ]
    },
    {
     "name": "stderr",
     "output_type": "stream",
     "text": [
      "\r",
      " 79%|███████████████████████████████████████████████████████████                | 11520/14631 [00:59<00:17, 178.51it/s]"
     ]
    },
    {
     "name": "stderr",
     "output_type": "stream",
     "text": [
      "\r",
      " 79%|███████████████████████████████████████████████████████████▏               | 11539/14631 [00:59<00:17, 180.19it/s]"
     ]
    },
    {
     "name": "stderr",
     "output_type": "stream",
     "text": [
      "\r",
      " 79%|███████████████████████████████████████████████████████████▏               | 11558/14631 [00:59<00:16, 181.84it/s]"
     ]
    },
    {
     "name": "stderr",
     "output_type": "stream",
     "text": [
      "\r",
      " 79%|███████████████████████████████████████████████████████████▎               | 11577/14631 [01:00<00:16, 181.97it/s]"
     ]
    },
    {
     "name": "stderr",
     "output_type": "stream",
     "text": [
      "\r",
      " 79%|███████████████████████████████████████████████████████████▍               | 11596/14631 [01:00<00:16, 182.91it/s]"
     ]
    },
    {
     "name": "stderr",
     "output_type": "stream",
     "text": [
      "\r",
      " 79%|███████████████████████████████████████████████████████████▌               | 11615/14631 [01:00<00:16, 184.27it/s]"
     ]
    },
    {
     "name": "stderr",
     "output_type": "stream",
     "text": [
      "\r",
      " 80%|███████████████████████████████████████████████████████████▋               | 11634/14631 [01:00<00:16, 185.52it/s]"
     ]
    },
    {
     "name": "stderr",
     "output_type": "stream",
     "text": [
      "\r",
      " 80%|███████████████████████████████████████████████████████████▋               | 11653/14631 [01:00<00:16, 180.79it/s]"
     ]
    },
    {
     "name": "stderr",
     "output_type": "stream",
     "text": [
      "\r",
      " 80%|███████████████████████████████████████████████████████████▊               | 11672/14631 [01:00<00:17, 166.18it/s]"
     ]
    },
    {
     "name": "stderr",
     "output_type": "stream",
     "text": [
      "\r",
      " 80%|███████████████████████████████████████████████████████████▉               | 11692/14631 [01:00<00:16, 173.52it/s]"
     ]
    },
    {
     "name": "stderr",
     "output_type": "stream",
     "text": [
      "\r",
      " 80%|████████████████████████████████████████████████████████████               | 11712/14631 [01:00<00:16, 180.52it/s]"
     ]
    },
    {
     "name": "stderr",
     "output_type": "stream",
     "text": [
      "\r",
      " 80%|████████████████████████████████████████████████████████████▏              | 11731/14631 [01:00<00:15, 181.64it/s]"
     ]
    },
    {
     "name": "stderr",
     "output_type": "stream",
     "text": [
      "\r",
      " 80%|████████████████████████████████████████████████████████████▏              | 11750/14631 [01:01<00:15, 182.34it/s]"
     ]
    },
    {
     "name": "stderr",
     "output_type": "stream",
     "text": [
      "\r",
      " 80%|████████████████████████████████████████████████████████████▎              | 11770/14631 [01:01<00:15, 186.20it/s]"
     ]
    },
    {
     "name": "stderr",
     "output_type": "stream",
     "text": [
      "\r",
      " 81%|████████████████████████████████████████████████████████████▍              | 11789/14631 [01:01<00:15, 183.02it/s]"
     ]
    },
    {
     "name": "stderr",
     "output_type": "stream",
     "text": [
      "\r",
      " 81%|████████████████████████████████████████████████████████████▌              | 11808/14631 [01:01<00:15, 178.47it/s]"
     ]
    },
    {
     "name": "stderr",
     "output_type": "stream",
     "text": [
      "\r",
      " 81%|████████████████████████████████████████████████████████████▋              | 11827/14631 [01:01<00:15, 180.92it/s]"
     ]
    },
    {
     "name": "stderr",
     "output_type": "stream",
     "text": [
      "\r",
      " 81%|████████████████████████████████████████████████████████████▋              | 11846/14631 [01:01<00:15, 182.04it/s]"
     ]
    },
    {
     "name": "stderr",
     "output_type": "stream",
     "text": [
      "\r",
      " 81%|████████████████████████████████████████████████████████████▊              | 11865/14631 [01:01<00:15, 183.55it/s]"
     ]
    },
    {
     "name": "stderr",
     "output_type": "stream",
     "text": [
      "\r",
      " 81%|████████████████████████████████████████████████████████████▉              | 11884/14631 [01:01<00:15, 173.54it/s]"
     ]
    },
    {
     "name": "stderr",
     "output_type": "stream",
     "text": [
      "\r",
      " 81%|█████████████████████████████████████████████████████████████              | 11903/14631 [01:01<00:15, 175.88it/s]"
     ]
    },
    {
     "name": "stderr",
     "output_type": "stream",
     "text": [
      "\r",
      " 81%|█████████████████████████████████████████████████████████████              | 11921/14631 [01:01<00:15, 175.05it/s]"
     ]
    },
    {
     "name": "stderr",
     "output_type": "stream",
     "text": [
      "\r",
      " 82%|█████████████████████████████████████████████████████████████▏             | 11940/14631 [01:02<00:15, 176.72it/s]"
     ]
    },
    {
     "name": "stderr",
     "output_type": "stream",
     "text": [
      "\r",
      " 82%|█████████████████████████████████████████████████████████████▎             | 11959/14631 [01:02<00:14, 178.73it/s]"
     ]
    },
    {
     "name": "stderr",
     "output_type": "stream",
     "text": [
      "\r",
      " 82%|█████████████████████████████████████████████████████████████▍             | 11978/14631 [01:02<00:14, 180.26it/s]"
     ]
    },
    {
     "name": "stderr",
     "output_type": "stream",
     "text": [
      "\r",
      " 82%|█████████████████████████████████████████████████████████████▍             | 11997/14631 [01:02<00:14, 181.73it/s]"
     ]
    },
    {
     "name": "stderr",
     "output_type": "stream",
     "text": [
      "\r",
      " 82%|█████████████████████████████████████████████████████████████▌             | 12016/14631 [01:02<00:14, 182.64it/s]"
     ]
    },
    {
     "name": "stderr",
     "output_type": "stream",
     "text": [
      "\r",
      " 82%|█████████████████████████████████████████████████████████████▋             | 12035/14631 [01:02<00:14, 183.54it/s]"
     ]
    },
    {
     "name": "stderr",
     "output_type": "stream",
     "text": [
      "\r",
      " 82%|█████████████████████████████████████████████████████████████▊             | 12054/14631 [01:02<00:13, 184.81it/s]"
     ]
    },
    {
     "name": "stderr",
     "output_type": "stream",
     "text": [
      "\r",
      " 83%|█████████████████████████████████████████████████████████████▉             | 12073/14631 [01:02<00:13, 186.02it/s]"
     ]
    },
    {
     "name": "stderr",
     "output_type": "stream",
     "text": [
      "\r",
      " 83%|█████████████████████████████████████████████████████████████▉             | 12092/14631 [01:02<00:13, 186.97it/s]"
     ]
    },
    {
     "name": "stderr",
     "output_type": "stream",
     "text": [
      "\r",
      " 83%|██████████████████████████████████████████████████████████████             | 12111/14631 [01:03<00:13, 186.86it/s]"
     ]
    },
    {
     "name": "stderr",
     "output_type": "stream",
     "text": [
      "\r",
      " 83%|██████████████████████████████████████████████████████████████▏            | 12130/14631 [01:03<00:13, 183.17it/s]"
     ]
    },
    {
     "name": "stderr",
     "output_type": "stream",
     "text": [
      "\r",
      " 83%|██████████████████████████████████████████████████████████████▎            | 12149/14631 [01:03<00:13, 181.26it/s]"
     ]
    },
    {
     "name": "stderr",
     "output_type": "stream",
     "text": [
      "\r",
      " 83%|██████████████████████████████████████████████████████████████▍            | 12169/14631 [01:03<00:13, 186.01it/s]"
     ]
    },
    {
     "name": "stderr",
     "output_type": "stream",
     "text": [
      "\r",
      " 83%|██████████████████████████████████████████████████████████████▍            | 12189/14631 [01:03<00:12, 188.08it/s]"
     ]
    },
    {
     "name": "stderr",
     "output_type": "stream",
     "text": [
      "\r",
      " 83%|██████████████████████████████████████████████████████████████▌            | 12209/14631 [01:03<00:12, 189.84it/s]"
     ]
    },
    {
     "name": "stderr",
     "output_type": "stream",
     "text": [
      "\r",
      " 84%|██████████████████████████████████████████████████████████████▋            | 12229/14631 [01:03<00:12, 190.82it/s]"
     ]
    },
    {
     "name": "stderr",
     "output_type": "stream",
     "text": [
      "\r",
      " 84%|██████████████████████████████████████████████████████████████▊            | 12249/14631 [01:03<00:12, 189.51it/s]"
     ]
    },
    {
     "name": "stderr",
     "output_type": "stream",
     "text": [
      "\r",
      " 84%|██████████████████████████████████████████████████████████████▉            | 12268/14631 [01:03<00:12, 186.26it/s]"
     ]
    },
    {
     "name": "stderr",
     "output_type": "stream",
     "text": [
      "\r",
      " 84%|██████████████████████████████████████████████████████████████▉            | 12288/14631 [01:03<00:12, 187.76it/s]"
     ]
    },
    {
     "name": "stderr",
     "output_type": "stream",
     "text": [
      "\r",
      " 84%|███████████████████████████████████████████████████████████████            | 12308/14631 [01:04<00:12, 189.80it/s]"
     ]
    },
    {
     "name": "stderr",
     "output_type": "stream",
     "text": [
      "\r",
      " 84%|███████████████████████████████████████████████████████████████▏           | 12328/14631 [01:04<00:12, 191.20it/s]"
     ]
    },
    {
     "name": "stderr",
     "output_type": "stream",
     "text": [
      "\r",
      " 84%|███████████████████████████████████████████████████████████████▎           | 12348/14631 [01:04<00:11, 192.38it/s]"
     ]
    },
    {
     "name": "stderr",
     "output_type": "stream",
     "text": [
      "\r",
      " 85%|███████████████████████████████████████████████████████████████▍           | 12368/14631 [01:04<00:11, 192.65it/s]"
     ]
    },
    {
     "name": "stderr",
     "output_type": "stream",
     "text": [
      "\r",
      " 85%|███████████████████████████████████████████████████████████████▌           | 12388/14631 [01:04<00:11, 193.05it/s]"
     ]
    },
    {
     "name": "stderr",
     "output_type": "stream",
     "text": [
      "\r",
      " 85%|███████████████████████████████████████████████████████████████▌           | 12408/14631 [01:04<00:11, 193.47it/s]"
     ]
    },
    {
     "name": "stderr",
     "output_type": "stream",
     "text": [
      "\r",
      " 85%|███████████████████████████████████████████████████████████████▋           | 12428/14631 [01:04<00:11, 192.93it/s]"
     ]
    },
    {
     "name": "stderr",
     "output_type": "stream",
     "text": [
      "\r",
      " 85%|███████████████████████████████████████████████████████████████▊           | 12448/14631 [01:04<00:11, 193.48it/s]"
     ]
    },
    {
     "name": "stderr",
     "output_type": "stream",
     "text": [
      "\r",
      " 85%|███████████████████████████████████████████████████████████████▉           | 12468/14631 [01:04<00:11, 195.00it/s]"
     ]
    },
    {
     "name": "stderr",
     "output_type": "stream",
     "text": [
      "\r",
      " 85%|████████████████████████████████████████████████████████████████           | 12488/14631 [01:04<00:11, 192.60it/s]"
     ]
    },
    {
     "name": "stderr",
     "output_type": "stream",
     "text": [
      "\r",
      " 85%|████████████████████████████████████████████████████████████████           | 12509/14631 [01:05<00:10, 194.86it/s]"
     ]
    },
    {
     "name": "stderr",
     "output_type": "stream",
     "text": [
      "\r",
      " 86%|████████████████████████████████████████████████████████████████▏          | 12529/14631 [01:05<00:10, 193.49it/s]"
     ]
    },
    {
     "name": "stderr",
     "output_type": "stream",
     "text": [
      "\r",
      " 86%|████████████████████████████████████████████████████████████████▎          | 12549/14631 [01:05<00:11, 189.01it/s]"
     ]
    },
    {
     "name": "stderr",
     "output_type": "stream",
     "text": [
      "\r",
      " 86%|████████████████████████████████████████████████████████████████▍          | 12568/14631 [01:05<00:12, 170.95it/s]"
     ]
    },
    {
     "name": "stderr",
     "output_type": "stream",
     "text": [
      "\r",
      " 86%|████████████████████████████████████████████████████████████████▌          | 12587/14631 [01:05<00:11, 174.17it/s]"
     ]
    },
    {
     "name": "stderr",
     "output_type": "stream",
     "text": [
      "\r",
      " 86%|████████████████████████████████████████████████████████████████▌          | 12607/14631 [01:05<00:11, 179.35it/s]"
     ]
    },
    {
     "name": "stderr",
     "output_type": "stream",
     "text": [
      "\r",
      " 86%|████████████████████████████████████████████████████████████████▋          | 12627/14631 [01:05<00:10, 182.44it/s]"
     ]
    },
    {
     "name": "stderr",
     "output_type": "stream",
     "text": [
      "\r",
      " 86%|████████████████████████████████████████████████████████████████▊          | 12647/14631 [01:05<00:10, 184.98it/s]"
     ]
    },
    {
     "name": "stderr",
     "output_type": "stream",
     "text": [
      "\r",
      " 87%|████████████████████████████████████████████████████████████████▉          | 12666/14631 [01:05<00:10, 185.92it/s]"
     ]
    },
    {
     "name": "stderr",
     "output_type": "stream",
     "text": [
      "\r",
      " 87%|█████████████████████████████████████████████████████████████████          | 12686/14631 [01:06<00:10, 188.36it/s]"
     ]
    },
    {
     "name": "stderr",
     "output_type": "stream",
     "text": [
      "\r",
      " 87%|█████████████████████████████████████████████████████████████████▏         | 12706/14631 [01:06<00:10, 190.18it/s]"
     ]
    },
    {
     "name": "stderr",
     "output_type": "stream",
     "text": [
      "\r",
      " 87%|█████████████████████████████████████████████████████████████████▏         | 12726/14631 [01:06<00:10, 190.16it/s]"
     ]
    },
    {
     "name": "stderr",
     "output_type": "stream",
     "text": [
      "\r",
      " 87%|█████████████████████████████████████████████████████████████████▎         | 12747/14631 [01:06<00:09, 193.47it/s]"
     ]
    },
    {
     "name": "stderr",
     "output_type": "stream",
     "text": [
      "\r",
      " 87%|█████████████████████████████████████████████████████████████████▍         | 12768/14631 [01:06<00:09, 195.91it/s]"
     ]
    },
    {
     "name": "stderr",
     "output_type": "stream",
     "text": [
      "\r",
      " 87%|█████████████████████████████████████████████████████████████████▌         | 12789/14631 [01:06<00:09, 197.89it/s]"
     ]
    },
    {
     "name": "stderr",
     "output_type": "stream",
     "text": [
      "\r",
      " 88%|█████████████████████████████████████████████████████████████████▋         | 12809/14631 [01:06<00:09, 198.17it/s]"
     ]
    },
    {
     "name": "stderr",
     "output_type": "stream",
     "text": [
      "\r",
      " 88%|█████████████████████████████████████████████████████████████████▊         | 12829/14631 [01:06<00:09, 194.03it/s]"
     ]
    },
    {
     "name": "stderr",
     "output_type": "stream",
     "text": [
      "\r",
      " 88%|█████████████████████████████████████████████████████████████████▊         | 12849/14631 [01:06<00:09, 188.78it/s]"
     ]
    },
    {
     "name": "stderr",
     "output_type": "stream",
     "text": [
      "\r",
      " 88%|█████████████████████████████████████████████████████████████████▉         | 12868/14631 [01:07<00:09, 187.72it/s]"
     ]
    },
    {
     "name": "stderr",
     "output_type": "stream",
     "text": [
      "\r",
      " 88%|██████████████████████████████████████████████████████████████████         | 12888/14631 [01:07<00:09, 188.76it/s]"
     ]
    },
    {
     "name": "stderr",
     "output_type": "stream",
     "text": [
      "\r",
      " 88%|██████████████████████████████████████████████████████████████████▏        | 12908/14631 [01:07<00:09, 188.91it/s]"
     ]
    },
    {
     "name": "stderr",
     "output_type": "stream",
     "text": [
      "\r",
      " 88%|██████████████████████████████████████████████████████████████████▎        | 12928/14631 [01:07<00:08, 191.53it/s]"
     ]
    },
    {
     "name": "stderr",
     "output_type": "stream",
     "text": [
      "\r",
      " 89%|██████████████████████████████████████████████████████████████████▍        | 12949/14631 [01:07<00:08, 194.80it/s]"
     ]
    },
    {
     "name": "stderr",
     "output_type": "stream",
     "text": [
      "\r",
      " 89%|██████████████████████████████████████████████████████████████████▍        | 12970/14631 [01:07<00:08, 197.06it/s]"
     ]
    },
    {
     "name": "stderr",
     "output_type": "stream",
     "text": [
      "\r",
      " 89%|██████████████████████████████████████████████████████████████████▌        | 12991/14631 [01:07<00:08, 198.73it/s]"
     ]
    },
    {
     "name": "stderr",
     "output_type": "stream",
     "text": [
      "\r",
      " 89%|██████████████████████████████████████████████████████████████████▋        | 13011/14631 [01:07<00:08, 195.62it/s]"
     ]
    },
    {
     "name": "stderr",
     "output_type": "stream",
     "text": [
      "\r",
      " 89%|██████████████████████████████████████████████████████████████████▊        | 13031/14631 [01:07<00:08, 191.89it/s]"
     ]
    },
    {
     "name": "stderr",
     "output_type": "stream",
     "text": [
      "\r",
      " 89%|██████████████████████████████████████████████████████████████████▉        | 13051/14631 [01:07<00:08, 188.41it/s]"
     ]
    },
    {
     "name": "stderr",
     "output_type": "stream",
     "text": [
      "\r",
      " 89%|███████████████████████████████████████████████████████████████████        | 13071/14631 [01:08<00:08, 190.83it/s]"
     ]
    },
    {
     "name": "stderr",
     "output_type": "stream",
     "text": [
      "\r",
      " 89%|███████████████████████████████████████████████████████████████████        | 13091/14631 [01:08<00:08, 186.69it/s]"
     ]
    },
    {
     "name": "stderr",
     "output_type": "stream",
     "text": [
      "\r",
      " 90%|███████████████████████████████████████████████████████████████████▏       | 13110/14631 [01:08<00:08, 186.26it/s]"
     ]
    },
    {
     "name": "stderr",
     "output_type": "stream",
     "text": [
      "\r",
      " 90%|███████████████████████████████████████████████████████████████████▎       | 13129/14631 [01:08<00:08, 187.12it/s]"
     ]
    },
    {
     "name": "stderr",
     "output_type": "stream",
     "text": [
      "\r",
      " 90%|███████████████████████████████████████████████████████████████████▍       | 13149/14631 [01:08<00:07, 189.20it/s]"
     ]
    },
    {
     "name": "stderr",
     "output_type": "stream",
     "text": [
      "\r",
      " 90%|███████████████████████████████████████████████████████████████████▌       | 13168/14631 [01:08<00:07, 189.32it/s]"
     ]
    },
    {
     "name": "stderr",
     "output_type": "stream",
     "text": [
      "\r",
      " 90%|███████████████████████████████████████████████████████████████████▌       | 13188/14631 [01:08<00:07, 190.47it/s]"
     ]
    },
    {
     "name": "stderr",
     "output_type": "stream",
     "text": [
      "\r",
      " 90%|███████████████████████████████████████████████████████████████████▋       | 13208/14631 [01:08<00:07, 191.26it/s]"
     ]
    },
    {
     "name": "stderr",
     "output_type": "stream",
     "text": [
      "\r",
      " 90%|███████████████████████████████████████████████████████████████████▊       | 13228/14631 [01:08<00:07, 191.18it/s]"
     ]
    },
    {
     "name": "stderr",
     "output_type": "stream",
     "text": [
      "\r",
      " 91%|███████████████████████████████████████████████████████████████████▉       | 13248/14631 [01:09<00:07, 192.40it/s]"
     ]
    },
    {
     "name": "stderr",
     "output_type": "stream",
     "text": [
      "\r",
      " 91%|████████████████████████████████████████████████████████████████████       | 13268/14631 [01:09<00:07, 194.55it/s]"
     ]
    },
    {
     "name": "stderr",
     "output_type": "stream",
     "text": [
      "\r",
      " 91%|████████████████████████████████████████████████████████████████████       | 13288/14631 [01:09<00:07, 190.54it/s]"
     ]
    },
    {
     "name": "stderr",
     "output_type": "stream",
     "text": [
      "\r",
      " 91%|████████████████████████████████████████████████████████████████████▏      | 13308/14631 [01:09<00:07, 187.88it/s]"
     ]
    },
    {
     "name": "stderr",
     "output_type": "stream",
     "text": [
      "\r",
      " 91%|████████████████████████████████████████████████████████████████████▎      | 13328/14631 [01:09<00:06, 189.42it/s]"
     ]
    },
    {
     "name": "stderr",
     "output_type": "stream",
     "text": [
      "\r",
      " 91%|████████████████████████████████████████████████████████████████████▍      | 13348/14631 [01:09<00:06, 192.22it/s]"
     ]
    },
    {
     "name": "stderr",
     "output_type": "stream",
     "text": [
      "\r",
      " 91%|████████████████████████████████████████████████████████████████████▌      | 13368/14631 [01:09<00:06, 194.25it/s]"
     ]
    },
    {
     "name": "stderr",
     "output_type": "stream",
     "text": [
      "\r",
      " 92%|████████████████████████████████████████████████████████████████████▋      | 13388/14631 [01:09<00:06, 195.57it/s]"
     ]
    },
    {
     "name": "stderr",
     "output_type": "stream",
     "text": [
      "\r",
      " 92%|████████████████████████████████████████████████████████████████████▋      | 13408/14631 [01:09<00:06, 193.48it/s]"
     ]
    },
    {
     "name": "stderr",
     "output_type": "stream",
     "text": [
      "\r",
      " 92%|████████████████████████████████████████████████████████████████████▊      | 13428/14631 [01:09<00:06, 192.36it/s]"
     ]
    },
    {
     "name": "stderr",
     "output_type": "stream",
     "text": [
      "\r",
      " 92%|████████████████████████████████████████████████████████████████████▉      | 13448/14631 [01:10<00:06, 192.04it/s]"
     ]
    },
    {
     "name": "stderr",
     "output_type": "stream",
     "text": [
      "\r",
      " 92%|█████████████████████████████████████████████████████████████████████      | 13468/14631 [01:10<00:06, 172.65it/s]"
     ]
    },
    {
     "name": "stderr",
     "output_type": "stream",
     "text": [
      "\r",
      " 92%|█████████████████████████████████████████████████████████████████████▏     | 13487/14631 [01:10<00:06, 176.48it/s]"
     ]
    },
    {
     "name": "stderr",
     "output_type": "stream",
     "text": [
      "\r",
      " 92%|█████████████████████████████████████████████████████████████████████▏     | 13506/14631 [01:10<00:06, 179.07it/s]"
     ]
    },
    {
     "name": "stderr",
     "output_type": "stream",
     "text": [
      "\r",
      " 92%|█████████████████████████████████████████████████████████████████████▎     | 13525/14631 [01:10<00:06, 181.34it/s]"
     ]
    },
    {
     "name": "stderr",
     "output_type": "stream",
     "text": [
      "\r",
      " 93%|█████████████████████████████████████████████████████████████████████▍     | 13544/14631 [01:10<00:05, 182.84it/s]"
     ]
    },
    {
     "name": "stderr",
     "output_type": "stream",
     "text": [
      "\r",
      " 93%|█████████████████████████████████████████████████████████████████████▌     | 13563/14631 [01:10<00:05, 183.16it/s]"
     ]
    },
    {
     "name": "stderr",
     "output_type": "stream",
     "text": [
      "\r",
      " 93%|█████████████████████████████████████████████████████████████████████▌     | 13582/14631 [01:10<00:05, 185.12it/s]"
     ]
    },
    {
     "name": "stderr",
     "output_type": "stream",
     "text": [
      "\r",
      " 93%|█████████████████████████████████████████████████████████████████████▋     | 13602/14631 [01:10<00:05, 187.83it/s]"
     ]
    },
    {
     "name": "stderr",
     "output_type": "stream",
     "text": [
      "\r",
      " 93%|█████████████████████████████████████████████████████████████████████▊     | 13622/14631 [01:11<00:05, 190.02it/s]"
     ]
    },
    {
     "name": "stderr",
     "output_type": "stream",
     "text": [
      "\r",
      " 93%|█████████████████████████████████████████████████████████████████████▉     | 13643/14631 [01:11<00:05, 193.33it/s]"
     ]
    },
    {
     "name": "stderr",
     "output_type": "stream",
     "text": [
      "\r",
      " 93%|██████████████████████████████████████████████████████████████████████     | 13663/14631 [01:11<00:05, 192.12it/s]"
     ]
    },
    {
     "name": "stderr",
     "output_type": "stream",
     "text": [
      "\r",
      " 94%|██████████████████████████████████████████████████████████████████████▏    | 13683/14631 [01:11<00:05, 189.18it/s]"
     ]
    },
    {
     "name": "stderr",
     "output_type": "stream",
     "text": [
      "\r",
      " 94%|██████████████████████████████████████████████████████████████████████▏    | 13702/14631 [01:11<00:04, 188.61it/s]"
     ]
    },
    {
     "name": "stderr",
     "output_type": "stream",
     "text": [
      "\r",
      " 94%|██████████████████████████████████████████████████████████████████████▎    | 13722/14631 [01:11<00:04, 191.05it/s]"
     ]
    },
    {
     "name": "stderr",
     "output_type": "stream",
     "text": [
      "\r",
      " 94%|██████████████████████████████████████████████████████████████████████▍    | 13742/14631 [01:11<00:04, 189.55it/s]"
     ]
    },
    {
     "name": "stderr",
     "output_type": "stream",
     "text": [
      "\r",
      " 94%|██████████████████████████████████████████████████████████████████████▌    | 13762/14631 [01:11<00:04, 192.57it/s]"
     ]
    },
    {
     "name": "stderr",
     "output_type": "stream",
     "text": [
      "\r",
      " 94%|██████████████████████████████████████████████████████████████████████▋    | 13782/14631 [01:11<00:04, 194.72it/s]"
     ]
    },
    {
     "name": "stderr",
     "output_type": "stream",
     "text": [
      "\r",
      " 94%|██████████████████████████████████████████████████████████████████████▊    | 13802/14631 [01:11<00:04, 192.50it/s]"
     ]
    },
    {
     "name": "stderr",
     "output_type": "stream",
     "text": [
      "\r",
      " 94%|██████████████████████████████████████████████████████████████████████▊    | 13822/14631 [01:12<00:04, 190.31it/s]"
     ]
    },
    {
     "name": "stderr",
     "output_type": "stream",
     "text": [
      "\r",
      " 95%|██████████████████████████████████████████████████████████████████████▉    | 13842/14631 [01:12<00:04, 187.75it/s]"
     ]
    },
    {
     "name": "stderr",
     "output_type": "stream",
     "text": [
      "\r",
      " 95%|███████████████████████████████████████████████████████████████████████    | 13861/14631 [01:12<00:04, 188.08it/s]"
     ]
    },
    {
     "name": "stderr",
     "output_type": "stream",
     "text": [
      "\r",
      " 95%|███████████████████████████████████████████████████████████████████████▏   | 13881/14631 [01:12<00:03, 189.43it/s]"
     ]
    },
    {
     "name": "stderr",
     "output_type": "stream",
     "text": [
      "\r",
      " 95%|███████████████████████████████████████████████████████████████████████▎   | 13901/14631 [01:12<00:03, 189.83it/s]"
     ]
    },
    {
     "name": "stderr",
     "output_type": "stream",
     "text": [
      "\r",
      " 95%|███████████████████████████████████████████████████████████████████████▎   | 13921/14631 [01:12<00:03, 190.32it/s]"
     ]
    },
    {
     "name": "stderr",
     "output_type": "stream",
     "text": [
      "\r",
      " 95%|███████████████████████████████████████████████████████████████████████▍   | 13941/14631 [01:12<00:03, 190.84it/s]"
     ]
    },
    {
     "name": "stderr",
     "output_type": "stream",
     "text": [
      "\r",
      " 95%|███████████████████████████████████████████████████████████████████████▌   | 13961/14631 [01:12<00:03, 187.36it/s]"
     ]
    },
    {
     "name": "stderr",
     "output_type": "stream",
     "text": [
      "\r",
      " 96%|███████████████████████████████████████████████████████████████████████▋   | 13980/14631 [01:12<00:03, 187.53it/s]"
     ]
    },
    {
     "name": "stderr",
     "output_type": "stream",
     "text": [
      "\r",
      " 96%|███████████████████████████████████████████████████████████████████████▊   | 14000/14631 [01:12<00:03, 189.38it/s]"
     ]
    },
    {
     "name": "stderr",
     "output_type": "stream",
     "text": [
      "\r",
      " 96%|███████████████████████████████████████████████████████████████████████▊   | 14020/14631 [01:13<00:03, 190.19it/s]"
     ]
    },
    {
     "name": "stderr",
     "output_type": "stream",
     "text": [
      "\r",
      " 96%|███████████████████████████████████████████████████████████████████████▉   | 14040/14631 [01:13<00:03, 190.37it/s]"
     ]
    },
    {
     "name": "stderr",
     "output_type": "stream",
     "text": [
      "\r",
      " 96%|████████████████████████████████████████████████████████████████████████   | 14060/14631 [01:13<00:02, 192.34it/s]"
     ]
    },
    {
     "name": "stderr",
     "output_type": "stream",
     "text": [
      "\r",
      " 96%|████████████████████████████████████████████████████████████████████████▏  | 14080/14631 [01:13<00:02, 194.11it/s]"
     ]
    },
    {
     "name": "stderr",
     "output_type": "stream",
     "text": [
      "\r",
      " 96%|████████████████████████████████████████████████████████████████████████▎  | 14100/14631 [01:13<00:02, 194.09it/s]"
     ]
    },
    {
     "name": "stderr",
     "output_type": "stream",
     "text": [
      "\r",
      " 97%|████████████████████████████████████████████████████████████████████████▍  | 14121/14631 [01:13<00:02, 196.40it/s]"
     ]
    },
    {
     "name": "stderr",
     "output_type": "stream",
     "text": [
      "\r",
      " 97%|████████████████████████████████████████████████████████████████████████▍  | 14142/14631 [01:13<00:02, 197.91it/s]"
     ]
    },
    {
     "name": "stderr",
     "output_type": "stream",
     "text": [
      "\r",
      " 97%|████████████████████████████████████████████████████████████████████████▌  | 14163/14631 [01:13<00:02, 198.65it/s]"
     ]
    },
    {
     "name": "stderr",
     "output_type": "stream",
     "text": [
      "\r",
      " 97%|████████████████████████████████████████████████████████████████████████▋  | 14183/14631 [01:13<00:02, 181.17it/s]"
     ]
    },
    {
     "name": "stderr",
     "output_type": "stream",
     "text": [
      "\r",
      " 97%|████████████████████████████████████████████████████████████████████████▊  | 14202/14631 [01:14<00:02, 182.24it/s]"
     ]
    },
    {
     "name": "stderr",
     "output_type": "stream",
     "text": [
      "\r",
      " 97%|████████████████████████████████████████████████████████████████████████▉  | 14222/14631 [01:14<00:02, 186.71it/s]"
     ]
    },
    {
     "name": "stderr",
     "output_type": "stream",
     "text": [
      "\r",
      " 97%|█████████████████████████████████████████████████████████████████████████  | 14242/14631 [01:14<00:02, 190.36it/s]"
     ]
    },
    {
     "name": "stderr",
     "output_type": "stream",
     "text": [
      "\r",
      " 97%|█████████████████████████████████████████████████████████████████████████  | 14262/14631 [01:14<00:01, 192.78it/s]"
     ]
    },
    {
     "name": "stderr",
     "output_type": "stream",
     "text": [
      "\r",
      " 98%|█████████████████████████████████████████████████████████████████████████▏ | 14282/14631 [01:14<00:01, 190.19it/s]"
     ]
    },
    {
     "name": "stderr",
     "output_type": "stream",
     "text": [
      "\r",
      " 98%|█████████████████████████████████████████████████████████████████████████▎ | 14302/14631 [01:14<00:01, 183.73it/s]"
     ]
    },
    {
     "name": "stderr",
     "output_type": "stream",
     "text": [
      "\r",
      " 98%|█████████████████████████████████████████████████████████████████████████▍ | 14321/14631 [01:14<00:01, 184.02it/s]"
     ]
    },
    {
     "name": "stderr",
     "output_type": "stream",
     "text": [
      "\r",
      " 98%|█████████████████████████████████████████████████████████████████████████▌ | 14340/14631 [01:14<00:01, 184.50it/s]"
     ]
    },
    {
     "name": "stderr",
     "output_type": "stream",
     "text": [
      "\r",
      " 98%|█████████████████████████████████████████████████████████████████████████▌ | 14359/14631 [01:14<00:01, 186.00it/s]"
     ]
    },
    {
     "name": "stderr",
     "output_type": "stream",
     "text": [
      "\r",
      " 98%|█████████████████████████████████████████████████████████████████████████▋ | 14378/14631 [01:14<00:01, 183.80it/s]"
     ]
    },
    {
     "name": "stderr",
     "output_type": "stream",
     "text": [
      "\r",
      " 98%|█████████████████████████████████████████████████████████████████████████▊ | 14397/14631 [01:15<00:01, 182.53it/s]"
     ]
    },
    {
     "name": "stderr",
     "output_type": "stream",
     "text": [
      "\r",
      " 99%|█████████████████████████████████████████████████████████████████████████▉ | 14417/14631 [01:15<00:01, 187.24it/s]"
     ]
    },
    {
     "name": "stderr",
     "output_type": "stream",
     "text": [
      "\r",
      " 99%|██████████████████████████████████████████████████████████████████████████ | 14437/14631 [01:15<00:01, 190.86it/s]"
     ]
    },
    {
     "name": "stderr",
     "output_type": "stream",
     "text": [
      "\r",
      " 99%|██████████████████████████████████████████████████████████████████████████ | 14457/14631 [01:15<00:00, 186.98it/s]"
     ]
    },
    {
     "name": "stderr",
     "output_type": "stream",
     "text": [
      "\r",
      " 99%|██████████████████████████████████████████████████████████████████████████▏| 14477/14631 [01:15<00:00, 188.38it/s]"
     ]
    },
    {
     "name": "stderr",
     "output_type": "stream",
     "text": [
      "\r",
      " 99%|██████████████████████████████████████████████████████████████████████████▎| 14496/14631 [01:15<00:00, 188.29it/s]"
     ]
    },
    {
     "name": "stderr",
     "output_type": "stream",
     "text": [
      "\r",
      " 99%|██████████████████████████████████████████████████████████████████████████▍| 14516/14631 [01:15<00:00, 189.68it/s]"
     ]
    },
    {
     "name": "stderr",
     "output_type": "stream",
     "text": [
      "\r",
      " 99%|██████████████████████████████████████████████████████████████████████████▌| 14535/14631 [01:15<00:00, 185.38it/s]"
     ]
    },
    {
     "name": "stderr",
     "output_type": "stream",
     "text": [
      "\r",
      " 99%|██████████████████████████████████████████████████████████████████████████▌| 14554/14631 [01:15<00:00, 185.08it/s]"
     ]
    },
    {
     "name": "stderr",
     "output_type": "stream",
     "text": [
      "\r",
      "100%|██████████████████████████████████████████████████████████████████████████▋| 14574/14631 [01:16<00:00, 186.85it/s]"
     ]
    },
    {
     "name": "stderr",
     "output_type": "stream",
     "text": [
      "\r",
      "100%|██████████████████████████████████████████████████████████████████████████▊| 14593/14631 [01:16<00:00, 187.51it/s]"
     ]
    },
    {
     "name": "stderr",
     "output_type": "stream",
     "text": [
      "\r",
      "100%|██████████████████████████████████████████████████████████████████████████▉| 14613/14631 [01:16<00:00, 188.44it/s]"
     ]
    },
    {
     "name": "stderr",
     "output_type": "stream",
     "text": [
      "\r",
      "100%|███████████████████████████████████████████████████████████████████████████| 14631/14631 [01:16<00:00, 191.63it/s]"
     ]
    },
    {
     "name": "stderr",
     "output_type": "stream",
     "text": [
      "\n"
     ]
    },
    {
     "data": {
      "text/html": [
       "<div>\n",
       "<style scoped>\n",
       "    .dataframe tbody tr th:only-of-type {\n",
       "        vertical-align: middle;\n",
       "    }\n",
       "\n",
       "    .dataframe tbody tr th {\n",
       "        vertical-align: top;\n",
       "    }\n",
       "\n",
       "    .dataframe thead th {\n",
       "        text-align: right;\n",
       "    }\n",
       "</style>\n",
       "<table border=\"1\" class=\"dataframe\">\n",
       "  <thead>\n",
       "    <tr style=\"text-align: right;\">\n",
       "      <th></th>\n",
       "      <th>person_id</th>\n",
       "      <th>redirect_id</th>\n",
       "      <th>first_name</th>\n",
       "      <th>family_name</th>\n",
       "      <th>memberships</th>\n",
       "    </tr>\n",
       "  </thead>\n",
       "  <tbody>\n",
       "    <tr>\n",
       "      <th>0</th>\n",
       "      <td>uk.org.publicwhip/person/10001</td>\n",
       "      <td>None</td>\n",
       "      <td>Diane</td>\n",
       "      <td>Abbott</td>\n",
       "      <td>[uk.org.publicwhip/member/2069, uk.org.publicw...</td>\n",
       "    </tr>\n",
       "    <tr>\n",
       "      <th>1</th>\n",
       "      <td>uk.org.publicwhip/person/10002</td>\n",
       "      <td>None</td>\n",
       "      <td>Gerry</td>\n",
       "      <td>Adams</td>\n",
       "      <td>[uk.org.publicwhip/member/2196, uk.org.publicw...</td>\n",
       "    </tr>\n",
       "    <tr>\n",
       "      <th>2</th>\n",
       "      <td>uk.org.publicwhip/person/10003</td>\n",
       "      <td>None</td>\n",
       "      <td>Irene</td>\n",
       "      <td>Adams</td>\n",
       "      <td>[uk.org.publicwhip/member/2201, uk.org.publicw...</td>\n",
       "    </tr>\n",
       "    <tr>\n",
       "      <th>3</th>\n",
       "      <td>uk.org.publicwhip/person/10004</td>\n",
       "      <td>None</td>\n",
       "      <td>Nick</td>\n",
       "      <td>Ainger</td>\n",
       "      <td>[uk.org.publicwhip/member/2321, uk.org.publicw...</td>\n",
       "    </tr>\n",
       "    <tr>\n",
       "      <th>4</th>\n",
       "      <td>uk.org.publicwhip/person/10005</td>\n",
       "      <td>None</td>\n",
       "      <td>Bob</td>\n",
       "      <td>Ainsworth</td>\n",
       "      <td>[uk.org.publicwhip/member/2323, uk.org.publicw...</td>\n",
       "    </tr>\n",
       "    <tr>\n",
       "      <th>...</th>\n",
       "      <td>...</td>\n",
       "      <td>...</td>\n",
       "      <td>...</td>\n",
       "      <td>...</td>\n",
       "      <td>...</td>\n",
       "    </tr>\n",
       "    <tr>\n",
       "      <th>14626</th>\n",
       "      <td>uk.org.publicwhip/person/26689</td>\n",
       "      <td>None</td>\n",
       "      <td>Simon</td>\n",
       "      <td>None</td>\n",
       "      <td>[uk.org.publicwhip/lord/101849]</td>\n",
       "    </tr>\n",
       "    <tr>\n",
       "      <th>14627</th>\n",
       "      <td>uk.org.publicwhip/person/26690</td>\n",
       "      <td>None</td>\n",
       "      <td>Sharon</td>\n",
       "      <td>None</td>\n",
       "      <td>[uk.org.publicwhip/lord/101850]</td>\n",
       "    </tr>\n",
       "    <tr>\n",
       "      <th>14628</th>\n",
       "      <td>uk.org.publicwhip/person/26691</td>\n",
       "      <td>None</td>\n",
       "      <td>Timothy</td>\n",
       "      <td>None</td>\n",
       "      <td>[uk.org.publicwhip/lord/101851]</td>\n",
       "    </tr>\n",
       "    <tr>\n",
       "      <th>14629</th>\n",
       "      <td>uk.org.publicwhip/person/26692</td>\n",
       "      <td>None</td>\n",
       "      <td>Jon</td>\n",
       "      <td>Burrows</td>\n",
       "      <td>[uk.org.publicwhip/member/90845]</td>\n",
       "    </tr>\n",
       "    <tr>\n",
       "      <th>14630</th>\n",
       "      <td>uk.org.publicwhip/person/26693</td>\n",
       "      <td>None</td>\n",
       "      <td>Jonathan</td>\n",
       "      <td>None</td>\n",
       "      <td>[uk.org.publicwhip/lord/101852]</td>\n",
       "    </tr>\n",
       "  </tbody>\n",
       "</table>\n",
       "<p>14631 rows × 5 columns</p>\n",
       "</div>"
      ],
      "text/plain": [
       "                            person_id redirect_id first_name family_name  \\\n",
       "0      uk.org.publicwhip/person/10001        None      Diane      Abbott   \n",
       "1      uk.org.publicwhip/person/10002        None      Gerry       Adams   \n",
       "2      uk.org.publicwhip/person/10003        None      Irene       Adams   \n",
       "3      uk.org.publicwhip/person/10004        None       Nick      Ainger   \n",
       "4      uk.org.publicwhip/person/10005        None        Bob   Ainsworth   \n",
       "...                               ...         ...        ...         ...   \n",
       "14626  uk.org.publicwhip/person/26689        None      Simon        None   \n",
       "14627  uk.org.publicwhip/person/26690        None     Sharon        None   \n",
       "14628  uk.org.publicwhip/person/26691        None    Timothy        None   \n",
       "14629  uk.org.publicwhip/person/26692        None        Jon     Burrows   \n",
       "14630  uk.org.publicwhip/person/26693        None  Jonathan         None   \n",
       "\n",
       "                                             memberships  \n",
       "0      [uk.org.publicwhip/member/2069, uk.org.publicw...  \n",
       "1      [uk.org.publicwhip/member/2196, uk.org.publicw...  \n",
       "2      [uk.org.publicwhip/member/2201, uk.org.publicw...  \n",
       "3      [uk.org.publicwhip/member/2321, uk.org.publicw...  \n",
       "4      [uk.org.publicwhip/member/2323, uk.org.publicw...  \n",
       "...                                                  ...  \n",
       "14626                    [uk.org.publicwhip/lord/101849]  \n",
       "14627                    [uk.org.publicwhip/lord/101850]  \n",
       "14628                    [uk.org.publicwhip/lord/101851]  \n",
       "14629                   [uk.org.publicwhip/member/90845]  \n",
       "14630                    [uk.org.publicwhip/lord/101852]  \n",
       "\n",
       "[14631 rows x 5 columns]"
      ]
     },
     "metadata": {},
     "output_type": "display_data"
    }
   ],
   "source": [
    "# Also, in some editions of Hansard, MPs are referred to by their member_id rather than their person_id\n",
    "# We want to therefore list all of the member_ids linked with each person_id\n",
    "person_id_2_member_id = lambda person_id: [entry['id'] for entry in response_json['memberships'] if 'person_id' in entry.keys() if entry['person_id'] == person_id]\n",
    "people_df['memberships'] = people_df.person_id.progress_apply(person_id_2_member_id)\n",
    "display(people_df)"
   ]
  },
  {
   "cell_type": "code",
   "execution_count": 6,
   "id": "de3acf25",
   "metadata": {
    "execution": {
     "iopub.execute_input": "2025-10-03T21:00:23.366670Z",
     "iopub.status.busy": "2025-10-03T21:00:23.366502Z",
     "iopub.status.idle": "2025-10-03T21:00:23.576517Z",
     "shell.execute_reply": "2025-10-03T21:00:23.576258Z"
    },
    "papermill": {
     "duration": 0.225565,
     "end_time": "2025-10-03T21:00:23.577255",
     "exception": false,
     "start_time": "2025-10-03T21:00:23.351690",
     "status": "completed"
    },
    "tags": []
   },
   "outputs": [
    {
     "name": "stderr",
     "output_type": "stream",
     "text": [
      "\r",
      "  0%|                                                                                        | 0/14631 [00:00<?, ?it/s]"
     ]
    },
    {
     "name": "stderr",
     "output_type": "stream",
     "text": [
      "\r",
      "100%|████████████████████████████████████████████████████████████████████████| 14631/14631 [00:00<00:00, 703756.49it/s]"
     ]
    },
    {
     "name": "stderr",
     "output_type": "stream",
     "text": [
      "\n"
     ]
    },
    {
     "data": {
      "text/html": [
       "<div>\n",
       "<style scoped>\n",
       "    .dataframe tbody tr th:only-of-type {\n",
       "        vertical-align: middle;\n",
       "    }\n",
       "\n",
       "    .dataframe tbody tr th {\n",
       "        vertical-align: top;\n",
       "    }\n",
       "\n",
       "    .dataframe thead th {\n",
       "        text-align: right;\n",
       "    }\n",
       "</style>\n",
       "<table border=\"1\" class=\"dataframe\">\n",
       "  <thead>\n",
       "    <tr style=\"text-align: right;\">\n",
       "      <th></th>\n",
       "      <th>person_id</th>\n",
       "      <th>redirect_id</th>\n",
       "      <th>first_name</th>\n",
       "      <th>family_name</th>\n",
       "      <th>memberships</th>\n",
       "      <th>constituencies</th>\n",
       "    </tr>\n",
       "  </thead>\n",
       "  <tbody>\n",
       "    <tr>\n",
       "      <th>0</th>\n",
       "      <td>uk.org.publicwhip/person/10001</td>\n",
       "      <td>None</td>\n",
       "      <td>Diane</td>\n",
       "      <td>Abbott</td>\n",
       "      <td>[uk.org.publicwhip/member/2069, uk.org.publicw...</td>\n",
       "      <td>{('1987-06-11', '1992-03-16'): 'Hackney North ...</td>\n",
       "    </tr>\n",
       "    <tr>\n",
       "      <th>1</th>\n",
       "      <td>uk.org.publicwhip/person/10002</td>\n",
       "      <td>None</td>\n",
       "      <td>Gerry</td>\n",
       "      <td>Adams</td>\n",
       "      <td>[uk.org.publicwhip/member/2196, uk.org.publicw...</td>\n",
       "      <td>{('1983-06-09', '1987-05-18'): 'Belfast West',...</td>\n",
       "    </tr>\n",
       "    <tr>\n",
       "      <th>2</th>\n",
       "      <td>uk.org.publicwhip/person/10003</td>\n",
       "      <td>None</td>\n",
       "      <td>Irene</td>\n",
       "      <td>Adams</td>\n",
       "      <td>[uk.org.publicwhip/member/2201, uk.org.publicw...</td>\n",
       "      <td>{('1990-11-29', '1992-03-16'): 'Paisley North'...</td>\n",
       "    </tr>\n",
       "    <tr>\n",
       "      <th>3</th>\n",
       "      <td>uk.org.publicwhip/person/10004</td>\n",
       "      <td>None</td>\n",
       "      <td>Nick</td>\n",
       "      <td>Ainger</td>\n",
       "      <td>[uk.org.publicwhip/member/2321, uk.org.publicw...</td>\n",
       "      <td>{('1992-04-09', '1997-04-08'): 'Pembroke', ('1...</td>\n",
       "    </tr>\n",
       "    <tr>\n",
       "      <th>4</th>\n",
       "      <td>uk.org.publicwhip/person/10005</td>\n",
       "      <td>None</td>\n",
       "      <td>Bob</td>\n",
       "      <td>Ainsworth</td>\n",
       "      <td>[uk.org.publicwhip/member/2323, uk.org.publicw...</td>\n",
       "      <td>{('1992-04-09', '1997-04-08'): 'Coventry North...</td>\n",
       "    </tr>\n",
       "    <tr>\n",
       "      <th>...</th>\n",
       "      <td>...</td>\n",
       "      <td>...</td>\n",
       "      <td>...</td>\n",
       "      <td>...</td>\n",
       "      <td>...</td>\n",
       "      <td>...</td>\n",
       "    </tr>\n",
       "    <tr>\n",
       "      <th>14626</th>\n",
       "      <td>uk.org.publicwhip/person/26689</td>\n",
       "      <td>None</td>\n",
       "      <td>Simon</td>\n",
       "      <td>None</td>\n",
       "      <td>[uk.org.publicwhip/lord/101849]</td>\n",
       "      <td>{}</td>\n",
       "    </tr>\n",
       "    <tr>\n",
       "      <th>14627</th>\n",
       "      <td>uk.org.publicwhip/person/26690</td>\n",
       "      <td>None</td>\n",
       "      <td>Sharon</td>\n",
       "      <td>None</td>\n",
       "      <td>[uk.org.publicwhip/lord/101850]</td>\n",
       "      <td>{}</td>\n",
       "    </tr>\n",
       "    <tr>\n",
       "      <th>14628</th>\n",
       "      <td>uk.org.publicwhip/person/26691</td>\n",
       "      <td>None</td>\n",
       "      <td>Timothy</td>\n",
       "      <td>None</td>\n",
       "      <td>[uk.org.publicwhip/lord/101851]</td>\n",
       "      <td>{}</td>\n",
       "    </tr>\n",
       "    <tr>\n",
       "      <th>14629</th>\n",
       "      <td>uk.org.publicwhip/person/26692</td>\n",
       "      <td>None</td>\n",
       "      <td>Jon</td>\n",
       "      <td>Burrows</td>\n",
       "      <td>[uk.org.publicwhip/member/90845]</td>\n",
       "      <td>{}</td>\n",
       "    </tr>\n",
       "    <tr>\n",
       "      <th>14630</th>\n",
       "      <td>uk.org.publicwhip/person/26693</td>\n",
       "      <td>None</td>\n",
       "      <td>Jonathan</td>\n",
       "      <td>None</td>\n",
       "      <td>[uk.org.publicwhip/lord/101852]</td>\n",
       "      <td>{}</td>\n",
       "    </tr>\n",
       "  </tbody>\n",
       "</table>\n",
       "<p>14631 rows × 6 columns</p>\n",
       "</div>"
      ],
      "text/plain": [
       "                            person_id redirect_id first_name family_name  \\\n",
       "0      uk.org.publicwhip/person/10001        None      Diane      Abbott   \n",
       "1      uk.org.publicwhip/person/10002        None      Gerry       Adams   \n",
       "2      uk.org.publicwhip/person/10003        None      Irene       Adams   \n",
       "3      uk.org.publicwhip/person/10004        None       Nick      Ainger   \n",
       "4      uk.org.publicwhip/person/10005        None        Bob   Ainsworth   \n",
       "...                               ...         ...        ...         ...   \n",
       "14626  uk.org.publicwhip/person/26689        None      Simon        None   \n",
       "14627  uk.org.publicwhip/person/26690        None     Sharon        None   \n",
       "14628  uk.org.publicwhip/person/26691        None    Timothy        None   \n",
       "14629  uk.org.publicwhip/person/26692        None        Jon     Burrows   \n",
       "14630  uk.org.publicwhip/person/26693        None  Jonathan         None   \n",
       "\n",
       "                                             memberships  \\\n",
       "0      [uk.org.publicwhip/member/2069, uk.org.publicw...   \n",
       "1      [uk.org.publicwhip/member/2196, uk.org.publicw...   \n",
       "2      [uk.org.publicwhip/member/2201, uk.org.publicw...   \n",
       "3      [uk.org.publicwhip/member/2321, uk.org.publicw...   \n",
       "4      [uk.org.publicwhip/member/2323, uk.org.publicw...   \n",
       "...                                                  ...   \n",
       "14626                    [uk.org.publicwhip/lord/101849]   \n",
       "14627                    [uk.org.publicwhip/lord/101850]   \n",
       "14628                    [uk.org.publicwhip/lord/101851]   \n",
       "14629                   [uk.org.publicwhip/member/90845]   \n",
       "14630                    [uk.org.publicwhip/lord/101852]   \n",
       "\n",
       "                                          constituencies  \n",
       "0      {('1987-06-11', '1992-03-16'): 'Hackney North ...  \n",
       "1      {('1983-06-09', '1987-05-18'): 'Belfast West',...  \n",
       "2      {('1990-11-29', '1992-03-16'): 'Paisley North'...  \n",
       "3      {('1992-04-09', '1997-04-08'): 'Pembroke', ('1...  \n",
       "4      {('1992-04-09', '1997-04-08'): 'Coventry North...  \n",
       "...                                                  ...  \n",
       "14626                                                 {}  \n",
       "14627                                                 {}  \n",
       "14628                                                 {}  \n",
       "14629                                                 {}  \n",
       "14630                                                 {}  \n",
       "\n",
       "[14631 rows x 6 columns]"
      ]
     },
     "metadata": {},
     "output_type": "display_data"
    }
   ],
   "source": [
    "# Then, we can use memberships to link people to post IDs\n",
    "memberid2postid = {entry['id']:(entry['post_id'],entry['start_date'],entry['end_date']) for entry in response_json['memberships'] if all([key in entry.keys() for key in ['post_id','start_date','end_date']])}\n",
    "\n",
    "# And the same JSON links post IDs to constituency names\n",
    "mp_posts = [entry for entry in response_json['posts'] if 'role' in entry.keys() if entry['role']=='Member of Parliament']\n",
    "postid2constituency = {entry['id']:entry['area']['name'] for entry in mp_posts}\n",
    "\n",
    "# So then we can lookup constituency names from member IDs\n",
    "memberid2constituency = {member_id:((start_date,end_date),postid2constituency[post_id]) for member_id,(post_id,start_date,end_date) in memberid2postid.items() if post_id in postid2constituency.keys()}\n",
    "\n",
    "def member_id_2_constituency(memberships):\n",
    "    member_ids_to_lookup = []\n",
    "    for member_id in memberships:\n",
    "        if member_id in memberid2constituency.keys():\n",
    "            member_ids_to_lookup.append(member_id)\n",
    "            \n",
    "    constituencies = dict()\n",
    "    for member_id in member_ids_to_lookup:\n",
    "        dates,constituency = memberid2constituency[member_id]\n",
    "        constituencies[dates] = constituency\n",
    "    return constituencies\n",
    "\n",
    "people_df['constituencies'] = people_df.memberships.progress_apply(member_id_2_constituency)\n",
    "display(people_df)"
   ]
  },
  {
   "cell_type": "code",
   "execution_count": 7,
   "id": "46bc2057",
   "metadata": {
    "execution": {
     "iopub.execute_input": "2025-10-03T21:00:23.605473Z",
     "iopub.status.busy": "2025-10-03T21:00:23.605344Z",
     "iopub.status.idle": "2025-10-03T21:00:23.645683Z",
     "shell.execute_reply": "2025-10-03T21:00:23.645420Z"
    },
    "papermill": {
     "duration": 0.055536,
     "end_time": "2025-10-03T21:00:23.646524",
     "exception": false,
     "start_time": "2025-10-03T21:00:23.590988",
     "status": "completed"
    },
    "tags": []
   },
   "outputs": [
    {
     "name": "stderr",
     "output_type": "stream",
     "text": [
      "\r",
      "  0%|                                                                                        | 0/14631 [00:00<?, ?it/s]"
     ]
    },
    {
     "name": "stderr",
     "output_type": "stream",
     "text": [
      "\r",
      "100%|███████████████████████████████████████████████████████████████████████| 14631/14631 [00:00<00:00, 1117305.04it/s]"
     ]
    },
    {
     "name": "stderr",
     "output_type": "stream",
     "text": [
      "\n"
     ]
    },
    {
     "data": {
      "text/html": [
       "<div>\n",
       "<style scoped>\n",
       "    .dataframe tbody tr th:only-of-type {\n",
       "        vertical-align: middle;\n",
       "    }\n",
       "\n",
       "    .dataframe tbody tr th {\n",
       "        vertical-align: top;\n",
       "    }\n",
       "\n",
       "    .dataframe thead th {\n",
       "        text-align: right;\n",
       "    }\n",
       "</style>\n",
       "<table border=\"1\" class=\"dataframe\">\n",
       "  <thead>\n",
       "    <tr style=\"text-align: right;\">\n",
       "      <th></th>\n",
       "      <th>person_id</th>\n",
       "      <th>redirect_id</th>\n",
       "      <th>first_name</th>\n",
       "      <th>family_name</th>\n",
       "      <th>memberships</th>\n",
       "      <th>constituencies</th>\n",
       "      <th>parties</th>\n",
       "    </tr>\n",
       "  </thead>\n",
       "  <tbody>\n",
       "    <tr>\n",
       "      <th>0</th>\n",
       "      <td>uk.org.publicwhip/person/10001</td>\n",
       "      <td>None</td>\n",
       "      <td>Diane</td>\n",
       "      <td>Abbott</td>\n",
       "      <td>[uk.org.publicwhip/member/2069, uk.org.publicw...</td>\n",
       "      <td>{('1987-06-11', '1992-03-16'): 'Hackney North ...</td>\n",
       "      <td>{('1997-05-01', '2001-05-14'): 'Labour', ('200...</td>\n",
       "    </tr>\n",
       "    <tr>\n",
       "      <th>1</th>\n",
       "      <td>uk.org.publicwhip/person/10002</td>\n",
       "      <td>None</td>\n",
       "      <td>Gerry</td>\n",
       "      <td>Adams</td>\n",
       "      <td>[uk.org.publicwhip/member/2196, uk.org.publicw...</td>\n",
       "      <td>{('1983-06-09', '1987-05-18'): 'Belfast West',...</td>\n",
       "      <td>{('1997-05-01', '2001-05-14'): 'Sinn Féin', ('...</td>\n",
       "    </tr>\n",
       "    <tr>\n",
       "      <th>2</th>\n",
       "      <td>uk.org.publicwhip/person/10003</td>\n",
       "      <td>None</td>\n",
       "      <td>Irene</td>\n",
       "      <td>Adams</td>\n",
       "      <td>[uk.org.publicwhip/member/2201, uk.org.publicw...</td>\n",
       "      <td>{('1990-11-29', '1992-03-16'): 'Paisley North'...</td>\n",
       "      <td>{('1997-05-01', '2001-05-14'): 'Labour', ('200...</td>\n",
       "    </tr>\n",
       "    <tr>\n",
       "      <th>3</th>\n",
       "      <td>uk.org.publicwhip/person/10004</td>\n",
       "      <td>None</td>\n",
       "      <td>Nick</td>\n",
       "      <td>Ainger</td>\n",
       "      <td>[uk.org.publicwhip/member/2321, uk.org.publicw...</td>\n",
       "      <td>{('1992-04-09', '1997-04-08'): 'Pembroke', ('1...</td>\n",
       "      <td>{('1997-05-01', '2001-05-14'): 'Labour', ('200...</td>\n",
       "    </tr>\n",
       "    <tr>\n",
       "      <th>4</th>\n",
       "      <td>uk.org.publicwhip/person/10005</td>\n",
       "      <td>None</td>\n",
       "      <td>Bob</td>\n",
       "      <td>Ainsworth</td>\n",
       "      <td>[uk.org.publicwhip/member/2323, uk.org.publicw...</td>\n",
       "      <td>{('1992-04-09', '1997-04-08'): 'Coventry North...</td>\n",
       "      <td>{('1997-05-01', '2001-05-14'): 'Labour', ('200...</td>\n",
       "    </tr>\n",
       "    <tr>\n",
       "      <th>...</th>\n",
       "      <td>...</td>\n",
       "      <td>...</td>\n",
       "      <td>...</td>\n",
       "      <td>...</td>\n",
       "      <td>...</td>\n",
       "      <td>...</td>\n",
       "      <td>...</td>\n",
       "    </tr>\n",
       "    <tr>\n",
       "      <th>14626</th>\n",
       "      <td>uk.org.publicwhip/person/26689</td>\n",
       "      <td>None</td>\n",
       "      <td>Simon</td>\n",
       "      <td>None</td>\n",
       "      <td>[uk.org.publicwhip/lord/101849]</td>\n",
       "      <td>{}</td>\n",
       "      <td>{}</td>\n",
       "    </tr>\n",
       "    <tr>\n",
       "      <th>14627</th>\n",
       "      <td>uk.org.publicwhip/person/26690</td>\n",
       "      <td>None</td>\n",
       "      <td>Sharon</td>\n",
       "      <td>None</td>\n",
       "      <td>[uk.org.publicwhip/lord/101850]</td>\n",
       "      <td>{}</td>\n",
       "      <td>{}</td>\n",
       "    </tr>\n",
       "    <tr>\n",
       "      <th>14628</th>\n",
       "      <td>uk.org.publicwhip/person/26691</td>\n",
       "      <td>None</td>\n",
       "      <td>Timothy</td>\n",
       "      <td>None</td>\n",
       "      <td>[uk.org.publicwhip/lord/101851]</td>\n",
       "      <td>{}</td>\n",
       "      <td>{}</td>\n",
       "    </tr>\n",
       "    <tr>\n",
       "      <th>14629</th>\n",
       "      <td>uk.org.publicwhip/person/26692</td>\n",
       "      <td>None</td>\n",
       "      <td>Jon</td>\n",
       "      <td>Burrows</td>\n",
       "      <td>[uk.org.publicwhip/member/90845]</td>\n",
       "      <td>{}</td>\n",
       "      <td>{}</td>\n",
       "    </tr>\n",
       "    <tr>\n",
       "      <th>14630</th>\n",
       "      <td>uk.org.publicwhip/person/26693</td>\n",
       "      <td>None</td>\n",
       "      <td>Jonathan</td>\n",
       "      <td>None</td>\n",
       "      <td>[uk.org.publicwhip/lord/101852]</td>\n",
       "      <td>{}</td>\n",
       "      <td>{}</td>\n",
       "    </tr>\n",
       "  </tbody>\n",
       "</table>\n",
       "<p>14631 rows × 7 columns</p>\n",
       "</div>"
      ],
      "text/plain": [
       "                            person_id redirect_id first_name family_name  \\\n",
       "0      uk.org.publicwhip/person/10001        None      Diane      Abbott   \n",
       "1      uk.org.publicwhip/person/10002        None      Gerry       Adams   \n",
       "2      uk.org.publicwhip/person/10003        None      Irene       Adams   \n",
       "3      uk.org.publicwhip/person/10004        None       Nick      Ainger   \n",
       "4      uk.org.publicwhip/person/10005        None        Bob   Ainsworth   \n",
       "...                               ...         ...        ...         ...   \n",
       "14626  uk.org.publicwhip/person/26689        None      Simon        None   \n",
       "14627  uk.org.publicwhip/person/26690        None     Sharon        None   \n",
       "14628  uk.org.publicwhip/person/26691        None    Timothy        None   \n",
       "14629  uk.org.publicwhip/person/26692        None        Jon     Burrows   \n",
       "14630  uk.org.publicwhip/person/26693        None  Jonathan         None   \n",
       "\n",
       "                                             memberships  \\\n",
       "0      [uk.org.publicwhip/member/2069, uk.org.publicw...   \n",
       "1      [uk.org.publicwhip/member/2196, uk.org.publicw...   \n",
       "2      [uk.org.publicwhip/member/2201, uk.org.publicw...   \n",
       "3      [uk.org.publicwhip/member/2321, uk.org.publicw...   \n",
       "4      [uk.org.publicwhip/member/2323, uk.org.publicw...   \n",
       "...                                                  ...   \n",
       "14626                    [uk.org.publicwhip/lord/101849]   \n",
       "14627                    [uk.org.publicwhip/lord/101850]   \n",
       "14628                    [uk.org.publicwhip/lord/101851]   \n",
       "14629                   [uk.org.publicwhip/member/90845]   \n",
       "14630                    [uk.org.publicwhip/lord/101852]   \n",
       "\n",
       "                                          constituencies  \\\n",
       "0      {('1987-06-11', '1992-03-16'): 'Hackney North ...   \n",
       "1      {('1983-06-09', '1987-05-18'): 'Belfast West',...   \n",
       "2      {('1990-11-29', '1992-03-16'): 'Paisley North'...   \n",
       "3      {('1992-04-09', '1997-04-08'): 'Pembroke', ('1...   \n",
       "4      {('1992-04-09', '1997-04-08'): 'Coventry North...   \n",
       "...                                                  ...   \n",
       "14626                                                 {}   \n",
       "14627                                                 {}   \n",
       "14628                                                 {}   \n",
       "14629                                                 {}   \n",
       "14630                                                 {}   \n",
       "\n",
       "                                                 parties  \n",
       "0      {('1997-05-01', '2001-05-14'): 'Labour', ('200...  \n",
       "1      {('1997-05-01', '2001-05-14'): 'Sinn Féin', ('...  \n",
       "2      {('1997-05-01', '2001-05-14'): 'Labour', ('200...  \n",
       "3      {('1997-05-01', '2001-05-14'): 'Labour', ('200...  \n",
       "4      {('1997-05-01', '2001-05-14'): 'Labour', ('200...  \n",
       "...                                                  ...  \n",
       "14626                                                 {}  \n",
       "14627                                                 {}  \n",
       "14628                                                 {}  \n",
       "14629                                                 {}  \n",
       "14630                                                 {}  \n",
       "\n",
       "[14631 rows x 7 columns]"
      ]
     },
     "metadata": {},
     "output_type": "display_data"
    }
   ],
   "source": [
    "# Similarly, we can get details on party affiliations across periods of time\n",
    "memberid2partyid = {entry['id']:(entry['on_behalf_of_id'],entry['start_date'],entry['end_date']) for entry in response_json['memberships'] if all([key in entry.keys() for key in ['on_behalf_of_id','start_date','end_date']])}\n",
    "\n",
    "# And the same JSON links post IDs to constituency names\n",
    "parties = [entry for entry in response_json['organizations'] if 'classification' in entry.keys() if entry['classification']=='party']\n",
    "partyid2party = {entry['id']:entry['name'] for entry in parties}\n",
    "\n",
    "# So then we can lookup constituency names from member IDs\n",
    "memberid2party = {member_id:((start_date,end_date),partyid2party[party_id]) for member_id,(party_id,start_date,end_date) in memberid2partyid.items() if party_id in partyid2party.keys()}\n",
    "\n",
    "def member_id_2_party(memberships):\n",
    "    member_ids_to_lookup = []\n",
    "    for member_id in memberships:\n",
    "        if member_id in memberid2party.keys():\n",
    "            member_ids_to_lookup.append(member_id)\n",
    "            \n",
    "    parties = dict()\n",
    "    for member_id in member_ids_to_lookup:\n",
    "        dates,party = memberid2party[member_id]\n",
    "        parties[dates] = party\n",
    "    return parties\n",
    "\n",
    "people_df['parties'] = people_df.memberships.progress_apply(member_id_2_party)\n",
    "display(people_df)"
   ]
  },
  {
   "cell_type": "code",
   "execution_count": 8,
   "id": "8686fed2",
   "metadata": {
    "execution": {
     "iopub.execute_input": "2025-10-03T21:00:23.676163Z",
     "iopub.status.busy": "2025-10-03T21:00:23.676042Z",
     "iopub.status.idle": "2025-10-03T21:00:23.972225Z",
     "shell.execute_reply": "2025-10-03T21:00:23.971920Z"
    },
    "papermill": {
     "duration": 0.313874,
     "end_time": "2025-10-03T21:00:23.973811",
     "exception": false,
     "start_time": "2025-10-03T21:00:23.659937",
     "status": "completed"
    },
    "tags": []
   },
   "outputs": [],
   "source": [
    "# Lastly, we want redirect IDs to contain the same details as entries to which they redirect\n",
    "redirect = lambda row: people_df[people_df.person_id==row.redirect_id].iloc[0] if row.redirect_id is not None else row\n",
    "\n",
    "people_df = people_df.apply(redirect, axis=1)\n",
    "\n",
    "assert people_df.redirect_id.apply(lambda redirect_id: redirect_id is not None).sum()==0, \"Still redirects required!\"\n",
    "\n",
    "people_df = people_df.drop('redirect_id', axis=1)\n",
    "people_df = people_df.drop_duplicates('person_id')"
   ]
  },
  {
   "cell_type": "code",
   "execution_count": 9,
   "id": "0828eb1b",
   "metadata": {
    "execution": {
     "iopub.execute_input": "2025-10-03T21:00:24.003307Z",
     "iopub.status.busy": "2025-10-03T21:00:24.003166Z",
     "iopub.status.idle": "2025-10-03T21:00:24.008056Z",
     "shell.execute_reply": "2025-10-03T21:00:24.007806Z"
    },
    "papermill": {
     "duration": 0.020494,
     "end_time": "2025-10-03T21:00:24.008739",
     "exception": false,
     "start_time": "2025-10-03T21:00:23.988245",
     "status": "completed"
    },
    "tags": []
   },
   "outputs": [],
   "source": [
    "##### We're missing party IDs for some Prime Ministers...\n",
    "people_df.loc[10267,:].parties = {('1853-08-22','1903-08-22'): 'Conservative'} # Gascoyne-Cecil\n",
    "people_df.loc[3656,:].parties = {('1874-01-31','1922-05-05'): 'Conservative'} # Balfour\n",
    "people_df.loc[4357,:].parties = {('1868-11-17','1908-04-22'): 'Liberal'} # Campbell-Bannerman\n",
    "people_df.loc[3678,:].parties = {('1886-07-01','1924-10-09'): 'Liberal'} # Asquith\n",
    "people_df.loc[3676,:].parties = {('1890-04-10','1945-01-12'): 'Liberal'} # Lloyd George\n",
    "people_df.loc[8686,:].parties = {('1900-10-01','1923-10-30'): 'Conservative'} # Bonar Law\n",
    "people_df.loc[8729,:].parties = {('1908-02-29','1937-06-01'): 'Conservative'} # Baldwin\n",
    "people_df.loc[8690,:].parties = {('1906-01-12','1937-11-09'): 'Labour'} # MacDonald\n",
    "people_df.loc[9034,:].parties = {('1918-12-14','1940-11-09'): 'Conservative'} # Chamberlain\n",
    "people_df.loc[9628,:].parties = {('1900-10-01','1964-09-25'):'Conservative'} # Churchill \n",
    "people_df.loc[4517,:].parties = {('1922-11-15','1955-12-16'):'Labour'} # Attlee\n",
    "people_df.loc[5282,:].parties = {('1923-12-06','1957-01-11'):'Conservative'} # Eden\n",
    "people_df.loc[6261,:].parties = {('1924-10-29','1964-09-25'):'Conservative'} # Macmillan\n",
    "people_df.loc[5205,:].parties = {('1931-10-27','1974-09-20'):'Conservative'} # Douglas-Home\n",
    "people_df.loc[9917,:].parties = {('1945-07-05','1983-05-13'):'Labour'} # Wilson\n",
    "people_df.loc[269,:].parties = {('1950-02-23','2001-05-14'):'Conservative'} # Heath\n",
    "people_df.loc[1688,:].parties = {('1945-07-05','1987-05-18'):'Labour'} # Callaghan\n",
    "people_df.loc[1026,:].parties = {('1959-10-08','2013-04-08'):'Conservative'} # Thatcher\n",
    "people_df.loc[407,:].parties = {('1979-05-03','2001-05-14'):'Conservative'} # Major\n",
    "people_df.loc[46,:].parties = {('1983-06-09','2007-06-27'):'Labour'} # Blair\n",
    "people_df.loc[67,:].parties = {('1983-06-09','2015-03-30'):'Labour'} # Brown\n",
    "people_df.loc[689,:].parties = {('2001-06-07','2016-09-12'):'Conservative'} # Cameron\n",
    "people_df.loc[425,:].parties = {('1997-05-01','2022-05-26'):'Conservative'} # May\n",
    "people_df.loc[722,:].parties = {('2001-06-07','2022-05-26'):'Conservative'} # Johnson"
   ]
  },
  {
   "cell_type": "code",
   "execution_count": 10,
   "id": "dcabbb8f",
   "metadata": {
    "execution": {
     "iopub.execute_input": "2025-10-03T21:00:24.037050Z",
     "iopub.status.busy": "2025-10-03T21:00:24.036843Z",
     "iopub.status.idle": "2025-10-03T21:00:24.134330Z",
     "shell.execute_reply": "2025-10-03T21:00:24.134029Z"
    },
    "papermill": {
     "duration": 0.11269,
     "end_time": "2025-10-03T21:00:24.135192",
     "exception": false,
     "start_time": "2025-10-03T21:00:24.022502",
     "status": "completed"
    },
    "tags": []
   },
   "outputs": [],
   "source": [
    "people_df.to_csv('people.csv')"
   ]
  }
 ],
 "metadata": {
  "kernelspec": {
   "display_name": "Python 3",
   "language": "python",
   "name": "python3"
  },
  "language_info": {
   "codemirror_mode": {
    "name": "ipython",
    "version": 3
   },
   "file_extension": ".py",
   "mimetype": "text/x-python",
   "name": "python",
   "nbconvert_exporter": "python",
   "pygments_lexer": "ipython3",
   "version": "3.13.7"
  },
  "papermill": {
   "default_parameters": {},
   "duration": 84.218864,
   "end_time": "2025-10-03T21:00:26.771076",
   "environment_variables": {},
   "exception": null,
   "input_path": "hansard-in-full/mps_data.ipynb",
   "output_path": "hansard-in-full/mps_data.out.ipynb",
   "parameters": {},
   "start_time": "2025-10-03T20:59:02.552212",
   "version": "2.6.0"
  }
 },
 "nbformat": 4,
 "nbformat_minor": 5
}