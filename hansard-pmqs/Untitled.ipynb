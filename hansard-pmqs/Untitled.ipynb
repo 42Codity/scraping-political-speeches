{
 "cells": [
  {
   "cell_type": "code",
   "execution_count": 1,
   "id": "fbab4668",
   "metadata": {},
   "outputs": [],
   "source": [
    "import pandas as pd"
   ]
  },
  {
   "cell_type": "code",
   "execution_count": 7,
   "id": "dc2183cf",
   "metadata": {},
   "outputs": [],
   "source": [
    "pmqs = pd.read_csv('hansard_pmqs.csv')\n",
    "pmqs = pmqs.drop('Unnamed: 0',axis=1)\n",
    "pmqs = pmqs[pmqs.date >= '1945-01-01']"
   ]
  },
  {
   "cell_type": "code",
   "execution_count": 31,
   "id": "4f6a41b4",
   "metadata": {},
   "outputs": [
    {
     "data": {
      "text/plain": [
       "19"
      ]
     },
     "execution_count": 31,
     "metadata": {},
     "output_type": "execute_result"
    }
   ],
   "source": [
    "pmqs.apply(lambda row: \" \".join([str(row.answerer_firstname),str(row.answerer_familyname)]), axis=1).unique().__len__()"
   ]
  },
  {
   "cell_type": "code",
   "execution_count": 32,
   "id": "63bc47c2",
   "metadata": {},
   "outputs": [
    {
     "data": {
      "text/plain": [
       "2199"
      ]
     },
     "execution_count": 32,
     "metadata": {},
     "output_type": "execute_result"
    }
   ],
   "source": [
    "pmqs.apply(lambda row: \" \".join([str(row.questioner_firstname),str(row.questioner_familyname)]), axis=1).unique().__len__()"
   ]
  },
  {
   "cell_type": "code",
   "execution_count": 35,
   "id": "765bec91",
   "metadata": {},
   "outputs": [
    {
     "data": {
      "text/plain": [
       "1806"
      ]
     },
     "execution_count": 35,
     "metadata": {},
     "output_type": "execute_result"
    }
   ],
   "source": [
    "len(pmqs.date.unique())"
   ]
  },
  {
   "cell_type": "code",
   "execution_count": 41,
   "id": "f2677ff8",
   "metadata": {},
   "outputs": [
    {
     "data": {
      "text/plain": [
       "64.36486202365309"
      ]
     },
     "execution_count": 41,
     "metadata": {},
     "output_type": "execute_result"
    }
   ],
   "source": [
    "pmqs.question_text.apply(lambda x: len(str(x).split(\" \"))).mean()"
   ]
  },
  {
   "cell_type": "code",
   "execution_count": 40,
   "id": "5ea3f75a",
   "metadata": {},
   "outputs": [
    {
     "data": {
      "text/plain": [
       "81.90654402102497"
      ]
     },
     "execution_count": 40,
     "metadata": {},
     "output_type": "execute_result"
    }
   ],
   "source": [
    "pmqs.answer_text.apply(lambda x: len(x.split(\" \"))).mean()"
   ]
  },
  {
   "cell_type": "code",
   "execution_count": 51,
   "id": "fdab52d1",
   "metadata": {},
   "outputs": [],
   "source": [
    "pmqs_agg = pd.read_csv('../hansard-pmqs/hansard_pmqs.csv')\n",
    "pmqs_agg.date = pd.to_datetime(pmqs_agg.date)\n",
    "pmqs_agg = pmqs_agg[pmqs_agg.date>='1945-01-01']\n",
    "pmqs_agg = pd.DataFrame({'date':pmqs_agg.groupby(by='date').answer_text.aggregate(lambda x: ''.join(x)).index,\n",
    "                     'question_text':pmqs_agg.groupby(by='date').question_text.aggregate(lambda x: ' '.join(str(x))),\n",
    "                     'questioner_party':pmqs_agg.groupby(by='date').questioner_party.aggregate(lambda x: x.mode()),\n",
    "                     'questioner_name':pmqs_agg.groupby(by='date').questioner_name.aggregate(lambda x: x.mode()),                        \n",
    "                     'answer_text':pmqs_agg.groupby(by='date').answer_text.aggregate(lambda x: ' '.join(x)),\n",
    "                     'answerer_party':pmqs_agg.groupby(by='date').answerer_party.aggregate(lambda x: x.mode()),\n",
    "                     'answerer_name':pmqs_agg.groupby(by='date').answerer_name.aggregate(lambda x: x.mode())})"
   ]
  },
  {
   "cell_type": "code",
   "execution_count": 52,
   "id": "8cd19fa1",
   "metadata": {},
   "outputs": [
    {
     "data": {
      "text/plain": [
       "1505.6411960132891"
      ]
     },
     "execution_count": 52,
     "metadata": {},
     "output_type": "execute_result"
    }
   ],
   "source": [
    "pmqs_agg.question_text.apply(lambda x: len(str(x).split(\" \"))).mean()"
   ]
  },
  {
   "cell_type": "code",
   "execution_count": 53,
   "id": "262aeef5",
   "metadata": {},
   "outputs": [
    {
     "data": {
      "text/plain": [
       "1725.6611295681064"
      ]
     },
     "execution_count": 53,
     "metadata": {},
     "output_type": "execute_result"
    }
   ],
   "source": [
    "pmqs_agg.answer_text.apply(lambda x: len(x.split(\" \"))).mean()"
   ]
  }
 ],
 "metadata": {
  "kernelspec": {
   "display_name": "Python 3",
   "language": "python",
   "name": "python3"
  },
  "language_info": {
   "codemirror_mode": {
    "name": "ipython",
    "version": 3
   },
   "file_extension": ".py",
   "mimetype": "text/x-python",
   "name": "python",
   "nbconvert_exporter": "python",
   "pygments_lexer": "ipython3",
   "version": "3.8.11"
  }
 },
 "nbformat": 4,
 "nbformat_minor": 5
}
