{
 "cells": [
  {
   "cell_type": "code",
   "execution_count": 1,
   "id": "035a010e",
   "metadata": {},
   "outputs": [],
   "source": [
    "from PIL import Image\n",
    "import pytesseract\n",
    "import requests\n",
    "\n",
    "# If you don't have tesseract executable in your PATH, include the following:\n",
    "pytesseract.pytesseract.tesseract_cmd = r'C:\\Program Files\\Tesseract-OCR\\tesseract'"
   ]
  },
  {
   "cell_type": "code",
   "execution_count": 22,
   "id": "945ac0ed",
   "metadata": {},
   "outputs": [],
   "source": [
    "url = \"https://images.electionleaflets.org/leaflets/polimg2022-433.jpg\"\n",
    "img = Image.open(requests.get(url, stream=True).raw)\n",
    "img = img.rotate(-90)"
   ]
  },
  {
   "cell_type": "code",
   "execution_count": 23,
   "id": "365667e2",
   "metadata": {},
   "outputs": [
    {
     "name": "stdout",
     "output_type": "stream",
     "text": [
      "As the time comes to receive your postal vote |\n",
      "would like to thawk You for the honour of\n",
      "representing those of you tw the old South ward for\n",
      "the past 5 years and seek the support of everyone\n",
      "in the wew enlarged ward for the next 5 years.\n",
      "\n",
      "| say new ward deliberately as boundary changes\n",
      "have combined the previous South ward with\n",
      "East/West tnto a wew 2 member ward so as well as\n",
      "seeking support for myself | would Like to\n",
      "introduce Josie Ewing to you and ask You to\n",
      "support her as well.\n",
      "\n",
      "Josie ts part of a group of wew Welsh Lib Dem\n",
      "candidates who have been learning from current\n",
      "councillors over the past year, gaining aw\n",
      "understanding of council functions ana\n",
      "procedures and what it is Like to take on the duties\n",
      "of a County Councillor. As a result, she will be able\n",
      "to be working as an active councillor from day\n",
      "one.\n",
      "\n",
      "\n"
     ]
    }
   ],
   "source": [
    "print(pytesseract.image_to_string(img))"
   ]
  },
  {
   "cell_type": "code",
   "execution_count": 2,
   "id": "15f3ba0b",
   "metadata": {},
   "outputs": [
    {
     "name": "stdout",
     "output_type": "stream",
     "text": [
      "Dawn McGuinness\n",
      "Conwy Council needs fresh faces who are part of the community and who will put our\n",
      "community fist. | have lived on the Great Orme for over 20 years and Im proud to live in a\n",
      "such a beautiful place like Llandudno. As a working Mum though, | understand things are\n",
      "far from easy, whether that's secure jobs oF affordable houses - people are struggling. As 3\n",
      "school governor | have seen first hand the negative effects of the underfunding of our\n",
      "children's schools by the Conservative led council who keep reducing services whilst atthe\n",
      "same time imposing inflation busting council tax increases. This needs to change. | will fight\n",
      "for better public services that will benefit everyone in Llandudno. We can do better and we\n",
      "must do beter\n",
      "\n",
      "Mandy Hawkins\n",
      "We lived in Llandudno for 20 years and raised three 4 d\n",
      "beautiful daughters with my husband David to ie epee\n",
      "whom Ive been married to for 28 years. Fairness\n",
      "and equality for all are values | believe in. lam hard\n",
      "working, approachable and someone who is not\n",
      "afraid to speak up and challenge those in power to\n",
      "\n",
      "1Tackle loneliness, isolation, health\n",
      "\n",
      "Eaters Fe do what is right and best for our communities. |\n",
      "pte make 2 promise to you that | would work tirelessly\n",
      "_ pa \" - for | 1 2ll constituents in our ward and be your voice\n",
      "vefure saueation and wainng for J when needed. | feel very fortunate that for the last i\n",
      "all ages\n",
      "\n",
      "three years and despite the pandemic | have run\n",
      "and grown a small business which has created five\n",
      "jobs for local people paying a rate above the real\n",
      "living wage.\n",
      "\n",
      "4. Build council houses for local people\n",
      "S.lmprove parks, beaches and\n",
      "playgrounds, including more public\n",
      "toilets\n",
      "\n",
      "te by Daan McGinces 8 Ageia Ger Ome Lue 30 208 a ied Hales\n",
      "\n",
      "\n"
     ]
    }
   ],
   "source": [
    "print(pytesseract.image_to_string(Image.open('dawn_mcguinness.jpg')))"
   ]
  }
 ],
 "metadata": {
  "kernelspec": {
   "display_name": "Python 3",
   "language": "python",
   "name": "python3"
  },
  "language_info": {
   "codemirror_mode": {
    "name": "ipython",
    "version": 3
   },
   "file_extension": ".py",
   "mimetype": "text/x-python",
   "name": "python",
   "nbconvert_exporter": "python",
   "pygments_lexer": "ipython3",
   "version": "3.8.11"
  }
 },
 "nbformat": 4,
 "nbformat_minor": 5
}
