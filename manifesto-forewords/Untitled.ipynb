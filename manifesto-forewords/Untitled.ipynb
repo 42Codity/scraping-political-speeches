{
 "cells": [
  {
   "cell_type": "code",
   "execution_count": 13,
   "id": "c078a5bb",
   "metadata": {},
   "outputs": [],
   "source": [
    "import pandas as pd\n",
    "import numpy as np"
   ]
  },
  {
   "cell_type": "code",
   "execution_count": 14,
   "id": "58e3b798",
   "metadata": {},
   "outputs": [],
   "source": [
    "manifestos = pd.read_csv('manifestos.csv')\n",
    "manifestos.year = pd.to_datetime(manifestos.year)\n",
    "manifestos = manifestos[manifestos.year>='1945-01-01']"
   ]
  },
  {
   "cell_type": "code",
   "execution_count": 15,
   "id": "3fb6b25f",
   "metadata": {},
   "outputs": [
    {
     "data": {
      "text/plain": [
       "595.921052631579"
      ]
     },
     "execution_count": 15,
     "metadata": {},
     "output_type": "execute_result"
    }
   ],
   "source": [
    "manifestos.foreword.apply(lambda x:len(x.split(' '))).mean()"
   ]
  },
  {
   "cell_type": "code",
   "execution_count": 19,
   "id": "d8df9de0",
   "metadata": {},
   "outputs": [
    {
     "data": {
      "text/plain": [
       "624.8571428571429"
      ]
     },
     "execution_count": 19,
     "metadata": {},
     "output_type": "execute_result"
    }
   ],
   "source": [
    "lab_man = manifestos[manifestos.party=='LAB']\n",
    "lab_man.foreword.apply(lambda x:len(x.split(' '))).mean()"
   ]
  },
  {
   "cell_type": "code",
   "execution_count": 20,
   "id": "5eb02d83",
   "metadata": {},
   "outputs": [
    {
     "data": {
      "text/plain": [
       "702.5238095238095"
      ]
     },
     "execution_count": 20,
     "metadata": {},
     "output_type": "execute_result"
    }
   ],
   "source": [
    "con_man = manifestos[manifestos.party=='CON']\n",
    "con_man.foreword.apply(lambda x:len(x.split(' '))).mean()"
   ]
  },
  {
   "cell_type": "code",
   "execution_count": 21,
   "id": "3a529610",
   "metadata": {},
   "outputs": [
    {
     "data": {
      "text/plain": [
       "601.8095238095239"
      ]
     },
     "execution_count": 21,
     "metadata": {},
     "output_type": "execute_result"
    }
   ],
   "source": [
    "lib_man = manifestos[manifestos.party=='LIB']\n",
    "lib_man.foreword.apply(lambda x:len(x.split(' '))).mean()"
   ]
  }
 ],
 "metadata": {
  "kernelspec": {
   "display_name": "Python 3",
   "language": "python",
   "name": "python3"
  },
  "language_info": {
   "codemirror_mode": {
    "name": "ipython",
    "version": 3
   },
   "file_extension": ".py",
   "mimetype": "text/x-python",
   "name": "python",
   "nbconvert_exporter": "python",
   "pygments_lexer": "ipython3",
   "version": "3.8.11"
  }
 },
 "nbformat": 4,
 "nbformat_minor": 5
}
